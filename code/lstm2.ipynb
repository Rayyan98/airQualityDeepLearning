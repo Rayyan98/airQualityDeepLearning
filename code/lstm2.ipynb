{
 "cells": [
  {
   "cell_type": "code",
   "execution_count": 3,
   "metadata": {},
   "outputs": [],
   "source": [
    "import pandas as pd\n",
    "import numpy as np\n",
    "import matplotlib.pyplot as plt\n",
    "import mxnet \n",
    "from mxnet.gluon import *\n"
   ]
  },
  {
   "cell_type": "code",
   "execution_count": null,
   "metadata": {},
   "outputs": [],
   "source": [
    "finalData = pd.read_csv('../data/ReadyData.csv')\n"
   ]
  },
  {
   "cell_type": "code",
   "execution_count": null,
   "metadata": {},
   "outputs": [],
   "source": [
    "finalData.info()"
   ]
  },
  {
   "cell_type": "code",
   "execution_count": null,
   "metadata": {},
   "outputs": [],
   "source": [
    "finalData.head()"
   ]
  },
  {
   "cell_type": "code",
   "execution_count": null,
   "metadata": {},
   "outputs": [],
   "source": [
    "lst = [\"datetime\"] + list(finalData.columns)[1:]\n",
    "lst"
   ]
  },
  {
   "cell_type": "code",
   "execution_count": null,
   "metadata": {},
   "outputs": [],
   "source": [
    "finalData.columns = lst"
   ]
  },
  {
   "cell_type": "code",
   "execution_count": null,
   "metadata": {},
   "outputs": [],
   "source": [
    "finalData.head()"
   ]
  },
  {
   "cell_type": "code",
   "execution_count": null,
   "metadata": {},
   "outputs": [],
   "source": [
    "len(finalData[finalData.year == 2017].month.unique()) #no of months in 2017\n",
    "len(finalData[finalData.year == 2018].month.unique()) #no of months in 2018"
   ]
  },
  {
   "cell_type": "code",
   "execution_count": null,
   "metadata": {},
   "outputs": [],
   "source": [
    "finalData[finalData.year == 2017].info() #no of values in 2017\n",
    "finalData[finalData.year == 2018].info() #no of values in 2018"
   ]
  },
  {
   "cell_type": "code",
   "execution_count": null,
   "metadata": {},
   "outputs": [],
   "source": [
    "#we have data for a total of 20 months, let's train (roughly) for 16 months, and test for the remaining 4.\n",
    "\n",
    "trainData = finalData[:30*16*24]\n",
    "testData = finalData[30*16*24:]\n",
    "trainData.info()\n",
    "testData.info()\n",
    "finalData.tail()"
   ]
  },
  {
   "cell_type": "code",
   "execution_count": null,
   "metadata": {},
   "outputs": [],
   "source": [
    "\"\"\"\n",
    "Train = trainData.shape\n",
    "tau = 5\n",
    "features = np.zeros((Train[0]-tau, tau*Train[1]-1))\n",
    "features = pd.DataFrame(features)\n",
    "print(features.shape)\n",
    "for i in range(tau):\n",
    "    features[:, i*Train[1]:(i+1)*Train[1]] = trainData[i:Train[0]-tau]\n",
    "print(features)\n",
    "\"\"\""
   ]
  },
  {
   "cell_type": "code",
   "execution_count": null,
   "metadata": {},
   "outputs": [],
   "source": [
    "finalData.drop(\"datetime\", axis = 1, inplace = True)"
   ]
  },
  {
   "cell_type": "code",
   "execution_count": null,
   "metadata": {},
   "outputs": [],
   "source": [
    "\n",
    "\n",
    "#finalData.drop(\"PM2.5\", axis = 1, inplace = True)"
   ]
  },
  {
   "cell_type": "code",
   "execution_count": null,
   "metadata": {},
   "outputs": [],
   "source": [
    "mean = finalData.mean()\n",
    "min = finalData.min()\n",
    "max = finalData.max()\n",
    "finalData = finalData.apply(lambda x: (x - np.mean(x)) / (np.std(x)))"
   ]
  },
  {
   "cell_type": "code",
   "execution_count": null,
   "metadata": {},
   "outputs": [],
   "source": [
    "name = list(finalData.columns)\n",
    "cols, names = list(), list()\n",
    "for i in range(7, 0, -1): #24 times steps\n",
    "    cols.append(finalData.shift(i))\n",
    "    names += [('%s(t-%d)' % (name[j], i)) for j in range(finalData.shape[1])]\n",
    "#cols.append(finalData.shift(-i))\n",
    "#names += [('%s(t)' % (name[j])) for j in range(finalData.shape[1])]\n",
    "finalDataset = pd.concat(cols, axis=1)\n",
    "finalDataset.columns = names\n",
    "finalDataset = finalDataset[7:]\n",
    "labels = finalData[\"PM2.5\"]\n",
    "display(finalDataset.head())\n",
    "#labels = finalDataset[\"PM2.5(t)\"]\n",
    "#finalDataset.drop(\"PM2.5(t)\", axis = 1, inplace = True)\n",
    "#display(finalDataset)"
   ]
  },
  {
   "cell_type": "code",
   "execution_count": null,
   "metadata": {},
   "outputs": [],
   "source": [
    "#finalDataset = finalDataset[:8000]\n",
    "finalDataset.reset_index(drop = True)\n",
    "finalDataset = finalDataset[:-1]\n",
    "labels = labels[:-1]\n",
    "#we have data for a total of 20 months, let's train (roughly) for 16 months, and test for the remaining 4.\n",
    "trainDataX = finalDataset[:30*16*24]\n",
    "testDataX = finalDataset[30*16*24:]\n",
    "trainDataY = labels[:30*16*24]\n",
    "testDataY = labels[30*16*24:]\n",
    "\n",
    "#trainData.info()\n",
    "#testData.info()\n"
   ]
  },
  {
   "cell_type": "code",
   "execution_count": null,
   "metadata": {},
   "outputs": [],
   "source": [
    "finalDataset.info()"
   ]
  },
  {
   "cell_type": "code",
   "execution_count": null,
   "metadata": {},
   "outputs": [],
   "source": [
    "from mxnet import nd\n",
    "finalDataset = nd.array(finalDataset).reshape(-1, 7, 13)\n",
    "trainDataX = nd.array(trainDataX).reshape(-1, 7, 13)\n",
    "testDataX = nd.array(testDataX).reshape(-1, 7, 13)"
   ]
  },
  {
   "cell_type": "code",
   "execution_count": null,
   "metadata": {},
   "outputs": [],
   "source": [
    "trainDataY = nd.array(trainDataY)\n",
    "testDataY = nd.array(testDataY)"
   ]
  },
  {
   "cell_type": "code",
   "execution_count": null,
   "metadata": {},
   "outputs": [],
   "source": [
    "model = mxnet.gluon.nn.Sequential()\n",
    "model.add(mxnet.gluon.rnn.LSTM(13, 1, dropout = 0.2))\n",
    "#model.add(mxnet.gluon.rnn.LSTM(30, 1, dropout = 0.2))\n",
    "#model.add(mxnet.gluon.rnn.LSTM(10, 1, dropout = 0.2))\n",
    "model.add(mxnet.gluon.nn.Dense(1, activation='tanh'))\n",
    "\n",
    "model.initialize(mxnet.init.Xavier())\n",
    "\n",
    "trainer = mxnet.gluon.Trainer(\n",
    "    params=model.collect_params(),\n",
    "    optimizer='adam',\n",
    "    optimizer_params={'learning_rate': 0.05}\n",
    ")"
   ]
  },
  {
   "cell_type": "code",
   "execution_count": null,
   "metadata": {},
   "outputs": [],
   "source": [
    "loss = mxnet.gluon.loss.L2Loss()\n",
    "error = mxnet.metric.MSE()"
   ]
  },
  {
   "cell_type": "code",
   "execution_count": null,
   "metadata": {},
   "outputs": [],
   "source": [
    "epochs = 10\n",
    "trainingLoss = []\n",
    "train_iter = mxnet.io.NDArrayIter(trainDataX, trainDataY, 12, shuffle=True)\n",
    "for epoch in range(epochs):\n",
    "    for trn_batch in train_iter:\n",
    "        x = trn_batch.data[0]\n",
    "        y = trn_batch.label[0]\n",
    "        \n",
    "        with mxnet.autograd.record():\n",
    "            y_pred = model(x)\n",
    "            im_loss = loss(y_pred, y)\n",
    "        \n",
    "        #backprop\n",
    "        im_loss.backward()\n",
    "        \n",
    "        #Optimize!\n",
    "        trainer.step(batch_size=12)\n",
    "        \n",
    "    train_iter.reset()\n",
    "    \n",
    "    # Calculate train metrics\n",
    "    \n",
    "    predictions = model(trainDataX)\n",
    "    error.update(trainDataY, predictions)\n",
    "    trainingLoss.append(error.get()[1])\n",
    "    error.reset()\n",
    "    \n",
    "    train_iter.reset()\n",
    "    \n",
    "    print(\"epoch: {} | trn_loss: {:.8f}\".format(epoch+1,\n",
    "                                                trainingLoss[-1]))\n"
   ]
  },
  {
   "cell_type": "code",
   "execution_count": null,
   "metadata": {},
   "outputs": [],
   "source": [
    "print(y_pred)"
   ]
  },
  {
   "cell_type": "code",
   "execution_count": null,
   "metadata": {},
   "outputs": [],
   "source": [
    "predictions = model(testDataX)\n",
    "plt.plot(testDataY[:100].asnumpy(), label = 'actual')\n",
    "plt.plot(predictions[:100].asnumpy())\n",
    "plt.legend()\n"
   ]
  },
  {
   "cell_type": "code",
   "execution_count": null,
   "metadata": {},
   "outputs": [],
   "source": []
  },
  {
   "cell_type": "code",
   "execution_count": null,
   "metadata": {},
   "outputs": [],
   "source": []
  }
 ],
 "metadata": {
  "kernelspec": {
   "display_name": "Python 3",
   "language": "python",
   "name": "python3"
  },
  "language_info": {
   "codemirror_mode": {
    "name": "ipython",
    "version": 3
   },
   "file_extension": ".py",
   "mimetype": "text/x-python",
   "name": "python",
   "nbconvert_exporter": "python",
   "pygments_lexer": "ipython3",
   "version": "3.7.4"
  }
 },
 "nbformat": 4,
 "nbformat_minor": 4
}
