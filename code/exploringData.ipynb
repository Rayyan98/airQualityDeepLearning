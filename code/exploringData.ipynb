{
 "cells": [
  {
   "cell_type": "code",
   "execution_count": 9,
   "metadata": {},
   "outputs": [],
   "source": [
    "import pandas as pd"
   ]
  },
  {
   "cell_type": "code",
   "execution_count": 14,
   "metadata": {},
   "outputs": [],
   "source": [
    "dataset1 = '../data/AirVisual Data Dump.csv'\n",
    "dataset2 = '../data/airportdata.csv'"
   ]
  },
  {
   "cell_type": "code",
   "execution_count": 15,
   "metadata": {},
   "outputs": [],
   "source": [
    "#loading data\n",
    "data = pd.read_csv(dataset1)\n"
   ]
  },
  {
   "cell_type": "code",
   "execution_count": 16,
   "metadata": {},
   "outputs": [
    {
     "data": {
      "text/html": [
       "<div>\n",
       "<style scoped>\n",
       "    .dataframe tbody tr th:only-of-type {\n",
       "        vertical-align: middle;\n",
       "    }\n",
       "\n",
       "    .dataframe tbody tr th {\n",
       "        vertical-align: top;\n",
       "    }\n",
       "\n",
       "    .dataframe thead th {\n",
       "        text-align: right;\n",
       "    }\n",
       "</style>\n",
       "<table border=\"1\" class=\"dataframe\">\n",
       "  <thead>\n",
       "    <tr style=\"text-align: right;\">\n",
       "      <th></th>\n",
       "      <th>SerialNumber</th>\n",
       "      <th>City</th>\n",
       "      <th>Name</th>\n",
       "      <th>longitude</th>\n",
       "      <th>latitude</th>\n",
       "      <th>FirstOnline</th>\n",
       "      <th>Datetime</th>\n",
       "      <th>PM2.5</th>\n",
       "      <th>USAQI</th>\n",
       "      <th>CO2</th>\n",
       "      <th>Temperature</th>\n",
       "      <th>RelativeHumidity</th>\n",
       "      <th>Outdoor PM2.5</th>\n",
       "      <th>OutdoorUSAQI</th>\n",
       "    </tr>\n",
       "  </thead>\n",
       "  <tbody>\n",
       "    <tr>\n",
       "      <th>0</th>\n",
       "      <td>4ypxth4</td>\n",
       "      <td>Karachi</td>\n",
       "      <td>Defence Housing Authority</td>\n",
       "      <td>67.052941</td>\n",
       "      <td>24.818095</td>\n",
       "      <td>2016-10-20 18:00:00</td>\n",
       "      <td>2017-11-07 13:00:00</td>\n",
       "      <td>28.0</td>\n",
       "      <td>84</td>\n",
       "      <td>411.0</td>\n",
       "      <td>31.0</td>\n",
       "      <td>59.0</td>\n",
       "      <td>NaN</td>\n",
       "      <td>NaN</td>\n",
       "    </tr>\n",
       "    <tr>\n",
       "      <th>1</th>\n",
       "      <td>4ypxth4</td>\n",
       "      <td>Karachi</td>\n",
       "      <td>Defence Housing Authority</td>\n",
       "      <td>67.052941</td>\n",
       "      <td>24.818095</td>\n",
       "      <td>2016-10-20 18:00:00</td>\n",
       "      <td>2017-11-07 12:00:00</td>\n",
       "      <td>36.0</td>\n",
       "      <td>102</td>\n",
       "      <td>413.0</td>\n",
       "      <td>30.0</td>\n",
       "      <td>62.0</td>\n",
       "      <td>NaN</td>\n",
       "      <td>NaN</td>\n",
       "    </tr>\n",
       "    <tr>\n",
       "      <th>2</th>\n",
       "      <td>4ypxth4</td>\n",
       "      <td>Karachi</td>\n",
       "      <td>Defence Housing Authority</td>\n",
       "      <td>67.052941</td>\n",
       "      <td>24.818095</td>\n",
       "      <td>2016-10-20 18:00:00</td>\n",
       "      <td>2017-11-07 11:00:00</td>\n",
       "      <td>46.0</td>\n",
       "      <td>127</td>\n",
       "      <td>416.0</td>\n",
       "      <td>30.0</td>\n",
       "      <td>63.0</td>\n",
       "      <td>NaN</td>\n",
       "      <td>NaN</td>\n",
       "    </tr>\n",
       "    <tr>\n",
       "      <th>3</th>\n",
       "      <td>4ypxth4</td>\n",
       "      <td>Karachi</td>\n",
       "      <td>Defence Housing Authority</td>\n",
       "      <td>67.052941</td>\n",
       "      <td>24.818095</td>\n",
       "      <td>2016-10-20 18:00:00</td>\n",
       "      <td>2017-11-07 10:00:00</td>\n",
       "      <td>46.0</td>\n",
       "      <td>127</td>\n",
       "      <td>419.0</td>\n",
       "      <td>29.0</td>\n",
       "      <td>58.0</td>\n",
       "      <td>NaN</td>\n",
       "      <td>NaN</td>\n",
       "    </tr>\n",
       "    <tr>\n",
       "      <th>4</th>\n",
       "      <td>4ypxth4</td>\n",
       "      <td>Karachi</td>\n",
       "      <td>Defence Housing Authority</td>\n",
       "      <td>67.052941</td>\n",
       "      <td>24.818095</td>\n",
       "      <td>2016-10-20 18:00:00</td>\n",
       "      <td>2017-11-07 09:00:00</td>\n",
       "      <td>88.0</td>\n",
       "      <td>168</td>\n",
       "      <td>432.0</td>\n",
       "      <td>27.0</td>\n",
       "      <td>70.0</td>\n",
       "      <td>NaN</td>\n",
       "      <td>NaN</td>\n",
       "    </tr>\n",
       "  </tbody>\n",
       "</table>\n",
       "</div>"
      ],
      "text/plain": [
       "  SerialNumber     City                       Name  longitude   latitude  \\\n",
       "0      4ypxth4  Karachi  Defence Housing Authority  67.052941  24.818095   \n",
       "1      4ypxth4  Karachi  Defence Housing Authority  67.052941  24.818095   \n",
       "2      4ypxth4  Karachi  Defence Housing Authority  67.052941  24.818095   \n",
       "3      4ypxth4  Karachi  Defence Housing Authority  67.052941  24.818095   \n",
       "4      4ypxth4  Karachi  Defence Housing Authority  67.052941  24.818095   \n",
       "\n",
       "           FirstOnline             Datetime  PM2.5  USAQI    CO2  Temperature  \\\n",
       "0  2016-10-20 18:00:00  2017-11-07 13:00:00   28.0     84  411.0         31.0   \n",
       "1  2016-10-20 18:00:00  2017-11-07 12:00:00   36.0    102  413.0         30.0   \n",
       "2  2016-10-20 18:00:00  2017-11-07 11:00:00   46.0    127  416.0         30.0   \n",
       "3  2016-10-20 18:00:00  2017-11-07 10:00:00   46.0    127  419.0         29.0   \n",
       "4  2016-10-20 18:00:00  2017-11-07 09:00:00   88.0    168  432.0         27.0   \n",
       "\n",
       "   RelativeHumidity  Outdoor PM2.5  OutdoorUSAQI  \n",
       "0              59.0            NaN           NaN  \n",
       "1              62.0            NaN           NaN  \n",
       "2              63.0            NaN           NaN  \n",
       "3              58.0            NaN           NaN  \n",
       "4              70.0            NaN           NaN  "
      ]
     },
     "execution_count": 16,
     "metadata": {},
     "output_type": "execute_result"
    }
   ],
   "source": [
    "#peeking into the data\n",
    "data.head()"
   ]
  },
  {
   "cell_type": "code",
   "execution_count": 17,
   "metadata": {},
   "outputs": [
    {
     "data": {
      "text/plain": [
       "['SerialNumber',\n",
       " 'City',\n",
       " 'Name',\n",
       " 'longitude',\n",
       " 'latitude',\n",
       " 'FirstOnline',\n",
       " 'Datetime',\n",
       " 'PM2.5',\n",
       " 'USAQI',\n",
       " 'CO2',\n",
       " 'Temperature',\n",
       " 'RelativeHumidity',\n",
       " 'Outdoor PM2.5',\n",
       " 'OutdoorUSAQI']"
      ]
     },
     "execution_count": 17,
     "metadata": {},
     "output_type": "execute_result"
    }
   ],
   "source": [
    "#columns\n",
    "list(data.columns)"
   ]
  },
  {
   "cell_type": "code",
   "execution_count": 18,
   "metadata": {},
   "outputs": [
    {
     "data": {
      "text/plain": [
       "(179749, 14)"
      ]
     },
     "execution_count": 18,
     "metadata": {},
     "output_type": "execute_result"
    }
   ],
   "source": [
    "#shape of data\n",
    "data.shape"
   ]
  },
  {
   "cell_type": "code",
   "execution_count": 21,
   "metadata": {},
   "outputs": [
    {
     "data": {
      "text/plain": [
       "SerialNumber        14961\n",
       "City                62132\n",
       "Name                    0\n",
       "longitude           62132\n",
       "latitude            62132\n",
       "FirstOnline         62132\n",
       "Datetime                0\n",
       "PM2.5                   0\n",
       "USAQI                   0\n",
       "CO2                 14961\n",
       "Temperature          1499\n",
       "RelativeHumidity     1499\n",
       "Outdoor PM2.5       58910\n",
       "OutdoorUSAQI        58910\n",
       "dtype: int64"
      ]
     },
     "execution_count": 21,
     "metadata": {},
     "output_type": "execute_result"
    }
   ],
   "source": [
    "#null values by column\n",
    "data.isna().sum()"
   ]
  },
  {
   "cell_type": "code",
   "execution_count": 22,
   "metadata": {},
   "outputs": [
    {
     "data": {
      "text/plain": [
       "0"
      ]
     },
     "execution_count": 22,
     "metadata": {},
     "output_type": "execute_result"
    }
   ],
   "source": [
    "#null values in Datetime: 0\n",
    "data[\"Datetime\"].isna().sum()"
   ]
  },
  {
   "cell_type": "code",
   "execution_count": 23,
   "metadata": {},
   "outputs": [
    {
     "data": {
      "text/plain": [
       "62132"
      ]
     },
     "execution_count": 23,
     "metadata": {},
     "output_type": "execute_result"
    }
   ],
   "source": [
    "#null values in City:\n",
    "data[\"City\"].isna().sum()"
   ]
  },
  {
   "cell_type": "code",
   "execution_count": 24,
   "metadata": {},
   "outputs": [],
   "source": [
    "#filling null values in city with Karachi\n",
    "data[\"City\"].fillna(\"Karachi\", inplace = True)"
   ]
  },
  {
   "cell_type": "code",
   "execution_count": 26,
   "metadata": {},
   "outputs": [
    {
     "data": {
      "text/plain": [
       "SerialNumber        14961\n",
       "City                    0\n",
       "Name                    0\n",
       "longitude           62132\n",
       "latitude            62132\n",
       "FirstOnline         62132\n",
       "Datetime                0\n",
       "PM2.5                   0\n",
       "USAQI                   0\n",
       "CO2                 14961\n",
       "Temperature          1499\n",
       "RelativeHumidity     1499\n",
       "Outdoor PM2.5       58910\n",
       "OutdoorUSAQI        58910\n",
       "dtype: int64"
      ]
     },
     "execution_count": 26,
     "metadata": {},
     "output_type": "execute_result"
    }
   ],
   "source": [
    "#null values by column again to verify that City has no null values\n",
    "data.isna().sum()"
   ]
  },
  {
   "cell_type": "markdown",
   "metadata": {},
   "source": [
    "## Key takeaways:\n",
    "1. Lat, Lon, and FirstOnLine has the same number of null values as City.\n",
    "2. What is FirstOnLine\n",
    "3. How to deal with 1? We treated City by replacing the nulls with Karachi but we can't do the same with the other three columns.\n",
    "4. How to deal with null values of the other columns, we could try replacing it with the mean perhaps? \n",
    "5. Both Outdoor PM2.5 and OutdootUSAQI have a considerable number of null values (around 60k), we will have to think of a good way to deal with these.\n"
   ]
  },
  {
   "cell_type": "code",
   "execution_count": 39,
   "metadata": {},
   "outputs": [
    {
     "data": {
      "text/plain": [
       "['2016-10-06 14:00:00',\n",
       " '2016-10-06 14:00:00',\n",
       " '2016-10-06 15:00:00',\n",
       " '2016-10-06 15:00:00',\n",
       " '2016-10-06 17:00:00',\n",
       " '2016-10-06 17:00:00',\n",
       " '2016-10-06 18:00:00',\n",
       " '2016-10-06 18:00:00',\n",
       " '2016-10-06 19:00:00',\n",
       " '2016-10-06 19:00:00']"
      ]
     },
     "metadata": {},
     "output_type": "display_data"
    },
    {
     "ename": "TypeError",
     "evalue": "'<' not supported between instances of 'float' and 'str'",
     "output_type": "error",
     "traceback": [
      "\u001b[0;31m---------------------------------------------------------------------------\u001b[0m",
      "\u001b[0;31mTypeError\u001b[0m                                 Traceback (most recent call last)",
      "\u001b[0;32m<ipython-input-39-683180507844>\u001b[0m in \u001b[0;36m<module>\u001b[0;34m\u001b[0m\n\u001b[1;32m      1\u001b[0m \u001b[0mdisplay\u001b[0m\u001b[0;34m(\u001b[0m\u001b[0msorted\u001b[0m\u001b[0;34m(\u001b[0m\u001b[0mdata\u001b[0m\u001b[0;34m[\u001b[0m\u001b[0;34m\"Datetime\"\u001b[0m\u001b[0;34m]\u001b[0m\u001b[0;34m)\u001b[0m\u001b[0;34m[\u001b[0m\u001b[0;34m:\u001b[0m\u001b[0;36m10\u001b[0m\u001b[0;34m]\u001b[0m\u001b[0;34m)\u001b[0m\u001b[0;34m\u001b[0m\u001b[0;34m\u001b[0m\u001b[0m\n\u001b[1;32m      2\u001b[0m \u001b[0;34m\u001b[0m\u001b[0m\n\u001b[0;32m----> 3\u001b[0;31m \u001b[0msorted\u001b[0m\u001b[0;34m(\u001b[0m\u001b[0mdata\u001b[0m\u001b[0;34m[\u001b[0m\u001b[0;34m\"FirstOnline\"\u001b[0m\u001b[0;34m]\u001b[0m\u001b[0;34m)\u001b[0m\u001b[0;34m\u001b[0m\u001b[0;34m\u001b[0m\u001b[0m\n\u001b[0m\u001b[1;32m      4\u001b[0m \u001b[0;34m\u001b[0m\u001b[0m\n",
      "\u001b[0;31mTypeError\u001b[0m: '<' not supported between instances of 'float' and 'str'"
     ]
    }
   ],
   "source": [
    "display(sorted(data[\"Datetime\"])[:10])\n",
    "\n"
   ]
  },
  {
   "cell_type": "code",
   "execution_count": null,
   "metadata": {},
   "outputs": [],
   "source": []
  }
 ],
 "metadata": {
  "kernelspec": {
   "display_name": "Python 3",
   "language": "python",
   "name": "python3"
  },
  "language_info": {
   "codemirror_mode": {
    "name": "ipython",
    "version": 3
   },
   "file_extension": ".py",
   "mimetype": "text/x-python",
   "name": "python",
   "nbconvert_exporter": "python",
   "pygments_lexer": "ipython3",
   "version": "3.7.3"
  }
 },
 "nbformat": 4,
 "nbformat_minor": 4
}
