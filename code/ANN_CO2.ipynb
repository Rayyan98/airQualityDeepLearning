{
 "cells": [
  {
   "cell_type": "code",
   "execution_count": 1,
   "metadata": {},
   "outputs": [],
   "source": [
    "import pandas as pd\n",
    "import mxnet as mx\n",
    "import random\n",
    "from mxnet import nd, gluon, init, autograd\n",
    "from mxnet.gluon import nn\n",
    "import time\n",
    "import matplotlib.pyplot as plt"
   ]
  },
  {
   "cell_type": "code",
   "execution_count": 2,
   "metadata": {},
   "outputs": [],
   "source": [
    "data = '../data/Left1.csv'"
   ]
  },
  {
   "cell_type": "code",
   "execution_count": 3,
   "metadata": {},
   "outputs": [],
   "source": [
    "df = pd.read_csv(data, index_col = 0)"
   ]
  },
  {
   "cell_type": "code",
   "execution_count": 4,
   "metadata": {},
   "outputs": [
    {
     "data": {
      "text/html": [
       "<div>\n",
       "<style scoped>\n",
       "    .dataframe tbody tr th:only-of-type {\n",
       "        vertical-align: middle;\n",
       "    }\n",
       "\n",
       "    .dataframe tbody tr th {\n",
       "        vertical-align: top;\n",
       "    }\n",
       "\n",
       "    .dataframe thead th {\n",
       "        text-align: right;\n",
       "    }\n",
       "</style>\n",
       "<table border=\"1\" class=\"dataframe\">\n",
       "  <thead>\n",
       "    <tr style=\"text-align: right;\">\n",
       "      <th></th>\n",
       "      <th>Source</th>\n",
       "      <th>Serial</th>\n",
       "      <th>City</th>\n",
       "      <th>Station</th>\n",
       "      <th>Latitude</th>\n",
       "      <th>Longitude</th>\n",
       "      <th>Datetime</th>\n",
       "      <th>PM</th>\n",
       "      <th>USAQI</th>\n",
       "      <th>CO2</th>\n",
       "      <th>Temperature</th>\n",
       "      <th>RelativeHumidity</th>\n",
       "      <th>weekday</th>\n",
       "      <th>hour</th>\n",
       "      <th>month</th>\n",
       "      <th>year</th>\n",
       "      <th>dayofmonth</th>\n",
       "    </tr>\n",
       "  </thead>\n",
       "  <tbody>\n",
       "    <tr>\n",
       "      <th>0</th>\n",
       "      <td>EPD</td>\n",
       "      <td>NaN</td>\n",
       "      <td>Lahore</td>\n",
       "      <td>Quaid-e-azam Township</td>\n",
       "      <td>NaN</td>\n",
       "      <td>NaN</td>\n",
       "      <td>2014-07-31 00:00:00</td>\n",
       "      <td>94.335</td>\n",
       "      <td>NaN</td>\n",
       "      <td>NaN</td>\n",
       "      <td>NaN</td>\n",
       "      <td>NaN</td>\n",
       "      <td>3</td>\n",
       "      <td>0</td>\n",
       "      <td>7</td>\n",
       "      <td>2014</td>\n",
       "      <td>31</td>\n",
       "    </tr>\n",
       "    <tr>\n",
       "      <th>1</th>\n",
       "      <td>EPD</td>\n",
       "      <td>NaN</td>\n",
       "      <td>Lahore</td>\n",
       "      <td>Town Hall</td>\n",
       "      <td>NaN</td>\n",
       "      <td>NaN</td>\n",
       "      <td>2014-07-31 00:00:00</td>\n",
       "      <td>93.620</td>\n",
       "      <td>NaN</td>\n",
       "      <td>NaN</td>\n",
       "      <td>NaN</td>\n",
       "      <td>NaN</td>\n",
       "      <td>3</td>\n",
       "      <td>0</td>\n",
       "      <td>7</td>\n",
       "      <td>2014</td>\n",
       "      <td>31</td>\n",
       "    </tr>\n",
       "    <tr>\n",
       "      <th>2</th>\n",
       "      <td>EPD</td>\n",
       "      <td>NaN</td>\n",
       "      <td>Lahore</td>\n",
       "      <td>Town Hall</td>\n",
       "      <td>NaN</td>\n",
       "      <td>NaN</td>\n",
       "      <td>2014-08-31 00:00:00</td>\n",
       "      <td>57.700</td>\n",
       "      <td>NaN</td>\n",
       "      <td>NaN</td>\n",
       "      <td>NaN</td>\n",
       "      <td>NaN</td>\n",
       "      <td>6</td>\n",
       "      <td>0</td>\n",
       "      <td>8</td>\n",
       "      <td>2014</td>\n",
       "      <td>31</td>\n",
       "    </tr>\n",
       "    <tr>\n",
       "      <th>3</th>\n",
       "      <td>EPD</td>\n",
       "      <td>NaN</td>\n",
       "      <td>Lahore</td>\n",
       "      <td>Quaid-e-azam Township</td>\n",
       "      <td>NaN</td>\n",
       "      <td>NaN</td>\n",
       "      <td>2014-09-30 00:00:00</td>\n",
       "      <td>151.000</td>\n",
       "      <td>NaN</td>\n",
       "      <td>NaN</td>\n",
       "      <td>NaN</td>\n",
       "      <td>NaN</td>\n",
       "      <td>1</td>\n",
       "      <td>0</td>\n",
       "      <td>9</td>\n",
       "      <td>2014</td>\n",
       "      <td>30</td>\n",
       "    </tr>\n",
       "    <tr>\n",
       "      <th>4</th>\n",
       "      <td>EPD</td>\n",
       "      <td>NaN</td>\n",
       "      <td>Lahore</td>\n",
       "      <td>Town Hall</td>\n",
       "      <td>NaN</td>\n",
       "      <td>NaN</td>\n",
       "      <td>2014-09-30 00:00:00</td>\n",
       "      <td>49.540</td>\n",
       "      <td>NaN</td>\n",
       "      <td>NaN</td>\n",
       "      <td>NaN</td>\n",
       "      <td>NaN</td>\n",
       "      <td>1</td>\n",
       "      <td>0</td>\n",
       "      <td>9</td>\n",
       "      <td>2014</td>\n",
       "      <td>30</td>\n",
       "    </tr>\n",
       "  </tbody>\n",
       "</table>\n",
       "</div>"
      ],
      "text/plain": [
       "  Source Serial    City                Station  Latitude  Longitude  \\\n",
       "0    EPD    NaN  Lahore  Quaid-e-azam Township       NaN        NaN   \n",
       "1    EPD    NaN  Lahore              Town Hall       NaN        NaN   \n",
       "2    EPD    NaN  Lahore              Town Hall       NaN        NaN   \n",
       "3    EPD    NaN  Lahore  Quaid-e-azam Township       NaN        NaN   \n",
       "4    EPD    NaN  Lahore              Town Hall       NaN        NaN   \n",
       "\n",
       "              Datetime       PM  USAQI  CO2  Temperature  RelativeHumidity  \\\n",
       "0  2014-07-31 00:00:00   94.335    NaN  NaN          NaN               NaN   \n",
       "1  2014-07-31 00:00:00   93.620    NaN  NaN          NaN               NaN   \n",
       "2  2014-08-31 00:00:00   57.700    NaN  NaN          NaN               NaN   \n",
       "3  2014-09-30 00:00:00  151.000    NaN  NaN          NaN               NaN   \n",
       "4  2014-09-30 00:00:00   49.540    NaN  NaN          NaN               NaN   \n",
       "\n",
       "   weekday  hour  month  year  dayofmonth  \n",
       "0        3     0      7  2014          31  \n",
       "1        3     0      7  2014          31  \n",
       "2        6     0      8  2014          31  \n",
       "3        1     0      9  2014          30  \n",
       "4        1     0      9  2014          30  "
      ]
     },
     "execution_count": 4,
     "metadata": {},
     "output_type": "execute_result"
    }
   ],
   "source": [
    "df.head()"
   ]
  },
  {
   "cell_type": "code",
   "execution_count": 5,
   "metadata": {},
   "outputs": [],
   "source": [
    "df_new = df.drop(['Source', 'Serial', 'Station', 'Latitude', 'Longitude', 'Datetime'], axis = 1)"
   ]
  },
  {
   "cell_type": "code",
   "execution_count": 6,
   "metadata": {},
   "outputs": [
    {
     "name": "stdout",
     "output_type": "stream",
     "text": [
      "City                0.000000\n",
      "PM                  0.000000\n",
      "USAQI               0.003970\n",
      "CO2                 0.521804\n",
      "Temperature         0.123743\n",
      "RelativeHumidity    0.123623\n",
      "weekday             0.000000\n",
      "hour                0.000000\n",
      "month               0.000000\n",
      "year                0.000000\n",
      "dayofmonth          0.000000\n",
      "dtype: float64\n",
      "391917\n",
      "['Lahore' 'Karachi' 'Islamabad' 'Peshawar' 'Chakwal' 'Faisalabad'\n",
      " 'Gujranwala' 'Bahawalpur' 'Rawalpindi' 'Muridke' 'Raiwind' 'Diplo'\n",
      " 'Sialkot']\n",
      "187340\n",
      "['Karachi' 'Islamabad' 'Lahore' 'Peshawar' 'Bahawalpur' 'Diplo']\n"
     ]
    }
   ],
   "source": [
    "print(df_new.isna().mean())\n",
    "print(len(df_new))\n",
    "print(df_new.City.unique())\n",
    "\n",
    "df_ready = df_new.dropna()\n",
    "print(len(df_ready))\n",
    "print(df_ready.City.unique())"
   ]
  },
  {
   "cell_type": "code",
   "execution_count": 7,
   "metadata": {},
   "outputs": [
    {
     "data": {
      "text/html": [
       "<div>\n",
       "<style scoped>\n",
       "    .dataframe tbody tr th:only-of-type {\n",
       "        vertical-align: middle;\n",
       "    }\n",
       "\n",
       "    .dataframe tbody tr th {\n",
       "        vertical-align: top;\n",
       "    }\n",
       "\n",
       "    .dataframe thead th {\n",
       "        text-align: right;\n",
       "    }\n",
       "</style>\n",
       "<table border=\"1\" class=\"dataframe\">\n",
       "  <thead>\n",
       "    <tr style=\"text-align: right;\">\n",
       "      <th></th>\n",
       "      <th>City</th>\n",
       "      <th>PM</th>\n",
       "      <th>USAQI</th>\n",
       "      <th>CO2</th>\n",
       "      <th>Temperature</th>\n",
       "      <th>RelativeHumidity</th>\n",
       "      <th>weekday</th>\n",
       "      <th>hour</th>\n",
       "      <th>month</th>\n",
       "      <th>year</th>\n",
       "      <th>dayofmonth</th>\n",
       "    </tr>\n",
       "  </thead>\n",
       "  <tbody>\n",
       "    <tr>\n",
       "      <th>14</th>\n",
       "      <td>Karachi</td>\n",
       "      <td>24.0</td>\n",
       "      <td>76.0</td>\n",
       "      <td>502.0</td>\n",
       "      <td>30.0</td>\n",
       "      <td>78.0</td>\n",
       "      <td>3</td>\n",
       "      <td>14</td>\n",
       "      <td>10</td>\n",
       "      <td>2016</td>\n",
       "      <td>6</td>\n",
       "    </tr>\n",
       "    <tr>\n",
       "      <th>15</th>\n",
       "      <td>Karachi</td>\n",
       "      <td>22.0</td>\n",
       "      <td>72.0</td>\n",
       "      <td>420.0</td>\n",
       "      <td>30.0</td>\n",
       "      <td>76.0</td>\n",
       "      <td>3</td>\n",
       "      <td>15</td>\n",
       "      <td>10</td>\n",
       "      <td>2016</td>\n",
       "      <td>6</td>\n",
       "    </tr>\n",
       "    <tr>\n",
       "      <th>16</th>\n",
       "      <td>Karachi</td>\n",
       "      <td>21.0</td>\n",
       "      <td>70.0</td>\n",
       "      <td>416.0</td>\n",
       "      <td>30.0</td>\n",
       "      <td>76.0</td>\n",
       "      <td>3</td>\n",
       "      <td>17</td>\n",
       "      <td>10</td>\n",
       "      <td>2016</td>\n",
       "      <td>6</td>\n",
       "    </tr>\n",
       "    <tr>\n",
       "      <th>17</th>\n",
       "      <td>Karachi</td>\n",
       "      <td>22.0</td>\n",
       "      <td>72.0</td>\n",
       "      <td>416.0</td>\n",
       "      <td>28.0</td>\n",
       "      <td>80.0</td>\n",
       "      <td>3</td>\n",
       "      <td>18</td>\n",
       "      <td>10</td>\n",
       "      <td>2016</td>\n",
       "      <td>6</td>\n",
       "    </tr>\n",
       "    <tr>\n",
       "      <th>18</th>\n",
       "      <td>Karachi</td>\n",
       "      <td>23.0</td>\n",
       "      <td>74.0</td>\n",
       "      <td>415.0</td>\n",
       "      <td>28.0</td>\n",
       "      <td>80.0</td>\n",
       "      <td>3</td>\n",
       "      <td>19</td>\n",
       "      <td>10</td>\n",
       "      <td>2016</td>\n",
       "      <td>6</td>\n",
       "    </tr>\n",
       "  </tbody>\n",
       "</table>\n",
       "</div>"
      ],
      "text/plain": [
       "       City    PM  USAQI    CO2  Temperature  RelativeHumidity  weekday  hour  \\\n",
       "14  Karachi  24.0   76.0  502.0         30.0              78.0        3    14   \n",
       "15  Karachi  22.0   72.0  420.0         30.0              76.0        3    15   \n",
       "16  Karachi  21.0   70.0  416.0         30.0              76.0        3    17   \n",
       "17  Karachi  22.0   72.0  416.0         28.0              80.0        3    18   \n",
       "18  Karachi  23.0   74.0  415.0         28.0              80.0        3    19   \n",
       "\n",
       "    month  year  dayofmonth  \n",
       "14     10  2016           6  \n",
       "15     10  2016           6  \n",
       "16     10  2016           6  \n",
       "17     10  2016           6  \n",
       "18     10  2016           6  "
      ]
     },
     "execution_count": 7,
     "metadata": {},
     "output_type": "execute_result"
    }
   ],
   "source": [
    "df_ready.head()"
   ]
  },
  {
   "cell_type": "code",
   "execution_count": 8,
   "metadata": {},
   "outputs": [],
   "source": [
    "def transform(df):\n",
    "    df = (df - df.mean())/df.std()\n",
    "    return df"
   ]
  },
  {
   "cell_type": "code",
   "execution_count": 9,
   "metadata": {},
   "outputs": [],
   "source": [
    "def createDataSets(df, city, frac):\n",
    "    \n",
    "    df_part = df[df.City != city]\n",
    "    indexes = list(df_part.index)\n",
    "    random.shuffle(indexes)\n",
    "    length = int(len(indexes) * frac)\n",
    "    take = indexes[:length]\n",
    "    \n",
    "    df = df.drop('City', axis = 1)\n",
    "    df = transform(df)\n",
    "    \n",
    "    df_train = df.loc[take]\n",
    "    df_test = df.drop(take)\n",
    "    return df_train, df_test\n",
    "    \n"
   ]
  },
  {
   "cell_type": "code",
   "execution_count": 10,
   "metadata": {},
   "outputs": [],
   "source": [
    "def createXandY(df):\n",
    "    Y = df['CO2']\n",
    "    X = df.drop(['CO2'], axis = 1)\n",
    "    return nd.array(X.values), nd.array(Y.values)"
   ]
  },
  {
   "cell_type": "code",
   "execution_count": 11,
   "metadata": {},
   "outputs": [
    {
     "name": "stdout",
     "output_type": "stream",
     "text": [
      "0.34038112522686026\n"
     ]
    }
   ],
   "source": [
    "means = df_ready.drop('City' , axis = 1).mean()\n",
    "stds = df_ready.drop('City' , axis = 1).std()\n",
    "\n",
    "df_train, df_test = createDataSets(df_ready, 'Islamabad', 0.7)\n",
    "X_train, Y_train = createXandY(df_train)\n",
    "X_test, Y_test = createXandY(df_test)\n",
    "\n",
    "print(len(X_test)/ (len(X_test) + len(X_train)))"
   ]
  },
  {
   "cell_type": "code",
   "execution_count": null,
   "metadata": {},
   "outputs": [],
   "source": []
  },
  {
   "cell_type": "code",
   "execution_count": 12,
   "metadata": {},
   "outputs": [],
   "source": [
    "net = nn.Sequential()"
   ]
  },
  {
   "cell_type": "code",
   "execution_count": 13,
   "metadata": {},
   "outputs": [],
   "source": [
    "net.add(nn.Dense(3, activation = 'sigmoid'),\n",
    "        nn.Dense(1, activation = 'sigmoid'),\n",
    "       )"
   ]
  },
  {
   "cell_type": "code",
   "execution_count": 14,
   "metadata": {},
   "outputs": [],
   "source": [
    "net.initialize(init = init.Xavier(), force_reinit = True)"
   ]
  },
  {
   "cell_type": "code",
   "execution_count": 15,
   "metadata": {},
   "outputs": [],
   "source": [
    "loss = gluon.loss.L2Loss()\n",
    "lr = 0.005\n",
    "batch_size = 256\n",
    "\n",
    "trainer = gluon.Trainer(net.collect_params(), 'adam', {'learning_rate': lr})"
   ]
  },
  {
   "cell_type": "code",
   "execution_count": null,
   "metadata": {},
   "outputs": [],
   "source": []
  },
  {
   "cell_type": "code",
   "execution_count": 16,
   "metadata": {},
   "outputs": [
    {
     "name": "stdout",
     "output_type": "stream",
     "text": [
      "epoch  0\n",
      "test\t 0.8065801 \ttrain\t 0.32157344\n",
      "epoch  1\n",
      "test\t 0.80786586 \ttrain\t 0.3168026\n",
      "epoch  2\n",
      "test\t 0.80807894 \ttrain\t 0.31464982\n",
      "epoch  3\n",
      "test\t 0.80677927 \ttrain\t 0.31338862\n",
      "epoch  4\n",
      "test\t 0.8072275 \ttrain\t 0.31237197\n",
      "epoch  5\n",
      "test\t 0.8081944 \ttrain\t 0.3117352\n",
      "epoch  6\n",
      "test\t 0.8070549 \ttrain\t 0.31100276\n",
      "epoch  7\n",
      "test\t 0.8068978 \ttrain\t 0.3105162\n",
      "epoch  8\n",
      "test\t 0.80605865 \ttrain\t 0.3101296\n",
      "epoch  9\n",
      "test\t 0.806435 \ttrain\t 0.30979094\n"
     ]
    }
   ],
   "source": [
    "epochs = 10\n",
    "train_iter = mx.io.NDArrayIter(X_train, Y_train, batch_size, shuffle = True)\n",
    "\n",
    "train_losses = []\n",
    "test_losses = []\n",
    "\n",
    "for epoch in range(epochs):\n",
    "    for trn_batch in train_iter:\n",
    "        x = trn_batch.data[0]\n",
    "        y = trn_batch.label[0]\n",
    "        \n",
    "        with mx.autograd.record():\n",
    "            y_pred = net(x)\n",
    "            im_loss = loss( y_pred, y)\n",
    "        \n",
    "        #backprop\n",
    "        im_loss.backward()\n",
    "        \n",
    "        #Optimize!\n",
    "        trainer.step(batch_size=batch_size)\n",
    "        \n",
    "    train_iter.reset()\n",
    "    print('epoch ', epoch)\n",
    "    out = net(X_test)\n",
    "    ls1 = loss(out, Y_test).mean().asscalar()\n",
    "    ls2 = loss(net(X_train), Y_train).mean().asscalar()\n",
    "    train_losses.append(ls2)\n",
    "    test_losses.append(ls1)\n",
    "    print('test\\t', ls1, '\\ttrain\\t', ls2)\n",
    "    "
   ]
  },
  {
   "cell_type": "code",
   "execution_count": 17,
   "metadata": {},
   "outputs": [
    {
     "data": {
      "image/png": "[encoded data removed]",
      "text/plain": [
       "<Figure size 432x288 with 1 Axes>"
      ]
     },
     "metadata": {
      "needs_background": "light"
     },
     "output_type": "display_data"
    }
   ],
   "source": [
    "plt.plot(test_losses, label = 'test')\n",
    "plt.plot(train_losses, label = 'train')\n",
    "plt.legend()\n",
    "plt.show()"
   ]
  },
  {
   "cell_type": "code",
   "execution_count": null,
   "metadata": {},
   "outputs": [],
   "source": []
  }
 ],
 "metadata": {
  "kernelspec": {
   "display_name": "Python 3",
   "language": "python",
   "name": "python3"
  },
  "language_info": {
   "codemirror_mode": {
    "name": "ipython",
    "version": 3
   },
   "file_extension": ".py",
   "mimetype": "text/x-python",
   "name": "python",
   "nbconvert_exporter": "python",
   "pygments_lexer": "ipython3",
   "version": "3.7.4"
  }
 },
 "nbformat": 4,
 "nbformat_minor": 2
}
