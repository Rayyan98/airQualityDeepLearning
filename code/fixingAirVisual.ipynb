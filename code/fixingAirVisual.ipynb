{
 "cells": [
  {
   "cell_type": "code",
   "execution_count": 5,
   "metadata": {
    "colab": {},
    "colab_type": "code",
    "id": "leqJMYGJhNcH"
   },
   "outputs": [],
   "source": [
    "import pandas as pd\n",
    "from mxnet import gluon, autograd, init, nd\n",
    "from mxnet.gluon import nn\n",
    "import random\n",
    "import matplotlib.pyplot as plt"
   ]
  },
  {
   "cell_type": "code",
   "execution_count": 6,
   "metadata": {},
   "outputs": [
    {
     "data": {
      "text/plain": [
       "151256"
      ]
     },
     "execution_count": 6,
     "metadata": {},
     "output_type": "execute_result"
    }
   ],
   "source": [
    "dfraw = pd.read_csv('../data/FinalData.csv')\n",
    "dfc = dfraw.drop_duplicates()\n",
    "assert len(dfc) == len(dfraw)\n",
    "len(dfc)"
   ]
  },
  {
   "cell_type": "code",
   "execution_count": 7,
   "metadata": {},
   "outputs": [
    {
     "data": {
      "text/plain": [
       "Index(['SerialNumber', 'City', 'Name', 'FirstOnline', 'Datetime', 'PM2.5',\n",
       "       'USAQI', 'CO2', 'Temperature', 'RelativeHumidity', 'Outdoor PM2.5',\n",
       "       'OutdoorUSAQI', 'weekday', 'weekdayName', 'hour', 'month', 'year',\n",
       "       'dayofmonth', 'tmpc', 'relh', 'drct', 'sped', 'vsby'],\n",
       "      dtype='object')"
      ]
     },
     "execution_count": 7,
     "metadata": {},
     "output_type": "execute_result"
    }
   ],
   "source": [
    "dfc.columns"
   ]
  },
  {
   "cell_type": "code",
   "execution_count": 12,
   "metadata": {},
   "outputs": [
    {
     "name": "stderr",
     "output_type": "stream",
     "text": [
      "/Users/mudasir/anaconda3/lib/python3.7/site-packages/ipykernel_launcher.py:3: SettingWithCopyWarning: \n",
      "A value is trying to be set on a copy of a slice from a DataFrame.\n",
      "Try using .loc[row_indexer,col_indexer] = value instead\n",
      "\n",
      "See the caveats in the documentation: http://pandas.pydata.org/pandas-docs/stable/indexing.html#indexing-view-versus-copy\n",
      "  This is separate from the ipykernel package so we can avoid doing imports until\n"
     ]
    },
    {
     "data": {
      "text/html": [
       "<div>\n",
       "<style scoped>\n",
       "    .dataframe tbody tr th:only-of-type {\n",
       "        vertical-align: middle;\n",
       "    }\n",
       "\n",
       "    .dataframe tbody tr th {\n",
       "        vertical-align: top;\n",
       "    }\n",
       "\n",
       "    .dataframe thead th {\n",
       "        text-align: right;\n",
       "    }\n",
       "</style>\n",
       "<table border=\"1\" class=\"dataframe\">\n",
       "  <thead>\n",
       "    <tr style=\"text-align: right;\">\n",
       "      <th></th>\n",
       "      <th>Defence Housing Authority</th>\n",
       "      <th>northkarachi</th>\n",
       "      <th>landhi</th>\n",
       "      <th>Korangi</th>\n",
       "      <th>Korangi (J-Area)</th>\n",
       "      <th>saddar</th>\n",
       "      <th>Hyderi Market</th>\n",
       "      <th>bahadurabad</th>\n",
       "      <th>karachi - industrial</th>\n",
       "      <th>shershah</th>\n",
       "      <th>Liaquatabad</th>\n",
       "      <th>Civic Center, Korangi</th>\n",
       "    </tr>\n",
       "  </thead>\n",
       "  <tbody>\n",
       "    <tr>\n",
       "      <th>Defence Housing Authority</th>\n",
       "      <td>1.000000</td>\n",
       "      <td>0.459990</td>\n",
       "      <td>0.467358</td>\n",
       "      <td>0.720594</td>\n",
       "      <td>0.720149</td>\n",
       "      <td>0.760234</td>\n",
       "      <td>0.732152</td>\n",
       "      <td>0.731717</td>\n",
       "      <td>0.653782</td>\n",
       "      <td>0.570863</td>\n",
       "      <td>0.685686</td>\n",
       "      <td>0.502704</td>\n",
       "    </tr>\n",
       "    <tr>\n",
       "      <th>northkarachi</th>\n",
       "      <td>0.459990</td>\n",
       "      <td>1.000000</td>\n",
       "      <td>0.543692</td>\n",
       "      <td>0.517869</td>\n",
       "      <td>0.474289</td>\n",
       "      <td>0.458544</td>\n",
       "      <td>0.459384</td>\n",
       "      <td>0.354027</td>\n",
       "      <td>0.480823</td>\n",
       "      <td>0.412806</td>\n",
       "      <td>0.335033</td>\n",
       "      <td>0.448723</td>\n",
       "    </tr>\n",
       "    <tr>\n",
       "      <th>landhi</th>\n",
       "      <td>0.467358</td>\n",
       "      <td>0.543692</td>\n",
       "      <td>1.000000</td>\n",
       "      <td>0.094604</td>\n",
       "      <td>0.778462</td>\n",
       "      <td>0.378191</td>\n",
       "      <td>0.717902</td>\n",
       "      <td>0.341757</td>\n",
       "      <td>0.324181</td>\n",
       "      <td>0.429151</td>\n",
       "      <td>0.308482</td>\n",
       "      <td>0.243385</td>\n",
       "    </tr>\n",
       "    <tr>\n",
       "      <th>Korangi</th>\n",
       "      <td>0.720594</td>\n",
       "      <td>0.517869</td>\n",
       "      <td>0.094604</td>\n",
       "      <td>1.000000</td>\n",
       "      <td>0.559713</td>\n",
       "      <td>0.496840</td>\n",
       "      <td>0.701253</td>\n",
       "      <td>0.324996</td>\n",
       "      <td>0.804691</td>\n",
       "      <td>0.517987</td>\n",
       "      <td>0.492854</td>\n",
       "      <td>0.230500</td>\n",
       "    </tr>\n",
       "    <tr>\n",
       "      <th>Korangi (J-Area)</th>\n",
       "      <td>0.720149</td>\n",
       "      <td>0.474289</td>\n",
       "      <td>0.778462</td>\n",
       "      <td>0.559713</td>\n",
       "      <td>1.000000</td>\n",
       "      <td>0.628842</td>\n",
       "      <td>0.719371</td>\n",
       "      <td>0.755296</td>\n",
       "      <td>0.536837</td>\n",
       "      <td>0.474290</td>\n",
       "      <td>0.626626</td>\n",
       "      <td>0.782744</td>\n",
       "    </tr>\n",
       "    <tr>\n",
       "      <th>saddar</th>\n",
       "      <td>0.760234</td>\n",
       "      <td>0.458544</td>\n",
       "      <td>0.378191</td>\n",
       "      <td>0.496840</td>\n",
       "      <td>0.628842</td>\n",
       "      <td>1.000000</td>\n",
       "      <td>0.651142</td>\n",
       "      <td>0.635012</td>\n",
       "      <td>0.455777</td>\n",
       "      <td>0.582474</td>\n",
       "      <td>0.594001</td>\n",
       "      <td>0.643451</td>\n",
       "    </tr>\n",
       "    <tr>\n",
       "      <th>Hyderi Market</th>\n",
       "      <td>0.732152</td>\n",
       "      <td>0.459384</td>\n",
       "      <td>0.717902</td>\n",
       "      <td>0.701253</td>\n",
       "      <td>0.719371</td>\n",
       "      <td>0.651142</td>\n",
       "      <td>1.000000</td>\n",
       "      <td>0.643973</td>\n",
       "      <td>0.594163</td>\n",
       "      <td>0.572674</td>\n",
       "      <td>0.697461</td>\n",
       "      <td>0.506186</td>\n",
       "    </tr>\n",
       "    <tr>\n",
       "      <th>bahadurabad</th>\n",
       "      <td>0.731717</td>\n",
       "      <td>0.354027</td>\n",
       "      <td>0.341757</td>\n",
       "      <td>0.324996</td>\n",
       "      <td>0.755296</td>\n",
       "      <td>0.635012</td>\n",
       "      <td>0.643973</td>\n",
       "      <td>1.000000</td>\n",
       "      <td>0.530323</td>\n",
       "      <td>0.321740</td>\n",
       "      <td>0.772401</td>\n",
       "      <td>0.506449</td>\n",
       "    </tr>\n",
       "    <tr>\n",
       "      <th>karachi - industrial</th>\n",
       "      <td>0.653782</td>\n",
       "      <td>0.480823</td>\n",
       "      <td>0.324181</td>\n",
       "      <td>0.804691</td>\n",
       "      <td>0.536837</td>\n",
       "      <td>0.455777</td>\n",
       "      <td>0.594163</td>\n",
       "      <td>0.530323</td>\n",
       "      <td>1.000000</td>\n",
       "      <td>0.410806</td>\n",
       "      <td>0.621310</td>\n",
       "      <td>0.212932</td>\n",
       "    </tr>\n",
       "    <tr>\n",
       "      <th>shershah</th>\n",
       "      <td>0.570863</td>\n",
       "      <td>0.412806</td>\n",
       "      <td>0.429151</td>\n",
       "      <td>0.517987</td>\n",
       "      <td>0.474290</td>\n",
       "      <td>0.582474</td>\n",
       "      <td>0.572674</td>\n",
       "      <td>0.321740</td>\n",
       "      <td>0.410806</td>\n",
       "      <td>1.000000</td>\n",
       "      <td>0.473155</td>\n",
       "      <td>0.327511</td>\n",
       "    </tr>\n",
       "    <tr>\n",
       "      <th>Liaquatabad</th>\n",
       "      <td>0.685686</td>\n",
       "      <td>0.335033</td>\n",
       "      <td>0.308482</td>\n",
       "      <td>0.492854</td>\n",
       "      <td>0.626626</td>\n",
       "      <td>0.594001</td>\n",
       "      <td>0.697461</td>\n",
       "      <td>0.772401</td>\n",
       "      <td>0.621310</td>\n",
       "      <td>0.473155</td>\n",
       "      <td>1.000000</td>\n",
       "      <td>0.653426</td>\n",
       "    </tr>\n",
       "    <tr>\n",
       "      <th>Civic Center, Korangi</th>\n",
       "      <td>0.502704</td>\n",
       "      <td>0.448723</td>\n",
       "      <td>0.243385</td>\n",
       "      <td>0.230500</td>\n",
       "      <td>0.782744</td>\n",
       "      <td>0.643451</td>\n",
       "      <td>0.506186</td>\n",
       "      <td>0.506449</td>\n",
       "      <td>0.212932</td>\n",
       "      <td>0.327511</td>\n",
       "      <td>0.653426</td>\n",
       "      <td>1.000000</td>\n",
       "    </tr>\n",
       "  </tbody>\n",
       "</table>\n",
       "</div>"
      ],
      "text/plain": [
       "                           Defence Housing Authority  northkarachi    landhi  \\\n",
       "Defence Housing Authority                   1.000000      0.459990  0.467358   \n",
       "northkarachi                                0.459990      1.000000  0.543692   \n",
       "landhi                                      0.467358      0.543692  1.000000   \n",
       "Korangi                                     0.720594      0.517869  0.094604   \n",
       "Korangi (J-Area)                            0.720149      0.474289  0.778462   \n",
       "saddar                                      0.760234      0.458544  0.378191   \n",
       "Hyderi Market                               0.732152      0.459384  0.717902   \n",
       "bahadurabad                                 0.731717      0.354027  0.341757   \n",
       "karachi - industrial                        0.653782      0.480823  0.324181   \n",
       "shershah                                    0.570863      0.412806  0.429151   \n",
       "Liaquatabad                                 0.685686      0.335033  0.308482   \n",
       "Civic Center, Korangi                       0.502704      0.448723  0.243385   \n",
       "\n",
       "                            Korangi  Korangi (J-Area)    saddar  \\\n",
       "Defence Housing Authority  0.720594          0.720149  0.760234   \n",
       "northkarachi               0.517869          0.474289  0.458544   \n",
       "landhi                     0.094604          0.778462  0.378191   \n",
       "Korangi                    1.000000          0.559713  0.496840   \n",
       "Korangi (J-Area)           0.559713          1.000000  0.628842   \n",
       "saddar                     0.496840          0.628842  1.000000   \n",
       "Hyderi Market              0.701253          0.719371  0.651142   \n",
       "bahadurabad                0.324996          0.755296  0.635012   \n",
       "karachi - industrial       0.804691          0.536837  0.455777   \n",
       "shershah                   0.517987          0.474290  0.582474   \n",
       "Liaquatabad                0.492854          0.626626  0.594001   \n",
       "Civic Center, Korangi      0.230500          0.782744  0.643451   \n",
       "\n",
       "                           Hyderi Market  bahadurabad  karachi - industrial  \\\n",
       "Defence Housing Authority       0.732152     0.731717              0.653782   \n",
       "northkarachi                    0.459384     0.354027              0.480823   \n",
       "landhi                          0.717902     0.341757              0.324181   \n",
       "Korangi                         0.701253     0.324996              0.804691   \n",
       "Korangi (J-Area)                0.719371     0.755296              0.536837   \n",
       "saddar                          0.651142     0.635012              0.455777   \n",
       "Hyderi Market                   1.000000     0.643973              0.594163   \n",
       "bahadurabad                     0.643973     1.000000              0.530323   \n",
       "karachi - industrial            0.594163     0.530323              1.000000   \n",
       "shershah                        0.572674     0.321740              0.410806   \n",
       "Liaquatabad                     0.697461     0.772401              0.621310   \n",
       "Civic Center, Korangi           0.506186     0.506449              0.212932   \n",
       "\n",
       "                           shershah  Liaquatabad  Civic Center, Korangi  \n",
       "Defence Housing Authority  0.570863     0.685686               0.502704  \n",
       "northkarachi               0.412806     0.335033               0.448723  \n",
       "landhi                     0.429151     0.308482               0.243385  \n",
       "Korangi                    0.517987     0.492854               0.230500  \n",
       "Korangi (J-Area)           0.474290     0.626626               0.782744  \n",
       "saddar                     0.582474     0.594001               0.643451  \n",
       "Hyderi Market              0.572674     0.697461               0.506186  \n",
       "bahadurabad                0.321740     0.772401               0.506449  \n",
       "karachi - industrial       0.410806     0.621310               0.212932  \n",
       "shershah                   1.000000     0.473155               0.327511  \n",
       "Liaquatabad                0.473155     1.000000               0.653426  \n",
       "Civic Center, Korangi      0.327511     0.653426               1.000000  "
      ]
     },
     "execution_count": 12,
     "metadata": {},
     "output_type": "execute_result"
    },
    {
     "data": {
      "image/png": "[encoded data removed]",
      "text/plain": [
       "<Figure size 432x288 with 1 Axes>"
      ]
     },
     "metadata": {
      "needs_background": "light"
     },
     "output_type": "display_data"
    }
   ],
   "source": [
    "df_karachi = dfc[dfc.City == \"Lahore\"]\n",
    "df_karachi_2018 = df_karachi[df_karachi.year.isin([2017, 2018])]\n",
    "df_karachi_2018['Datetime'] = pd.to_datetime(df_karachi_2018.Datetime)\n",
    "df_karachi_2018 = df_karachi_2018.sort_values([\"Datetime\"], ascending = False)\n",
    "df_new = df_karachi_2018.groupby(\"SerialNumber\")\n",
    "#fig, ax = plt.subplots()\n",
    "ax = plt.gca()\n",
    "\n",
    "lis  = []\n",
    "names = []\n",
    "for i, k in df_new:\n",
    "    if k.Name.iloc[0] not in ('mt khan road', 'aishamanzil', 'orangi town', 'd.h.a phase 5'):\n",
    "        k.plot('Datetime', 'PM2.5', label = k.Name.iloc[0], ax = ax)\n",
    "        lis.append(k[['PM2.5', 'Datetime']].set_index('Datetime'))\n",
    "        names.append(k['Name'].iloc[0])\n",
    "#plt.show()\n",
    "\n",
    "lis[0].head()\n",
    "lis = pd.concat(lis, axis = 1)\n",
    "lis.columns = names\n",
    "lis.corr('spearman')\n",
    "#drop_columns = ['City', 'Name', 'FirstOnline', 'Outdoor PM2.5', 'OutdoorUSAQI', 'weekdayName']\n",
    "#df = dfc.drop(drop_columns, axis = 1)\n"
   ]
  },
  {
   "cell_type": "code",
   "execution_count": null,
   "metadata": {},
   "outputs": [],
   "source": [
    "of_interest = [\"Defence Housing Authority\",\"Korangi,saddar\",\"bahadurabad\",\"karachi - industrial\",\"Liaquatabad\"]"
   ]
  },
  {
   "cell_type": "code",
   "execution_count": 5,
   "metadata": {},
   "outputs": [
    {
     "ename": "NameError",
     "evalue": "name 'df' is not defined",
     "output_type": "error",
     "traceback": [
      "\u001b[0;31m---------------------------------------------------------------------------\u001b[0m",
      "\u001b[0;31mNameError\u001b[0m                                 Traceback (most recent call last)",
      "\u001b[0;32m<ipython-input-5-dccca965c126>\u001b[0m in \u001b[0;36m<module>\u001b[0;34m\u001b[0m\n\u001b[0;32m----> 1\u001b[0;31m \u001b[0mdf\u001b[0m\u001b[0;34m.\u001b[0m\u001b[0misna\u001b[0m\u001b[0;34m(\u001b[0m\u001b[0;34m)\u001b[0m\u001b[0;34m.\u001b[0m\u001b[0mmean\u001b[0m\u001b[0;34m(\u001b[0m\u001b[0;34m)\u001b[0m \u001b[0;34m*\u001b[0m \u001b[0;36m100\u001b[0m\u001b[0;34m\u001b[0m\u001b[0;34m\u001b[0m\u001b[0m\n\u001b[0m",
      "\u001b[0;31mNameError\u001b[0m: name 'df' is not defined"
     ]
    }
   ],
   "source": [
    "df.isna().mean() * 100"
   ]
  },
  {
   "cell_type": "code",
   "execution_count": null,
   "metadata": {},
   "outputs": [],
   "source": [
    "df= df.dropna()\n",
    "len(df)"
   ]
  },
  {
   "cell_type": "code",
   "execution_count": null,
   "metadata": {},
   "outputs": [],
   "source": [
    "df['Datetime'] = pd.to_datetime(df.Datetime)"
   ]
  },
  {
   "cell_type": "code",
   "execution_count": null,
   "metadata": {},
   "outputs": [],
   "source": [
    "dfs = df.sort_values(['SerialNumber', 'Datetime'])\n",
    "dfs = dfs.reset_index(drop = True)"
   ]
  },
  {
   "cell_type": "code",
   "execution_count": null,
   "metadata": {},
   "outputs": [],
   "source": [
    "batch_size = 16"
   ]
  },
  {
   "cell_type": "code",
   "execution_count": null,
   "metadata": {},
   "outputs": [],
   "source": [
    "def make_dataset_many_to_one(dataframe, time_steps):\n",
    "    rows = dataframe.shape[0] - time_steps\n",
    "    cols = dataframe.shape[1]\n",
    "    dfnew = nd.zeros(shape = (rows, cols * time_steps))\n",
    "    for i in range(0, time_steps):\n",
    "        dfnew[:, i * cols : (i + 1 ) * cols] = dataframe.iloc[i: i + rows,:]\n",
    "    ynew = nd.zeros(shape = (rows, 1))\n",
    "    ynew[:,0] = dataframe['PM2.5'].iloc[time_steps:]\n",
    "    return dfnew, ynew"
   ]
  },
  {
   "cell_type": "code",
   "execution_count": null,
   "metadata": {},
   "outputs": [],
   "source": [
    "def myPartSerial(i, time_steps):\n",
    "    dfslice = dfs[dfs.SerialNumber == i]\n",
    "    lis = []\n",
    "        \n",
    "    dfdiff = dfslice.Datetime.diff()\n",
    "    dfdiff.iloc[0] = dfdiff.iloc[1]\n",
    "    dfdiff2 = dfdiff != pd.Timedelta('1 hour')\n",
    "    dfdiff3 = dfdiff2.cumsum()    \n",
    "    \n",
    "    for j,k in dfslice.groupby(dfdiff3):\n",
    "        if len(k) > time_steps:\n",
    "            d = k.iloc[:]\n",
    "            drop_columns2 = ['SerialNumber', 'Datetime', 'year', 'relh', 'tmpc']\n",
    "            d = d.drop(drop_columns2, axis = 1)\n",
    "            lis.append( d )\n",
    "    \n",
    "    newlis = []\n",
    "    newlabels = []\n",
    "    for i in lis:\n",
    "        a, b = make_dataset_many_to_one(i, time_steps)\n",
    "        assert a.shape[0] == b.shape[0]\n",
    "        newlis.append(a)\n",
    "        newlabels.append(b)\n",
    "    \n",
    "        \n",
    "#    if lis:\n",
    "#        lis = pd.concat(lis)\n",
    "#    else:\n",
    "#        lis = dfslice.iloc[0:0]\n",
    "    \n",
    "    newlis = nd.array(newlis)\n",
    "    print(newlist.shape)\n",
    "    \n",
    "    \n",
    "    return newlis, newlabels"
   ]
  },
  {
   "cell_type": "code",
   "execution_count": null,
   "metadata": {},
   "outputs": [],
   "source": [
    "dfs.head(5)"
   ]
  },
  {
   "cell_type": "code",
   "execution_count": null,
   "metadata": {},
   "outputs": [],
   "source": [
    "#lis = []\n",
    "for i in dfs.SerialNumber.unique()[:1]:\n",
    "    li = myPartSerial(i, 4)\n",
    "#    lis.append(li)\n",
    "\n",
    "#lis = pd.concat(lis)\n",
    "#print(len(lis))"
   ]
  },
  {
   "cell_type": "code",
   "execution_count": null,
   "metadata": {},
   "outputs": [],
   "source": [
    "print(dfs.SerialNumber.unique())"
   ]
  },
  {
   "cell_type": "code",
   "execution_count": null,
   "metadata": {},
   "outputs": [],
   "source": []
  },
  {
   "cell_type": "code",
   "execution_count": null,
   "metadata": {},
   "outputs": [],
   "source": [
    "net = nn.Sequential()\n",
    "net.add(gluon.rnn.LSTM(100, num_layers = 3),\n",
    "       nn.Dense(1)\n",
    "       )\n",
    "\n",
    "net"
   ]
  },
  {
   "cell_type": "code",
   "execution_count": null,
   "metadata": {},
   "outputs": [],
   "source": []
  },
  {
   "cell_type": "code",
   "execution_count": null,
   "metadata": {},
   "outputs": [],
   "source": []
  }
 ],
 "metadata": {
  "colab": {
   "collapsed_sections": [],
   "name": "ann.ipynb",
   "provenance": []
  },
  "kernelspec": {
   "display_name": "Python 3",
   "language": "python",
   "name": "python3"
  },
  "language_info": {
   "codemirror_mode": {
    "name": "ipython",
    "version": 3
   },
   "file_extension": ".py",
   "mimetype": "text/x-python",
   "name": "python",
   "nbconvert_exporter": "python",
   "pygments_lexer": "ipython3",
   "version": "3.7.4"
  }
 },
 "nbformat": 4,
 "nbformat_minor": 4
}
