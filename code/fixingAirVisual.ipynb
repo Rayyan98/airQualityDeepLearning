{
 "cells": [
  {
   "cell_type": "code",
   "execution_count": 1,
   "metadata": {
    "colab": {},
    "colab_type": "code",
    "id": "leqJMYGJhNcH"
   },
   "outputs": [],
   "source": [
    "import pandas as pd\n",
    "from mxnet import gluon, autograd, init, nd\n",
    "from mxnet.gluon import nn\n",
    "import random\n",
    "import matplotlib.pyplot as plt"
   ]
  },
  {
   "cell_type": "code",
   "execution_count": 2,
   "metadata": {},
   "outputs": [
    {
     "data": {
      "text/plain": [
       "151256"
      ]
     },
     "execution_count": 2,
     "metadata": {},
     "output_type": "execute_result"
    }
   ],
   "source": [
    "dfraw = pd.read_csv('../data/FinalData.csv')\n",
    "dfc = dfraw.drop_duplicates()\n",
    "assert len(dfc) == len(dfraw)\n",
    "len(dfc)"
   ]
  },
  {
   "cell_type": "code",
   "execution_count": 3,
   "metadata": {},
   "outputs": [
    {
     "data": {
      "text/plain": [
       "Index(['SerialNumber', 'City', 'Name', 'FirstOnline', 'Datetime', 'PM2.5',\n",
       "       'USAQI', 'CO2', 'Temperature', 'RelativeHumidity', 'Outdoor PM2.5',\n",
       "       'OutdoorUSAQI', 'weekday', 'weekdayName', 'hour', 'month', 'year',\n",
       "       'dayofmonth', 'tmpc', 'relh', 'drct', 'sped', 'vsby'],\n",
       "      dtype='object')"
      ]
     },
     "execution_count": 3,
     "metadata": {},
     "output_type": "execute_result"
    }
   ],
   "source": [
    "dfc.columns"
   ]
  },
  {
   "cell_type": "code",
   "execution_count": 4,
   "metadata": {},
   "outputs": [],
   "source": [
    "drop_columns = ['City', 'Name', 'FirstOnline', 'Outdoor PM2.5', 'OutdoorUSAQI', 'weekdayName']\n",
    "df = dfc.drop(drop_columns, axis = 1)"
   ]
  },
  {
   "cell_type": "code",
   "execution_count": 5,
   "metadata": {},
   "outputs": [
    {
     "data": {
      "text/plain": [
       "SerialNumber         9.891178\n",
       "Datetime             0.000000\n",
       "PM2.5                0.000000\n",
       "USAQI                0.000000\n",
       "CO2                  9.891178\n",
       "Temperature          0.991035\n",
       "RelativeHumidity     0.991035\n",
       "weekday              0.000000\n",
       "hour                 0.000000\n",
       "month                0.000000\n",
       "year                 0.000000\n",
       "dayofmonth           0.000000\n",
       "tmpc                22.101603\n",
       "relh                22.483736\n",
       "drct                22.043423\n",
       "sped                21.995161\n",
       "vsby                21.975327\n",
       "dtype: float64"
      ]
     },
     "execution_count": 5,
     "metadata": {},
     "output_type": "execute_result"
    }
   ],
   "source": [
    "df.isna().mean() * 100"
   ]
  },
  {
   "cell_type": "code",
   "execution_count": 6,
   "metadata": {},
   "outputs": [
    {
     "data": {
      "text/plain": [
       "110417"
      ]
     },
     "execution_count": 6,
     "metadata": {},
     "output_type": "execute_result"
    }
   ],
   "source": [
    "df= df.dropna()\n",
    "len(df)"
   ]
  },
  {
   "cell_type": "code",
   "execution_count": null,
   "metadata": {},
   "outputs": [],
   "source": [
    "df['Datetime'] = pd.to_datetime(df.Datetime)"
   ]
  },
  {
   "cell_type": "code",
   "execution_count": null,
   "metadata": {},
   "outputs": [],
   "source": [
    "dfs = df.sort_values(['SerialNumber', 'Datetime'])\n",
    "dfs = dfs.reset_index(drop = True)"
   ]
  },
  {
   "cell_type": "code",
   "execution_count": null,
   "metadata": {},
   "outputs": [],
   "source": [
    "batch_size = 16"
   ]
  },
  {
   "cell_type": "code",
   "execution_count": null,
   "metadata": {},
   "outputs": [],
   "source": [
    "def make_dataset_many_to_one(dataframe, time_steps):\n",
    "    rows = dataframe.shape[0] - time_steps\n",
    "    cols = dataframe.shape[1]\n",
    "    dfnew = nd.zeros(shape = (rows, cols * time_steps))\n",
    "    for i in range(0, time_steps):\n",
    "        dfnew[:, i * cols : (i + 1 ) * cols] = dataframe.iloc[i: i + rows,:]\n",
    "    ynew = nd.zeros(shape = (rows, 1))\n",
    "    ynew[:,0] = dataframe['PM2.5'].iloc[time_steps:]\n",
    "    return dfnew, ynew"
   ]
  },
  {
   "cell_type": "code",
   "execution_count": null,
   "metadata": {
    "scrolled": false
   },
   "outputs": [],
   "source": [
    "def myPartSerial(i, time_steps):\n",
    "    dfslice = dfs[dfs.SerialNumber == i]\n",
    "    lis = []\n",
    "        \n",
    "    dfdiff = dfslice.Datetime.diff()\n",
    "    dfdiff.iloc[0] = dfdiff.iloc[1]\n",
    "    dfdiff2 = dfdiff != pd.Timedelta('1 hour')\n",
    "    dfdiff3 = dfdiff2.cumsum()    \n",
    "    \n",
    "    for j,k in dfslice.groupby(dfdiff3):\n",
    "        if len(k) > time_steps:\n",
    "            d = k.iloc[:]\n",
    "            drop_columns2 = ['SerialNumber', 'Datetime', 'year', 'relh', 'tmpc']\n",
    "            d = d.drop(drop_columns2, axis = 1)\n",
    "            lis.append( d )\n",
    "    \n",
    "    newlis = []\n",
    "    newlabels = []\n",
    "    for i in lis:\n",
    "        a, b = make_dataset_many_to_one(i, time_steps)\n",
    "        assert a.shape[0] == b.shape[0]\n",
    "        newlis.append(a)\n",
    "        newlabels.append(b)\n",
    "    \n",
    "        \n",
    "#    if lis:\n",
    "#        lis = pd.concat(lis)\n",
    "#    else:\n",
    "#        lis = dfslice.iloc[0:0]\n",
    "    \n",
    "    newlis = nd.array(newlis)\n",
    "    print(newlist.shape)\n",
    "    \n",
    "    \n",
    "    return newlis, newlabels"
   ]
  },
  {
   "cell_type": "code",
   "execution_count": null,
   "metadata": {},
   "outputs": [],
   "source": [
    "dfs.head(5)"
   ]
  },
  {
   "cell_type": "code",
   "execution_count": null,
   "metadata": {},
   "outputs": [],
   "source": [
    "#lis = []\n",
    "for i in dfs.SerialNumber.unique()[:1]:\n",
    "    li = myPartSerial(i, 4)\n",
    "#    lis.append(li)\n",
    "\n",
    "#lis = pd.concat(lis)\n",
    "#print(len(lis))"
   ]
  },
  {
   "cell_type": "code",
   "execution_count": null,
   "metadata": {},
   "outputs": [],
   "source": [
    "print(dfs.SerialNumber.unique())"
   ]
  },
  {
   "cell_type": "code",
   "execution_count": null,
   "metadata": {},
   "outputs": [],
   "source": []
  },
  {
   "cell_type": "code",
   "execution_count": null,
   "metadata": {},
   "outputs": [],
   "source": [
    "net = nn.Sequential()\n",
    "net.add(gluon.rnn.LSTM(100, num_layers = 3),\n",
    "       nn.Dense(1)\n",
    "       )\n",
    "\n",
    "net"
   ]
  },
  {
   "cell_type": "code",
   "execution_count": null,
   "metadata": {},
   "outputs": [],
   "source": []
  },
  {
   "cell_type": "code",
   "execution_count": null,
   "metadata": {},
   "outputs": [],
   "source": []
  }
 ],
 "metadata": {
  "colab": {
   "collapsed_sections": [],
   "name": "ann.ipynb",
   "provenance": []
  },
  "kernelspec": {
   "display_name": "Python 3",
   "language": "python",
   "name": "python3"
  },
  "language_info": {
   "codemirror_mode": {
    "name": "ipython",
    "version": 3
   },
   "file_extension": ".py",
   "mimetype": "text/x-python",
   "name": "python",
   "nbconvert_exporter": "python",
   "pygments_lexer": "ipython3",
   "version": "3.7.4"
  }
 },
 "nbformat": 4,
 "nbformat_minor": 1
}
