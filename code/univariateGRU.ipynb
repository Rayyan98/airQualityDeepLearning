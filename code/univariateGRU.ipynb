{
 "cells": [
  {
   "cell_type": "code",
   "execution_count": 42,
   "metadata": {},
   "outputs": [],
   "source": [
    "import pandas as pd\n",
    "import numpy as np\n",
    "import matplotlib.pyplot as plt\n",
    "import mxnet \n",
    "from mxnet.gluon import *\n",
    "from sklearn.preprocessing import MinMaxScaler\n",
    "from sklearn.preprocessing import LabelEncoder"
   ]
  },
  {
   "cell_type": "code",
   "execution_count": 43,
   "metadata": {},
   "outputs": [],
   "source": [
    "finalData = pd.read_csv('../data/ReadyData.csv')"
   ]
  },
  {
   "cell_type": "code",
   "execution_count": 44,
   "metadata": {},
   "outputs": [
    {
     "data": {
      "text/plain": [
       "['datetime',\n",
       " 'PM2.5',\n",
       " 'USAQI',\n",
       " 'CO2',\n",
       " 'Temperature',\n",
       " 'RelativeHumidity',\n",
       " 'weekday',\n",
       " 'hour',\n",
       " 'month',\n",
       " 'year',\n",
       " 'dayofmonth',\n",
       " 'drct',\n",
       " 'sped',\n",
       " 'vsby']"
      ]
     },
     "execution_count": 44,
     "metadata": {},
     "output_type": "execute_result"
    }
   ],
   "source": [
    "lst = [\"datetime\"] + list(finalData.columns)[1:]\n",
    "lst"
   ]
  },
  {
   "cell_type": "code",
   "execution_count": 45,
   "metadata": {},
   "outputs": [],
   "source": [
    "finalData.columns = lst"
   ]
  },
  {
   "cell_type": "code",
   "execution_count": 46,
   "metadata": {},
   "outputs": [],
   "source": [
    "finalData.drop(\"datetime\", axis = 1, inplace = True)"
   ]
  },
  {
   "cell_type": "code",
   "execution_count": 47,
   "metadata": {},
   "outputs": [],
   "source": [
    "mean = finalData.mean()\n",
    "min = finalData.min()\n",
    "max = finalData.max()\n",
    "finalData = finalData.apply(lambda x: (x - np.mean(x)) / (np.std(x)))\n",
    "finalData = pd.DataFrame(finalData[\"PM2.5\"])"
   ]
  },
  {
   "cell_type": "code",
   "execution_count": 48,
   "metadata": {},
   "outputs": [
    {
     "data": {
      "text/html": [
       "<div>\n",
       "<style scoped>\n",
       "    .dataframe tbody tr th:only-of-type {\n",
       "        vertical-align: middle;\n",
       "    }\n",
       "\n",
       "    .dataframe tbody tr th {\n",
       "        vertical-align: top;\n",
       "    }\n",
       "\n",
       "    .dataframe thead th {\n",
       "        text-align: right;\n",
       "    }\n",
       "</style>\n",
       "<table border=\"1\" class=\"dataframe\">\n",
       "  <thead>\n",
       "    <tr style=\"text-align: right;\">\n",
       "      <th></th>\n",
       "      <th>PM2.5(t-5)</th>\n",
       "      <th>PM2.5(t-4)</th>\n",
       "      <th>PM2.5(t-3)</th>\n",
       "      <th>PM2.5(t-2)</th>\n",
       "      <th>PM2.5(t-1)</th>\n",
       "      <th>PM2.5</th>\n",
       "    </tr>\n",
       "  </thead>\n",
       "  <tbody>\n",
       "    <tr>\n",
       "      <th>5</th>\n",
       "      <td>5.171740</td>\n",
       "      <td>4.783023</td>\n",
       "      <td>4.705280</td>\n",
       "      <td>3.124499</td>\n",
       "      <td>2.782428</td>\n",
       "      <td>3.041573</td>\n",
       "    </tr>\n",
       "    <tr>\n",
       "      <th>6</th>\n",
       "      <td>4.783023</td>\n",
       "      <td>4.705280</td>\n",
       "      <td>3.124499</td>\n",
       "      <td>2.782428</td>\n",
       "      <td>3.041573</td>\n",
       "      <td>3.518398</td>\n",
       "    </tr>\n",
       "    <tr>\n",
       "      <th>7</th>\n",
       "      <td>4.705280</td>\n",
       "      <td>3.124499</td>\n",
       "      <td>2.782428</td>\n",
       "      <td>3.041573</td>\n",
       "      <td>3.518398</td>\n",
       "      <td>3.860469</td>\n",
       "    </tr>\n",
       "    <tr>\n",
       "      <th>8</th>\n",
       "      <td>3.124499</td>\n",
       "      <td>2.782428</td>\n",
       "      <td>3.041573</td>\n",
       "      <td>3.518398</td>\n",
       "      <td>3.860469</td>\n",
       "      <td>4.005590</td>\n",
       "    </tr>\n",
       "    <tr>\n",
       "      <th>9</th>\n",
       "      <td>2.782428</td>\n",
       "      <td>3.041573</td>\n",
       "      <td>3.518398</td>\n",
       "      <td>3.860469</td>\n",
       "      <td>4.005590</td>\n",
       "      <td>4.119613</td>\n",
       "    </tr>\n",
       "  </tbody>\n",
       "</table>\n",
       "</div>"
      ],
      "text/plain": [
       "   PM2.5(t-5)  PM2.5(t-4)  PM2.5(t-3)  PM2.5(t-2)  PM2.5(t-1)     PM2.5\n",
       "5    5.171740    4.783023    4.705280    3.124499    2.782428  3.041573\n",
       "6    4.783023    4.705280    3.124499    2.782428    3.041573  3.518398\n",
       "7    4.705280    3.124499    2.782428    3.041573    3.518398  3.860469\n",
       "8    3.124499    2.782428    3.041573    3.518398    3.860469  4.005590\n",
       "9    2.782428    3.041573    3.518398    3.860469    4.005590  4.119613"
      ]
     },
     "metadata": {},
     "output_type": "display_data"
    }
   ],
   "source": [
    "name = list(finalData.columns)\n",
    "cols, names = list(), list()\n",
    "for i in range(5, 0, -1): #5 times steps\n",
    "    cols.append(finalData.shift(i))\n",
    "    names += [('%s(t-%d)' % (name[j], i)) for j in range(finalData.shape[1])]\n",
    "cols.append(finalData.shift(-0))\n",
    "names += [\"PM2.5\"]\n",
    "finalDataset = pd.concat(cols, axis=1)\n",
    "finalDataset.columns = names\n",
    "finalDataset = finalDataset[5:]\n",
    "\n",
    "display(finalDataset.head())"
   ]
  },
  {
   "cell_type": "code",
   "execution_count": 49,
   "metadata": {},
   "outputs": [],
   "source": [
    "finalDataset.reset_index(drop = True)\n",
    "labels = finalDataset[\"PM2.5\"]\n",
    "finalDataset.drop(\"PM2.5\", axis = 1, inplace = True)\n"
   ]
  },
  {
   "cell_type": "code",
   "execution_count": 50,
   "metadata": {},
   "outputs": [
    {
     "data": {
      "text/html": [
       "<div>\n",
       "<style scoped>\n",
       "    .dataframe tbody tr th:only-of-type {\n",
       "        vertical-align: middle;\n",
       "    }\n",
       "\n",
       "    .dataframe tbody tr th {\n",
       "        vertical-align: top;\n",
       "    }\n",
       "\n",
       "    .dataframe thead th {\n",
       "        text-align: right;\n",
       "    }\n",
       "</style>\n",
       "<table border=\"1\" class=\"dataframe\">\n",
       "  <thead>\n",
       "    <tr style=\"text-align: right;\">\n",
       "      <th></th>\n",
       "      <th>PM2.5(t-5)</th>\n",
       "      <th>PM2.5(t-4)</th>\n",
       "      <th>PM2.5(t-3)</th>\n",
       "      <th>PM2.5(t-2)</th>\n",
       "      <th>PM2.5(t-1)</th>\n",
       "    </tr>\n",
       "  </thead>\n",
       "  <tbody>\n",
       "    <tr>\n",
       "      <th>5</th>\n",
       "      <td>5.171740</td>\n",
       "      <td>4.783023</td>\n",
       "      <td>4.705280</td>\n",
       "      <td>3.124499</td>\n",
       "      <td>2.782428</td>\n",
       "    </tr>\n",
       "    <tr>\n",
       "      <th>6</th>\n",
       "      <td>4.783023</td>\n",
       "      <td>4.705280</td>\n",
       "      <td>3.124499</td>\n",
       "      <td>2.782428</td>\n",
       "      <td>3.041573</td>\n",
       "    </tr>\n",
       "    <tr>\n",
       "      <th>7</th>\n",
       "      <td>4.705280</td>\n",
       "      <td>3.124499</td>\n",
       "      <td>2.782428</td>\n",
       "      <td>3.041573</td>\n",
       "      <td>3.518398</td>\n",
       "    </tr>\n",
       "    <tr>\n",
       "      <th>8</th>\n",
       "      <td>3.124499</td>\n",
       "      <td>2.782428</td>\n",
       "      <td>3.041573</td>\n",
       "      <td>3.518398</td>\n",
       "      <td>3.860469</td>\n",
       "    </tr>\n",
       "    <tr>\n",
       "      <th>9</th>\n",
       "      <td>2.782428</td>\n",
       "      <td>3.041573</td>\n",
       "      <td>3.518398</td>\n",
       "      <td>3.860469</td>\n",
       "      <td>4.005590</td>\n",
       "    </tr>\n",
       "  </tbody>\n",
       "</table>\n",
       "</div>"
      ],
      "text/plain": [
       "   PM2.5(t-5)  PM2.5(t-4)  PM2.5(t-3)  PM2.5(t-2)  PM2.5(t-1)\n",
       "5    5.171740    4.783023    4.705280    3.124499    2.782428\n",
       "6    4.783023    4.705280    3.124499    2.782428    3.041573\n",
       "7    4.705280    3.124499    2.782428    3.041573    3.518398\n",
       "8    3.124499    2.782428    3.041573    3.518398    3.860469\n",
       "9    2.782428    3.041573    3.518398    3.860469    4.005590"
      ]
     },
     "metadata": {},
     "output_type": "display_data"
    },
    {
     "data": {
      "text/plain": [
       "5    3.041573\n",
       "6    3.518398\n",
       "7    3.860469\n",
       "8    4.005590\n",
       "9    4.119613\n",
       "Name: PM2.5, dtype: float64"
      ]
     },
     "metadata": {},
     "output_type": "display_data"
    }
   ],
   "source": [
    "#we have data for a total of 20 months, let's train (roughly) for 16 months, and test for the remaining 4.\n",
    "trainDataX = finalDataset[:30*16*24]\n",
    "testDataX = finalDataset[30*16*24:]\n",
    "trainDataY = labels[:30*16*24]\n",
    "testDataY = labels[30*16*24:]\n",
    "\n",
    "display(trainDataX.head()) \n",
    "display(trainDataY.head())\n"
   ]
  },
  {
   "cell_type": "code",
   "execution_count": 24,
   "metadata": {},
   "outputs": [
    {
     "name": "stdout",
     "output_type": "stream",
     "text": [
      "<class 'pandas.core.frame.DataFrame'>\n",
      "RangeIndex: 14587 entries, 5 to 14591\n",
      "Data columns (total 5 columns):\n",
      "PM2.5(t-5)    14587 non-null float64\n",
      "PM2.5(t-4)    14587 non-null float64\n",
      "PM2.5(t-3)    14587 non-null float64\n",
      "PM2.5(t-2)    14587 non-null float64\n",
      "PM2.5(t-1)    14587 non-null float64\n",
      "dtypes: float64(5)\n",
      "memory usage: 569.9 KB\n"
     ]
    }
   ],
   "source": [
    "finalDataset.info()"
   ]
  },
  {
   "cell_type": "code",
   "execution_count": 25,
   "metadata": {},
   "outputs": [],
   "source": [
    "from mxnet import nd\n",
    "finalDataset = nd.array(finalDataset).reshape(-1, 5, 1)\n",
    "trainDataX = nd.array(trainDataX).reshape(-1, 5, 1)\n",
    "testDataX = nd.array(testDataX).reshape(-1, 5, 1)"
   ]
  },
  {
   "cell_type": "code",
   "execution_count": 26,
   "metadata": {},
   "outputs": [],
   "source": [
    "trainDataY = nd.array(trainDataY)\n",
    "testDataY = nd.array(testDataY)"
   ]
  },
  {
   "cell_type": "code",
   "execution_count": 27,
   "metadata": {},
   "outputs": [],
   "source": [
    "model = mxnet.gluon.nn.Sequential()\n",
    "model.add(mxnet.gluon.rnn.LSTM(10, 1, dropout = 0.4))\n",
    "model.add(mxnet.gluon.nn.Dense(1, activation='tanh'))\n",
    "\n",
    "model.initialize(mxnet.init.Xavier())\n",
    "\n",
    "trainer = mxnet.gluon.Trainer(\n",
    "    params=model.collect_params(),\n",
    "    optimizer='adam',\n",
    "    optimizer_params={'learning_rate': 0.01}\n",
    ")"
   ]
  },
  {
   "cell_type": "code",
   "execution_count": 32,
   "metadata": {},
   "outputs": [],
   "source": [
    "loss = mxnet.gluon.loss.L1Loss()\n",
    "error = mxnet.metric.MSE()"
   ]
  },
  {
   "cell_type": "code",
   "execution_count": 33,
   "metadata": {},
   "outputs": [
    {
     "name": "stdout",
     "output_type": "stream",
     "text": [
      "epoch: 1 | trn_loss: 0.43016678\n",
      "epoch: 2 | trn_loss: 0.43134469\n",
      "epoch: 3 | trn_loss: 0.43143547\n",
      "epoch: 4 | trn_loss: 0.42995441\n",
      "epoch: 5 | trn_loss: 0.43001738\n",
      "epoch: 6 | trn_loss: 0.43112200\n",
      "epoch: 7 | trn_loss: 0.42987856\n",
      "epoch: 8 | trn_loss: 0.42956483\n",
      "epoch: 9 | trn_loss: 0.43189102\n",
      "epoch: 10 | trn_loss: 0.43084309\n"
     ]
    }
   ],
   "source": [
    "epochs = 10\n",
    "trainingLoss = []\n",
    "train_iter = mxnet.io.NDArrayIter(trainDataX, trainDataY, 12, shuffle=True)\n",
    "for epoch in range(epochs):\n",
    "    for trn_batch in train_iter:\n",
    "        x = trn_batch.data[0]\n",
    "        y = trn_batch.label[0]\n",
    "        \n",
    "        with mxnet.autograd.record():\n",
    "            y_pred = model(x)\n",
    "            im_loss = loss(y_pred, y)\n",
    "        \n",
    "        #backprop\n",
    "        im_loss.backward()\n",
    "        \n",
    "        #Optimize!\n",
    "        trainer.step(batch_size=12)\n",
    "        \n",
    "    train_iter.reset()\n",
    "    \n",
    "    # Calculate train metrics\n",
    "    \n",
    "    predictions = model(trainDataX)\n",
    "    error.update(trainDataY, predictions)\n",
    "    trainingLoss.append(error.get()[1])\n",
    "    error.reset()\n",
    "    \n",
    "    train_iter.reset()\n",
    "    \n",
    "    print(\"epoch: {} | trn_loss: {:.8f}\".format(epoch+1,\n",
    "                                                trainingLoss[-1]))\n"
   ]
  },
  {
   "cell_type": "code",
   "execution_count": 34,
   "metadata": {},
   "outputs": [
    {
     "name": "stdout",
     "output_type": "stream",
     "text": [
      "\n",
      "[[ 0.32339084]\n",
      " [-0.45182806]\n",
      " [ 0.34867042]\n",
      " [ 0.9306709 ]\n",
      " [-0.8383672 ]\n",
      " [-0.50589055]\n",
      " [-0.431302  ]\n",
      " [-0.89507633]\n",
      " [ 0.31065834]\n",
      " [-0.08447412]\n",
      " [ 0.99964315]\n",
      " [-0.93217576]]\n",
      "<NDArray 12x1 @cpu(0)>\n"
     ]
    }
   ],
   "source": [
    "print(y_pred)"
   ]
  },
  {
   "cell_type": "code",
   "execution_count": 35,
   "metadata": {},
   "outputs": [
    {
     "data": {
      "image/png": "[encoded data removed]",
      "text/plain": [
       "<Figure size 432x288 with 1 Axes>"
      ]
     },
     "metadata": {
      "needs_background": "light"
     },
     "output_type": "display_data"
    }
   ],
   "source": [
    "predictions = model(testDataX)\n",
    "plt.plot(testDataY[200:500].asnumpy(), label = 'actual')\n",
    "plt.plot(predictions[200:500].asnumpy())\n",
    "plt.legend()\n",
    "plt.savefig(\"Univariate_LSTM_10_1_tanh.pdf\")"
   ]
  },
  {
   "cell_type": "code",
   "execution_count": null,
   "metadata": {},
   "outputs": [],
   "source": []
  }
 ],
 "metadata": {
  "kernelspec": {
   "display_name": "Python 3",
   "language": "python",
   "name": "python3"
  },
  "language_info": {
   "codemirror_mode": {
    "name": "ipython",
    "version": 3
   },
   "file_extension": ".py",
   "mimetype": "text/x-python",
   "name": "python",
   "nbconvert_exporter": "python",
   "pygments_lexer": "ipython3",
   "version": "3.7.3"
  }
 },
 "nbformat": 4,
 "nbformat_minor": 4
}
