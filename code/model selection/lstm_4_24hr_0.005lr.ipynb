{
 "cells": [
  {
   "cell_type": "code",
   "execution_count": 8,
   "metadata": {
    "colab": {},
    "colab_type": "code",
    "id": "GpL8ayXD1b9N"
   },
   "outputs": [],
   "source": [
    "#!pip install mxnet-cu100\n",
    "\n",
    "import pandas as pd\n",
    "import numpy as np\n",
    "import matplotlib.pyplot as plt\n",
    "import mxnet \n",
    "from mxnet.gluon import *\n",
    "from mxnet import gpu\n",
    "ctx=gpu()"
   ]
  },
  {
   "cell_type": "code",
   "execution_count": 9,
   "metadata": {
    "colab": {},
    "colab_type": "code",
    "id": "Z_5wExhB1b9Z"
   },
   "outputs": [],
   "source": [
    "finalData = pd.read_csv('../../data/ReadyData.csv')"
   ]
  },
  {
   "cell_type": "code",
   "execution_count": 10,
   "metadata": {
    "colab": {
     "base_uri": "https://localhost:8080/",
     "height": 340
    },
    "colab_type": "code",
    "id": "4wb2AF101b9e",
    "outputId": "5e8091bd-1ded-426a-fd8b-9187bfb2b525"
   },
   "outputs": [
    {
     "name": "stdout",
     "output_type": "stream",
     "text": [
      "<class 'pandas.core.frame.DataFrame'>\n",
      "RangeIndex: 14592 entries, 0 to 14591\n",
      "Data columns (total 14 columns):\n",
      "Unnamed: 0          14592 non-null object\n",
      "PM2.5               14592 non-null float64\n",
      "USAQI               14592 non-null float64\n",
      "CO2                 14592 non-null float64\n",
      "Temperature         14592 non-null float64\n",
      "RelativeHumidity    14592 non-null float64\n",
      "weekday             14592 non-null float64\n",
      "hour                14592 non-null float64\n",
      "month               14592 non-null float64\n",
      "year                14592 non-null float64\n",
      "dayofmonth          14592 non-null float64\n",
      "drct                14592 non-null float64\n",
      "sped                14592 non-null float64\n",
      "vsby                14592 non-null float64\n",
      "dtypes: float64(13), object(1)\n",
      "memory usage: 1.6+ MB\n"
     ]
    }
   ],
   "source": [
    "finalData.info()"
   ]
  },
  {
   "cell_type": "code",
   "execution_count": 11,
   "metadata": {
    "colab": {
     "base_uri": "https://localhost:8080/",
     "height": 411
    },
    "colab_type": "code",
    "id": "K77xtv121b9j",
    "outputId": "2e358dd2-c4b6-4a47-a4ef-580881818cec"
   },
   "outputs": [
    {
     "data": {
      "text/html": [
       "<div>\n",
       "<style scoped>\n",
       "    .dataframe tbody tr th:only-of-type {\n",
       "        vertical-align: middle;\n",
       "    }\n",
       "\n",
       "    .dataframe tbody tr th {\n",
       "        vertical-align: top;\n",
       "    }\n",
       "\n",
       "    .dataframe thead th {\n",
       "        text-align: right;\n",
       "    }\n",
       "</style>\n",
       "<table border=\"1\" class=\"dataframe\">\n",
       "  <thead>\n",
       "    <tr style=\"text-align: right;\">\n",
       "      <th></th>\n",
       "      <th>Unnamed: 0</th>\n",
       "      <th>PM2.5</th>\n",
       "      <th>USAQI</th>\n",
       "      <th>CO2</th>\n",
       "      <th>Temperature</th>\n",
       "      <th>RelativeHumidity</th>\n",
       "      <th>weekday</th>\n",
       "      <th>hour</th>\n",
       "      <th>month</th>\n",
       "      <th>year</th>\n",
       "      <th>dayofmonth</th>\n",
       "      <th>drct</th>\n",
       "      <th>sped</th>\n",
       "      <th>vsby</th>\n",
       "    </tr>\n",
       "  </thead>\n",
       "  <tbody>\n",
       "    <tr>\n",
       "      <td>0</td>\n",
       "      <td>2017-01-01 00:00:00</td>\n",
       "      <td>210.500000</td>\n",
       "      <td>260.500000</td>\n",
       "      <td>438.000000</td>\n",
       "      <td>24.500000</td>\n",
       "      <td>62.500000</td>\n",
       "      <td>6.0</td>\n",
       "      <td>0.0</td>\n",
       "      <td>1.0</td>\n",
       "      <td>2017.0</td>\n",
       "      <td>1.0</td>\n",
       "      <td>10.0</td>\n",
       "      <td>4.6000</td>\n",
       "      <td>1.3950</td>\n",
       "    </tr>\n",
       "    <tr>\n",
       "      <td>1</td>\n",
       "      <td>2017-01-01 01:00:00</td>\n",
       "      <td>198.000000</td>\n",
       "      <td>248.000000</td>\n",
       "      <td>442.000000</td>\n",
       "      <td>24.000000</td>\n",
       "      <td>58.000000</td>\n",
       "      <td>6.0</td>\n",
       "      <td>1.0</td>\n",
       "      <td>1.0</td>\n",
       "      <td>2017.0</td>\n",
       "      <td>1.0</td>\n",
       "      <td>10.0</td>\n",
       "      <td>5.1750</td>\n",
       "      <td>1.3950</td>\n",
       "    </tr>\n",
       "    <tr>\n",
       "      <td>2</td>\n",
       "      <td>2017-01-01 02:00:00</td>\n",
       "      <td>195.500000</td>\n",
       "      <td>245.500000</td>\n",
       "      <td>436.500000</td>\n",
       "      <td>24.000000</td>\n",
       "      <td>54.000000</td>\n",
       "      <td>6.0</td>\n",
       "      <td>2.0</td>\n",
       "      <td>1.0</td>\n",
       "      <td>2017.0</td>\n",
       "      <td>1.0</td>\n",
       "      <td>5.0</td>\n",
       "      <td>2.5875</td>\n",
       "      <td>1.0075</td>\n",
       "    </tr>\n",
       "    <tr>\n",
       "      <td>3</td>\n",
       "      <td>2017-01-01 03:00:00</td>\n",
       "      <td>144.666667</td>\n",
       "      <td>209.666667</td>\n",
       "      <td>425.666667</td>\n",
       "      <td>22.333333</td>\n",
       "      <td>56.000000</td>\n",
       "      <td>6.0</td>\n",
       "      <td>3.0</td>\n",
       "      <td>1.0</td>\n",
       "      <td>2017.0</td>\n",
       "      <td>1.0</td>\n",
       "      <td>0.0</td>\n",
       "      <td>0.0000</td>\n",
       "      <td>1.1200</td>\n",
       "    </tr>\n",
       "    <tr>\n",
       "      <td>4</td>\n",
       "      <td>2017-01-01 04:00:00</td>\n",
       "      <td>133.666667</td>\n",
       "      <td>196.000000</td>\n",
       "      <td>416.000000</td>\n",
       "      <td>22.333333</td>\n",
       "      <td>53.666667</td>\n",
       "      <td>6.0</td>\n",
       "      <td>4.0</td>\n",
       "      <td>1.0</td>\n",
       "      <td>2017.0</td>\n",
       "      <td>1.0</td>\n",
       "      <td>5.0</td>\n",
       "      <td>2.3000</td>\n",
       "      <td>1.1775</td>\n",
       "    </tr>\n",
       "  </tbody>\n",
       "</table>\n",
       "</div>"
      ],
      "text/plain": [
       "            Unnamed: 0       PM2.5       USAQI         CO2  Temperature  \\\n",
       "0  2017-01-01 00:00:00  210.500000  260.500000  438.000000    24.500000   \n",
       "1  2017-01-01 01:00:00  198.000000  248.000000  442.000000    24.000000   \n",
       "2  2017-01-01 02:00:00  195.500000  245.500000  436.500000    24.000000   \n",
       "3  2017-01-01 03:00:00  144.666667  209.666667  425.666667    22.333333   \n",
       "4  2017-01-01 04:00:00  133.666667  196.000000  416.000000    22.333333   \n",
       "\n",
       "   RelativeHumidity  weekday  hour  month    year  dayofmonth  drct    sped  \\\n",
       "0         62.500000      6.0   0.0    1.0  2017.0         1.0  10.0  4.6000   \n",
       "1         58.000000      6.0   1.0    1.0  2017.0         1.0  10.0  5.1750   \n",
       "2         54.000000      6.0   2.0    1.0  2017.0         1.0   5.0  2.5875   \n",
       "3         56.000000      6.0   3.0    1.0  2017.0         1.0   0.0  0.0000   \n",
       "4         53.666667      6.0   4.0    1.0  2017.0         1.0   5.0  2.3000   \n",
       "\n",
       "     vsby  \n",
       "0  1.3950  \n",
       "1  1.3950  \n",
       "2  1.0075  \n",
       "3  1.1200  \n",
       "4  1.1775  "
      ]
     },
     "execution_count": 11,
     "metadata": {},
     "output_type": "execute_result"
    }
   ],
   "source": [
    "finalData.head()"
   ]
  },
  {
   "cell_type": "code",
   "execution_count": 12,
   "metadata": {
    "colab": {
     "base_uri": "https://localhost:8080/",
     "height": 255
    },
    "colab_type": "code",
    "id": "azSICn5t1b9o",
    "outputId": "0d6bea1c-1edc-49e3-cb8e-1e5e03243510"
   },
   "outputs": [
    {
     "data": {
      "text/plain": [
       "['datetime',\n",
       " 'PM2.5',\n",
       " 'USAQI',\n",
       " 'CO2',\n",
       " 'Temperature',\n",
       " 'RelativeHumidity',\n",
       " 'weekday',\n",
       " 'hour',\n",
       " 'month',\n",
       " 'year',\n",
       " 'dayofmonth',\n",
       " 'drct',\n",
       " 'sped',\n",
       " 'vsby']"
      ]
     },
     "execution_count": 12,
     "metadata": {},
     "output_type": "execute_result"
    }
   ],
   "source": [
    "lst = [\"datetime\"] + list(finalData.columns)[1:]\n",
    "lst"
   ]
  },
  {
   "cell_type": "code",
   "execution_count": 13,
   "metadata": {
    "colab": {},
    "colab_type": "code",
    "id": "zXK25q1J1b9s"
   },
   "outputs": [],
   "source": [
    "finalData.columns = lst"
   ]
  },
  {
   "cell_type": "code",
   "execution_count": 14,
   "metadata": {
    "colab": {
     "base_uri": "https://localhost:8080/",
     "height": 394
    },
    "colab_type": "code",
    "id": "skPfCF__1b9u",
    "outputId": "1043013d-e52e-45b1-dbac-f92295db580c"
   },
   "outputs": [
    {
     "data": {
      "text/html": [
       "<div>\n",
       "<style scoped>\n",
       "    .dataframe tbody tr th:only-of-type {\n",
       "        vertical-align: middle;\n",
       "    }\n",
       "\n",
       "    .dataframe tbody tr th {\n",
       "        vertical-align: top;\n",
       "    }\n",
       "\n",
       "    .dataframe thead th {\n",
       "        text-align: right;\n",
       "    }\n",
       "</style>\n",
       "<table border=\"1\" class=\"dataframe\">\n",
       "  <thead>\n",
       "    <tr style=\"text-align: right;\">\n",
       "      <th></th>\n",
       "      <th>datetime</th>\n",
       "      <th>PM2.5</th>\n",
       "      <th>USAQI</th>\n",
       "      <th>CO2</th>\n",
       "      <th>Temperature</th>\n",
       "      <th>RelativeHumidity</th>\n",
       "      <th>weekday</th>\n",
       "      <th>hour</th>\n",
       "      <th>month</th>\n",
       "      <th>year</th>\n",
       "      <th>dayofmonth</th>\n",
       "      <th>drct</th>\n",
       "      <th>sped</th>\n",
       "      <th>vsby</th>\n",
       "    </tr>\n",
       "  </thead>\n",
       "  <tbody>\n",
       "    <tr>\n",
       "      <td>0</td>\n",
       "      <td>2017-01-01 00:00:00</td>\n",
       "      <td>210.500000</td>\n",
       "      <td>260.500000</td>\n",
       "      <td>438.000000</td>\n",
       "      <td>24.500000</td>\n",
       "      <td>62.500000</td>\n",
       "      <td>6.0</td>\n",
       "      <td>0.0</td>\n",
       "      <td>1.0</td>\n",
       "      <td>2017.0</td>\n",
       "      <td>1.0</td>\n",
       "      <td>10.0</td>\n",
       "      <td>4.6000</td>\n",
       "      <td>1.3950</td>\n",
       "    </tr>\n",
       "    <tr>\n",
       "      <td>1</td>\n",
       "      <td>2017-01-01 01:00:00</td>\n",
       "      <td>198.000000</td>\n",
       "      <td>248.000000</td>\n",
       "      <td>442.000000</td>\n",
       "      <td>24.000000</td>\n",
       "      <td>58.000000</td>\n",
       "      <td>6.0</td>\n",
       "      <td>1.0</td>\n",
       "      <td>1.0</td>\n",
       "      <td>2017.0</td>\n",
       "      <td>1.0</td>\n",
       "      <td>10.0</td>\n",
       "      <td>5.1750</td>\n",
       "      <td>1.3950</td>\n",
       "    </tr>\n",
       "    <tr>\n",
       "      <td>2</td>\n",
       "      <td>2017-01-01 02:00:00</td>\n",
       "      <td>195.500000</td>\n",
       "      <td>245.500000</td>\n",
       "      <td>436.500000</td>\n",
       "      <td>24.000000</td>\n",
       "      <td>54.000000</td>\n",
       "      <td>6.0</td>\n",
       "      <td>2.0</td>\n",
       "      <td>1.0</td>\n",
       "      <td>2017.0</td>\n",
       "      <td>1.0</td>\n",
       "      <td>5.0</td>\n",
       "      <td>2.5875</td>\n",
       "      <td>1.0075</td>\n",
       "    </tr>\n",
       "    <tr>\n",
       "      <td>3</td>\n",
       "      <td>2017-01-01 03:00:00</td>\n",
       "      <td>144.666667</td>\n",
       "      <td>209.666667</td>\n",
       "      <td>425.666667</td>\n",
       "      <td>22.333333</td>\n",
       "      <td>56.000000</td>\n",
       "      <td>6.0</td>\n",
       "      <td>3.0</td>\n",
       "      <td>1.0</td>\n",
       "      <td>2017.0</td>\n",
       "      <td>1.0</td>\n",
       "      <td>0.0</td>\n",
       "      <td>0.0000</td>\n",
       "      <td>1.1200</td>\n",
       "    </tr>\n",
       "    <tr>\n",
       "      <td>4</td>\n",
       "      <td>2017-01-01 04:00:00</td>\n",
       "      <td>133.666667</td>\n",
       "      <td>196.000000</td>\n",
       "      <td>416.000000</td>\n",
       "      <td>22.333333</td>\n",
       "      <td>53.666667</td>\n",
       "      <td>6.0</td>\n",
       "      <td>4.0</td>\n",
       "      <td>1.0</td>\n",
       "      <td>2017.0</td>\n",
       "      <td>1.0</td>\n",
       "      <td>5.0</td>\n",
       "      <td>2.3000</td>\n",
       "      <td>1.1775</td>\n",
       "    </tr>\n",
       "  </tbody>\n",
       "</table>\n",
       "</div>"
      ],
      "text/plain": [
       "              datetime       PM2.5       USAQI         CO2  Temperature  \\\n",
       "0  2017-01-01 00:00:00  210.500000  260.500000  438.000000    24.500000   \n",
       "1  2017-01-01 01:00:00  198.000000  248.000000  442.000000    24.000000   \n",
       "2  2017-01-01 02:00:00  195.500000  245.500000  436.500000    24.000000   \n",
       "3  2017-01-01 03:00:00  144.666667  209.666667  425.666667    22.333333   \n",
       "4  2017-01-01 04:00:00  133.666667  196.000000  416.000000    22.333333   \n",
       "\n",
       "   RelativeHumidity  weekday  hour  month    year  dayofmonth  drct    sped  \\\n",
       "0         62.500000      6.0   0.0    1.0  2017.0         1.0  10.0  4.6000   \n",
       "1         58.000000      6.0   1.0    1.0  2017.0         1.0  10.0  5.1750   \n",
       "2         54.000000      6.0   2.0    1.0  2017.0         1.0   5.0  2.5875   \n",
       "3         56.000000      6.0   3.0    1.0  2017.0         1.0   0.0  0.0000   \n",
       "4         53.666667      6.0   4.0    1.0  2017.0         1.0   5.0  2.3000   \n",
       "\n",
       "     vsby  \n",
       "0  1.3950  \n",
       "1  1.3950  \n",
       "2  1.0075  \n",
       "3  1.1200  \n",
       "4  1.1775  "
      ]
     },
     "execution_count": 14,
     "metadata": {},
     "output_type": "execute_result"
    }
   ],
   "source": [
    "finalData.head()"
   ]
  },
  {
   "cell_type": "code",
   "execution_count": 15,
   "metadata": {
    "colab": {
     "base_uri": "https://localhost:8080/",
     "height": 34
    },
    "colab_type": "code",
    "id": "3BhBZrz61b9w",
    "outputId": "929df663-3f2d-475e-9794-e9ba77f8d1e9"
   },
   "outputs": [
    {
     "data": {
      "text/plain": [
       "8"
      ]
     },
     "execution_count": 15,
     "metadata": {},
     "output_type": "execute_result"
    }
   ],
   "source": [
    "len(finalData[finalData.year == 2017].month.unique()) #no of months in 2017\n",
    "len(finalData[finalData.year == 2018].month.unique()) #no of months in 2018"
   ]
  },
  {
   "cell_type": "code",
   "execution_count": 16,
   "metadata": {
    "colab": {
     "base_uri": "https://localhost:8080/",
     "height": 663
    },
    "colab_type": "code",
    "id": "c0mNerjM1b9y",
    "outputId": "8ad54d75-0c22-4269-f253-9f42aa238359"
   },
   "outputs": [
    {
     "name": "stdout",
     "output_type": "stream",
     "text": [
      "<class 'pandas.core.frame.DataFrame'>\n",
      "Int64Index: 8760 entries, 0 to 8759\n",
      "Data columns (total 14 columns):\n",
      "datetime            8760 non-null object\n",
      "PM2.5               8760 non-null float64\n",
      "USAQI               8760 non-null float64\n",
      "CO2                 8760 non-null float64\n",
      "Temperature         8760 non-null float64\n",
      "RelativeHumidity    8760 non-null float64\n",
      "weekday             8760 non-null float64\n",
      "hour                8760 non-null float64\n",
      "month               8760 non-null float64\n",
      "year                8760 non-null float64\n",
      "dayofmonth          8760 non-null float64\n",
      "drct                8760 non-null float64\n",
      "sped                8760 non-null float64\n",
      "vsby                8760 non-null float64\n",
      "dtypes: float64(13), object(1)\n",
      "memory usage: 1.0+ MB\n",
      "<class 'pandas.core.frame.DataFrame'>\n",
      "Int64Index: 5832 entries, 8760 to 14591\n",
      "Data columns (total 14 columns):\n",
      "datetime            5832 non-null object\n",
      "PM2.5               5832 non-null float64\n",
      "USAQI               5832 non-null float64\n",
      "CO2                 5832 non-null float64\n",
      "Temperature         5832 non-null float64\n",
      "RelativeHumidity    5832 non-null float64\n",
      "weekday             5832 non-null float64\n",
      "hour                5832 non-null float64\n",
      "month               5832 non-null float64\n",
      "year                5832 non-null float64\n",
      "dayofmonth          5832 non-null float64\n",
      "drct                5832 non-null float64\n",
      "sped                5832 non-null float64\n",
      "vsby                5832 non-null float64\n",
      "dtypes: float64(13), object(1)\n",
      "memory usage: 683.4+ KB\n"
     ]
    }
   ],
   "source": [
    "finalData[finalData.year == 2017].info() #no of values in 2017\n",
    "finalData[finalData.year == 2018].info() #no of values in 2018"
   ]
  },
  {
   "cell_type": "code",
   "execution_count": 17,
   "metadata": {
    "colab": {
     "base_uri": "https://localhost:8080/",
     "height": 1000
    },
    "colab_type": "code",
    "id": "JcVZF3e31b9z",
    "outputId": "2de4ca5a-92e0-43a0-d25e-db3235243969"
   },
   "outputs": [
    {
     "name": "stdout",
     "output_type": "stream",
     "text": [
      "<class 'pandas.core.frame.DataFrame'>\n",
      "RangeIndex: 11520 entries, 0 to 11519\n",
      "Data columns (total 14 columns):\n",
      "datetime            11520 non-null object\n",
      "PM2.5               11520 non-null float64\n",
      "USAQI               11520 non-null float64\n",
      "CO2                 11520 non-null float64\n",
      "Temperature         11520 non-null float64\n",
      "RelativeHumidity    11520 non-null float64\n",
      "weekday             11520 non-null float64\n",
      "hour                11520 non-null float64\n",
      "month               11520 non-null float64\n",
      "year                11520 non-null float64\n",
      "dayofmonth          11520 non-null float64\n",
      "drct                11520 non-null float64\n",
      "sped                11520 non-null float64\n",
      "vsby                11520 non-null float64\n",
      "dtypes: float64(13), object(1)\n",
      "memory usage: 1.2+ MB\n",
      "<class 'pandas.core.frame.DataFrame'>\n",
      "RangeIndex: 3072 entries, 11520 to 14591\n",
      "Data columns (total 14 columns):\n",
      "datetime            3072 non-null object\n",
      "PM2.5               3072 non-null float64\n",
      "USAQI               3072 non-null float64\n",
      "CO2                 3072 non-null float64\n",
      "Temperature         3072 non-null float64\n",
      "RelativeHumidity    3072 non-null float64\n",
      "weekday             3072 non-null float64\n",
      "hour                3072 non-null float64\n",
      "month               3072 non-null float64\n",
      "year                3072 non-null float64\n",
      "dayofmonth          3072 non-null float64\n",
      "drct                3072 non-null float64\n",
      "sped                3072 non-null float64\n",
      "vsby                3072 non-null float64\n",
      "dtypes: float64(13), object(1)\n",
      "memory usage: 336.1+ KB\n"
     ]
    },
    {
     "data": {
      "text/html": [
       "<div>\n",
       "<style scoped>\n",
       "    .dataframe tbody tr th:only-of-type {\n",
       "        vertical-align: middle;\n",
       "    }\n",
       "\n",
       "    .dataframe tbody tr th {\n",
       "        vertical-align: top;\n",
       "    }\n",
       "\n",
       "    .dataframe thead th {\n",
       "        text-align: right;\n",
       "    }\n",
       "</style>\n",
       "<table border=\"1\" class=\"dataframe\">\n",
       "  <thead>\n",
       "    <tr style=\"text-align: right;\">\n",
       "      <th></th>\n",
       "      <th>datetime</th>\n",
       "      <th>PM2.5</th>\n",
       "      <th>USAQI</th>\n",
       "      <th>CO2</th>\n",
       "      <th>Temperature</th>\n",
       "      <th>RelativeHumidity</th>\n",
       "      <th>weekday</th>\n",
       "      <th>hour</th>\n",
       "      <th>month</th>\n",
       "      <th>year</th>\n",
       "      <th>dayofmonth</th>\n",
       "      <th>drct</th>\n",
       "      <th>sped</th>\n",
       "      <th>vsby</th>\n",
       "    </tr>\n",
       "  </thead>\n",
       "  <tbody>\n",
       "    <tr>\n",
       "      <td>14587</td>\n",
       "      <td>2018-08-31 19:00:00</td>\n",
       "      <td>26.571429</td>\n",
       "      <td>79.142857</td>\n",
       "      <td>506.000000</td>\n",
       "      <td>26.857143</td>\n",
       "      <td>80.571429</td>\n",
       "      <td>4.0</td>\n",
       "      <td>19.0</td>\n",
       "      <td>8.0</td>\n",
       "      <td>2018.0</td>\n",
       "      <td>31.0</td>\n",
       "      <td>150.000000</td>\n",
       "      <td>7.762500</td>\n",
       "      <td>2.800000</td>\n",
       "    </tr>\n",
       "    <tr>\n",
       "      <td>14588</td>\n",
       "      <td>2018-08-31 20:00:00</td>\n",
       "      <td>26.571429</td>\n",
       "      <td>78.571429</td>\n",
       "      <td>475.428571</td>\n",
       "      <td>26.857143</td>\n",
       "      <td>82.000000</td>\n",
       "      <td>4.0</td>\n",
       "      <td>20.0</td>\n",
       "      <td>8.0</td>\n",
       "      <td>2018.0</td>\n",
       "      <td>31.0</td>\n",
       "      <td>201.250000</td>\n",
       "      <td>8.768750</td>\n",
       "      <td>2.955000</td>\n",
       "    </tr>\n",
       "    <tr>\n",
       "      <td>14589</td>\n",
       "      <td>2018-08-31 21:00:00</td>\n",
       "      <td>26.000000</td>\n",
       "      <td>76.857143</td>\n",
       "      <td>457.714286</td>\n",
       "      <td>26.857143</td>\n",
       "      <td>82.142857</td>\n",
       "      <td>4.0</td>\n",
       "      <td>21.0</td>\n",
       "      <td>8.0</td>\n",
       "      <td>2018.0</td>\n",
       "      <td>31.0</td>\n",
       "      <td>196.666667</td>\n",
       "      <td>7.283333</td>\n",
       "      <td>3.006667</td>\n",
       "    </tr>\n",
       "    <tr>\n",
       "      <td>14590</td>\n",
       "      <td>2018-08-31 22:00:00</td>\n",
       "      <td>25.714286</td>\n",
       "      <td>75.857143</td>\n",
       "      <td>447.000000</td>\n",
       "      <td>26.857143</td>\n",
       "      <td>83.285714</td>\n",
       "      <td>4.0</td>\n",
       "      <td>22.0</td>\n",
       "      <td>8.0</td>\n",
       "      <td>2018.0</td>\n",
       "      <td>31.0</td>\n",
       "      <td>174.285714</td>\n",
       "      <td>7.064286</td>\n",
       "      <td>3.021429</td>\n",
       "    </tr>\n",
       "    <tr>\n",
       "      <td>14591</td>\n",
       "      <td>2018-08-31 23:00:00</td>\n",
       "      <td>24.142857</td>\n",
       "      <td>72.571429</td>\n",
       "      <td>440.285714</td>\n",
       "      <td>26.857143</td>\n",
       "      <td>83.285714</td>\n",
       "      <td>4.0</td>\n",
       "      <td>23.0</td>\n",
       "      <td>8.0</td>\n",
       "      <td>2018.0</td>\n",
       "      <td>31.0</td>\n",
       "      <td>174.000000</td>\n",
       "      <td>8.280000</td>\n",
       "      <td>2.986000</td>\n",
       "    </tr>\n",
       "  </tbody>\n",
       "</table>\n",
       "</div>"
      ],
      "text/plain": [
       "                  datetime      PM2.5      USAQI         CO2  Temperature  \\\n",
       "14587  2018-08-31 19:00:00  26.571429  79.142857  506.000000    26.857143   \n",
       "14588  2018-08-31 20:00:00  26.571429  78.571429  475.428571    26.857143   \n",
       "14589  2018-08-31 21:00:00  26.000000  76.857143  457.714286    26.857143   \n",
       "14590  2018-08-31 22:00:00  25.714286  75.857143  447.000000    26.857143   \n",
       "14591  2018-08-31 23:00:00  24.142857  72.571429  440.285714    26.857143   \n",
       "\n",
       "       RelativeHumidity  weekday  hour  month    year  dayofmonth        drct  \\\n",
       "14587         80.571429      4.0  19.0    8.0  2018.0        31.0  150.000000   \n",
       "14588         82.000000      4.0  20.0    8.0  2018.0        31.0  201.250000   \n",
       "14589         82.142857      4.0  21.0    8.0  2018.0        31.0  196.666667   \n",
       "14590         83.285714      4.0  22.0    8.0  2018.0        31.0  174.285714   \n",
       "14591         83.285714      4.0  23.0    8.0  2018.0        31.0  174.000000   \n",
       "\n",
       "           sped      vsby  \n",
       "14587  7.762500  2.800000  \n",
       "14588  8.768750  2.955000  \n",
       "14589  7.283333  3.006667  \n",
       "14590  7.064286  3.021429  \n",
       "14591  8.280000  2.986000  "
      ]
     },
     "execution_count": 17,
     "metadata": {},
     "output_type": "execute_result"
    }
   ],
   "source": [
    "#we have data for a total of 20 months, let's train (roughly) for 16 months, and test for the remaining 4.\n",
    "\n",
    "trainData = finalData[:30*16*24]\n",
    "testData = finalData[30*16*24:]\n",
    "trainData.info()\n",
    "testData.info()\n",
    "finalData.tail()"
   ]
  },
  {
   "cell_type": "code",
   "execution_count": 18,
   "metadata": {
    "colab": {
     "base_uri": "https://localhost:8080/",
     "height": 54
    },
    "colab_type": "code",
    "id": "wcAGgqoc1b91",
    "outputId": "90f1dfed-3239-445e-9d4d-d9bd1b129129"
   },
   "outputs": [
    {
     "data": {
      "text/plain": [
       "'\\nTrain = trainData.shape\\ntau = 5\\nfeatures = np.zeros((Train[0]-tau, tau*Train[1]-1))\\nfeatures = pd.DataFrame(features)\\nprint(features.shape)\\nfor i in range(tau):\\n    features[:, i*Train[1]:(i+1)*Train[1]] = trainData[i:Train[0]-tau]\\nprint(features)\\n'"
      ]
     },
     "execution_count": 18,
     "metadata": {},
     "output_type": "execute_result"
    }
   ],
   "source": [
    "\"\"\"\n",
    "Train = trainData.shape\n",
    "tau = 5\n",
    "features = np.zeros((Train[0]-tau, tau*Train[1]-1))\n",
    "features = pd.DataFrame(features)\n",
    "print(features.shape)\n",
    "for i in range(tau):\n",
    "    features[:, i*Train[1]:(i+1)*Train[1]] = trainData[i:Train[0]-tau]\n",
    "print(features)\n",
    "\"\"\""
   ]
  },
  {
   "cell_type": "code",
   "execution_count": 19,
   "metadata": {
    "colab": {},
    "colab_type": "code",
    "id": "T2-3i3Ln1b93"
   },
   "outputs": [],
   "source": [
    "finalData.drop(\"datetime\", axis = 1, inplace = True)"
   ]
  },
  {
   "cell_type": "code",
   "execution_count": 20,
   "metadata": {
    "colab": {},
    "colab_type": "code",
    "id": "y9Yg-vYu1b95"
   },
   "outputs": [],
   "source": [
    "\n",
    "\n",
    "#finalData.drop(\"PM2.5\", axis = 1, inplace = True)"
   ]
  },
  {
   "cell_type": "code",
   "execution_count": 21,
   "metadata": {
    "colab": {},
    "colab_type": "code",
    "id": "0c4atN5_1b96"
   },
   "outputs": [],
   "source": [
    "mean = finalData.mean()\n",
    "sd = finalData.std()\n",
    "min = finalData.min()\n",
    "max = finalData.max()\n",
    "hrs = 24\n",
    "finalData = finalData.apply(lambda x: (x - np.mean(x)) / (np.std(x)))"
   ]
  },
  {
   "cell_type": "code",
   "execution_count": 22,
   "metadata": {
    "colab": {
     "base_uri": "https://localhost:8080/",
     "height": 270
    },
    "colab_type": "code",
    "id": "ljwPdw951b98",
    "outputId": "0df91705-dae1-4f10-8978-76f2b11a1bcd"
   },
   "outputs": [
    {
     "data": {
      "text/html": [
       "<div>\n",
       "<style scoped>\n",
       "    .dataframe tbody tr th:only-of-type {\n",
       "        vertical-align: middle;\n",
       "    }\n",
       "\n",
       "    .dataframe tbody tr th {\n",
       "        vertical-align: top;\n",
       "    }\n",
       "\n",
       "    .dataframe thead th {\n",
       "        text-align: right;\n",
       "    }\n",
       "</style>\n",
       "<table border=\"1\" class=\"dataframe\">\n",
       "  <thead>\n",
       "    <tr style=\"text-align: right;\">\n",
       "      <th></th>\n",
       "      <th>PM2.5(t-24)</th>\n",
       "      <th>USAQI(t-24)</th>\n",
       "      <th>CO2(t-24)</th>\n",
       "      <th>Temperature(t-24)</th>\n",
       "      <th>RelativeHumidity(t-24)</th>\n",
       "      <th>weekday(t-24)</th>\n",
       "      <th>hour(t-24)</th>\n",
       "      <th>month(t-24)</th>\n",
       "      <th>year(t-24)</th>\n",
       "      <th>dayofmonth(t-24)</th>\n",
       "      <th>...</th>\n",
       "      <th>Temperature(t-1)</th>\n",
       "      <th>RelativeHumidity(t-1)</th>\n",
       "      <th>weekday(t-1)</th>\n",
       "      <th>hour(t-1)</th>\n",
       "      <th>month(t-1)</th>\n",
       "      <th>year(t-1)</th>\n",
       "      <th>dayofmonth(t-1)</th>\n",
       "      <th>drct(t-1)</th>\n",
       "      <th>sped(t-1)</th>\n",
       "      <th>vsby(t-1)</th>\n",
       "    </tr>\n",
       "  </thead>\n",
       "  <tbody>\n",
       "    <tr>\n",
       "      <td>24</td>\n",
       "      <td>5.171740</td>\n",
       "      <td>3.738979</td>\n",
       "      <td>0.260616</td>\n",
       "      <td>-0.922449</td>\n",
       "      <td>-0.208203</td>\n",
       "      <td>1.498255</td>\n",
       "      <td>-1.661325</td>\n",
       "      <td>-1.479853</td>\n",
       "      <td>-0.815937</td>\n",
       "      <td>-1.672732</td>\n",
       "      <td>...</td>\n",
       "      <td>-1.487704</td>\n",
       "      <td>-0.915926</td>\n",
       "      <td>1.498255</td>\n",
       "      <td>1.661325</td>\n",
       "      <td>-1.479853</td>\n",
       "      <td>-0.815937</td>\n",
       "      <td>-1.672732</td>\n",
       "      <td>-2.357726</td>\n",
       "      <td>-1.802014</td>\n",
       "      <td>-3.152057</td>\n",
       "    </tr>\n",
       "    <tr>\n",
       "      <td>25</td>\n",
       "      <td>4.783023</td>\n",
       "      <td>3.436119</td>\n",
       "      <td>0.371624</td>\n",
       "      <td>-1.076610</td>\n",
       "      <td>-0.433009</td>\n",
       "      <td>1.498255</td>\n",
       "      <td>-1.516862</td>\n",
       "      <td>-1.479853</td>\n",
       "      <td>-0.815937</td>\n",
       "      <td>-1.672732</td>\n",
       "      <td>...</td>\n",
       "      <td>-1.693251</td>\n",
       "      <td>-0.915926</td>\n",
       "      <td>-1.501544</td>\n",
       "      <td>-1.661325</td>\n",
       "      <td>-1.479853</td>\n",
       "      <td>-0.815937</td>\n",
       "      <td>-1.559020</td>\n",
       "      <td>2.837529</td>\n",
       "      <td>-0.137187</td>\n",
       "      <td>-0.058608</td>\n",
       "    </tr>\n",
       "    <tr>\n",
       "      <td>26</td>\n",
       "      <td>4.705280</td>\n",
       "      <td>3.375547</td>\n",
       "      <td>0.218988</td>\n",
       "      <td>-1.076610</td>\n",
       "      <td>-0.632837</td>\n",
       "      <td>1.498255</td>\n",
       "      <td>-1.372399</td>\n",
       "      <td>-1.479853</td>\n",
       "      <td>-0.815937</td>\n",
       "      <td>-1.672732</td>\n",
       "      <td>...</td>\n",
       "      <td>-1.693251</td>\n",
       "      <td>-0.949230</td>\n",
       "      <td>-1.501544</td>\n",
       "      <td>-1.516862</td>\n",
       "      <td>-1.479853</td>\n",
       "      <td>-0.815937</td>\n",
       "      <td>-1.559020</td>\n",
       "      <td>0.239902</td>\n",
       "      <td>-0.414658</td>\n",
       "      <td>-1.210695</td>\n",
       "    </tr>\n",
       "    <tr>\n",
       "      <td>27</td>\n",
       "      <td>3.124499</td>\n",
       "      <td>2.507350</td>\n",
       "      <td>-0.081657</td>\n",
       "      <td>-1.590477</td>\n",
       "      <td>-0.532923</td>\n",
       "      <td>1.498255</td>\n",
       "      <td>-1.227936</td>\n",
       "      <td>-1.479853</td>\n",
       "      <td>-0.815937</td>\n",
       "      <td>-1.672732</td>\n",
       "      <td>...</td>\n",
       "      <td>-1.076610</td>\n",
       "      <td>-0.632837</td>\n",
       "      <td>1.498255</td>\n",
       "      <td>-1.372399</td>\n",
       "      <td>-1.479853</td>\n",
       "      <td>-0.815937</td>\n",
       "      <td>-1.672732</td>\n",
       "      <td>-2.285570</td>\n",
       "      <td>-1.177704</td>\n",
       "      <td>-2.735142</td>\n",
       "    </tr>\n",
       "    <tr>\n",
       "      <td>28</td>\n",
       "      <td>2.782428</td>\n",
       "      <td>2.176223</td>\n",
       "      <td>-0.349926</td>\n",
       "      <td>-1.590477</td>\n",
       "      <td>-0.649489</td>\n",
       "      <td>1.498255</td>\n",
       "      <td>-1.083473</td>\n",
       "      <td>-1.479853</td>\n",
       "      <td>-0.815937</td>\n",
       "      <td>-1.672732</td>\n",
       "      <td>...</td>\n",
       "      <td>-1.590477</td>\n",
       "      <td>-0.532923</td>\n",
       "      <td>1.498255</td>\n",
       "      <td>-1.227936</td>\n",
       "      <td>-1.479853</td>\n",
       "      <td>-0.815937</td>\n",
       "      <td>-1.672732</td>\n",
       "      <td>-2.357726</td>\n",
       "      <td>-1.802014</td>\n",
       "      <td>-2.591926</td>\n",
       "    </tr>\n",
       "  </tbody>\n",
       "</table>\n",
       "<p>5 rows × 312 columns</p>\n",
       "</div>"
      ],
      "text/plain": [
       "    PM2.5(t-24)  USAQI(t-24)  CO2(t-24)  Temperature(t-24)  \\\n",
       "24     5.171740     3.738979   0.260616          -0.922449   \n",
       "25     4.783023     3.436119   0.371624          -1.076610   \n",
       "26     4.705280     3.375547   0.218988          -1.076610   \n",
       "27     3.124499     2.507350  -0.081657          -1.590477   \n",
       "28     2.782428     2.176223  -0.349926          -1.590477   \n",
       "\n",
       "    RelativeHumidity(t-24)  weekday(t-24)  hour(t-24)  month(t-24)  \\\n",
       "24               -0.208203       1.498255   -1.661325    -1.479853   \n",
       "25               -0.433009       1.498255   -1.516862    -1.479853   \n",
       "26               -0.632837       1.498255   -1.372399    -1.479853   \n",
       "27               -0.532923       1.498255   -1.227936    -1.479853   \n",
       "28               -0.649489       1.498255   -1.083473    -1.479853   \n",
       "\n",
       "    year(t-24)  dayofmonth(t-24)  ...  Temperature(t-1)  \\\n",
       "24   -0.815937         -1.672732  ...         -1.487704   \n",
       "25   -0.815937         -1.672732  ...         -1.693251   \n",
       "26   -0.815937         -1.672732  ...         -1.693251   \n",
       "27   -0.815937         -1.672732  ...         -1.076610   \n",
       "28   -0.815937         -1.672732  ...         -1.590477   \n",
       "\n",
       "    RelativeHumidity(t-1)  weekday(t-1)  hour(t-1)  month(t-1)  year(t-1)  \\\n",
       "24              -0.915926      1.498255   1.661325   -1.479853  -0.815937   \n",
       "25              -0.915926     -1.501544  -1.661325   -1.479853  -0.815937   \n",
       "26              -0.949230     -1.501544  -1.516862   -1.479853  -0.815937   \n",
       "27              -0.632837      1.498255  -1.372399   -1.479853  -0.815937   \n",
       "28              -0.532923      1.498255  -1.227936   -1.479853  -0.815937   \n",
       "\n",
       "    dayofmonth(t-1)  drct(t-1)  sped(t-1)  vsby(t-1)  \n",
       "24        -1.672732  -2.357726  -1.802014  -3.152057  \n",
       "25        -1.559020   2.837529  -0.137187  -0.058608  \n",
       "26        -1.559020   0.239902  -0.414658  -1.210695  \n",
       "27        -1.672732  -2.285570  -1.177704  -2.735142  \n",
       "28        -1.672732  -2.357726  -1.802014  -2.591926  \n",
       "\n",
       "[5 rows x 312 columns]"
      ]
     },
     "metadata": {},
     "output_type": "display_data"
    }
   ],
   "source": [
    "name = list(finalData.columns)\n",
    "cols, names = list(), list()\n",
    "for i in range(hrs, 0, -1): #24 times steps\n",
    "    cols.append(finalData.shift(i))\n",
    "    names += [('%s(t-%d)' % (name[j], i)) for j in range(finalData.shape[1])]\n",
    "#cols.append(finalData.shift(-i))\n",
    "#names += [('%s(t)' % (name[j])) for j in range(finalData.shape[1])]\n",
    "finalDataset = pd.concat(cols, axis=1)\n",
    "finalDataset.columns = names\n",
    "finalDataset = finalDataset[hrs:]\n",
    "labels = finalData[\"PM2.5\"]\n",
    "display(finalDataset.head())\n",
    "#labels = finalDataset[\"PM2.5(t)\"]\n",
    "#finalDataset.drop(\"PM2.5(t)\", axis = 1, inplace = True)\n",
    "#display(finalDataset)"
   ]
  },
  {
   "cell_type": "code",
   "execution_count": 23,
   "metadata": {
    "colab": {},
    "colab_type": "code",
    "id": "2fg3Zmfj1b9_"
   },
   "outputs": [],
   "source": [
    "#finalDataset = finalDataset[:8000]\n",
    "finalDataset.reset_index(drop = True)\n",
    "finalDataset = finalDataset[:-1]\n",
    "labels = labels[hrs:-1]\n",
    "#we have data for a total of 20 months, let's train (roughly) for 16 months, and test for the remaining 4.\n",
    "trainDataX = finalDataset[:30*16*24]\n",
    "testDataX = finalDataset[30*16*24:]\n",
    "trainDataY = labels[:30*16*24]\n",
    "testDataY = labels[30*16*24:]\n",
    "\n",
    "#trainData.info()\n",
    "#testData.info()\n"
   ]
  },
  {
   "cell_type": "code",
   "execution_count": 24,
   "metadata": {
    "colab": {
     "base_uri": "https://localhost:8080/",
     "height": 102
    },
    "colab_type": "code",
    "id": "fc04lZw11b-A",
    "outputId": "55191d14-a69d-457e-82eb-8e2f5a172e24"
   },
   "outputs": [
    {
     "name": "stdout",
     "output_type": "stream",
     "text": [
      "<class 'pandas.core.frame.DataFrame'>\n",
      "RangeIndex: 14567 entries, 24 to 14590\n",
      "Columns: 312 entries, PM2.5(t-24) to vsby(t-1)\n",
      "dtypes: float64(312)\n",
      "memory usage: 34.7 MB\n"
     ]
    }
   ],
   "source": [
    "finalDataset.info()"
   ]
  },
  {
   "cell_type": "code",
   "execution_count": 25,
   "metadata": {
    "colab": {},
    "colab_type": "code",
    "id": "I5TsA02l1b-C"
   },
   "outputs": [
    {
     "ename": "MXNetError",
     "evalue": "[01:47:39] C:\\Jenkins\\workspace\\mxnet-tag\\mxnet\\src\\storage\\storage.cc:119: Compile with USE_CUDA=1 to enable GPU usage",
     "output_type": "error",
     "traceback": [
      "\u001b[1;31m---------------------------------------------------------------------------\u001b[0m",
      "\u001b[1;31mMXNetError\u001b[0m                                Traceback (most recent call last)",
      "\u001b[1;32m<ipython-input-25-f423e6277a1e>\u001b[0m in \u001b[0;36m<module>\u001b[1;34m\u001b[0m\n\u001b[0;32m      1\u001b[0m \u001b[1;32mfrom\u001b[0m \u001b[0mmxnet\u001b[0m \u001b[1;32mimport\u001b[0m \u001b[0mnd\u001b[0m\u001b[1;33m\u001b[0m\u001b[1;33m\u001b[0m\u001b[0m\n\u001b[1;32m----> 2\u001b[1;33m \u001b[0mfinalDataset\u001b[0m \u001b[1;33m=\u001b[0m \u001b[0mnd\u001b[0m\u001b[1;33m.\u001b[0m\u001b[0marray\u001b[0m\u001b[1;33m(\u001b[0m\u001b[0mfinalDataset\u001b[0m\u001b[1;33m,\u001b[0m \u001b[0mctx\u001b[0m\u001b[1;33m=\u001b[0m\u001b[0mctx\u001b[0m\u001b[1;33m)\u001b[0m\u001b[1;33m.\u001b[0m\u001b[0mreshape\u001b[0m\u001b[1;33m(\u001b[0m\u001b[1;33m-\u001b[0m\u001b[1;36m1\u001b[0m\u001b[1;33m,\u001b[0m \u001b[0mhrs\u001b[0m\u001b[1;33m,\u001b[0m \u001b[1;36m13\u001b[0m\u001b[1;33m)\u001b[0m\u001b[1;33m\u001b[0m\u001b[1;33m\u001b[0m\u001b[0m\n\u001b[0m\u001b[0;32m      3\u001b[0m \u001b[0mtrainDataX\u001b[0m \u001b[1;33m=\u001b[0m \u001b[0mnd\u001b[0m\u001b[1;33m.\u001b[0m\u001b[0marray\u001b[0m\u001b[1;33m(\u001b[0m\u001b[0mtrainDataX\u001b[0m\u001b[1;33m,\u001b[0m \u001b[0mctx\u001b[0m\u001b[1;33m=\u001b[0m\u001b[0mctx\u001b[0m\u001b[1;33m)\u001b[0m\u001b[1;33m.\u001b[0m\u001b[0mreshape\u001b[0m\u001b[1;33m(\u001b[0m\u001b[1;33m-\u001b[0m\u001b[1;36m1\u001b[0m\u001b[1;33m,\u001b[0m \u001b[0mhrs\u001b[0m\u001b[1;33m,\u001b[0m \u001b[1;36m13\u001b[0m\u001b[1;33m)\u001b[0m\u001b[1;33m\u001b[0m\u001b[1;33m\u001b[0m\u001b[0m\n\u001b[0;32m      4\u001b[0m \u001b[0mtestDataX\u001b[0m \u001b[1;33m=\u001b[0m \u001b[0mnd\u001b[0m\u001b[1;33m.\u001b[0m\u001b[0marray\u001b[0m\u001b[1;33m(\u001b[0m\u001b[0mtestDataX\u001b[0m\u001b[1;33m,\u001b[0m \u001b[0mctx\u001b[0m\u001b[1;33m=\u001b[0m\u001b[0mctx\u001b[0m\u001b[1;33m)\u001b[0m\u001b[1;33m.\u001b[0m\u001b[0mreshape\u001b[0m\u001b[1;33m(\u001b[0m\u001b[1;33m-\u001b[0m\u001b[1;36m1\u001b[0m\u001b[1;33m,\u001b[0m \u001b[0mhrs\u001b[0m\u001b[1;33m,\u001b[0m \u001b[1;36m13\u001b[0m\u001b[1;33m)\u001b[0m\u001b[1;33m\u001b[0m\u001b[1;33m\u001b[0m\u001b[0m\n",
      "\u001b[1;32m~\\Anaconda3\\lib\\site-packages\\mxnet\\ndarray\\utils.py\u001b[0m in \u001b[0;36marray\u001b[1;34m(source_array, ctx, dtype)\u001b[0m\n\u001b[0;32m    144\u001b[0m         \u001b[1;32mreturn\u001b[0m \u001b[0m_sparse_array\u001b[0m\u001b[1;33m(\u001b[0m\u001b[0msource_array\u001b[0m\u001b[1;33m,\u001b[0m \u001b[0mctx\u001b[0m\u001b[1;33m=\u001b[0m\u001b[0mctx\u001b[0m\u001b[1;33m,\u001b[0m \u001b[0mdtype\u001b[0m\u001b[1;33m=\u001b[0m\u001b[0mdtype\u001b[0m\u001b[1;33m)\u001b[0m\u001b[1;33m\u001b[0m\u001b[1;33m\u001b[0m\u001b[0m\n\u001b[0;32m    145\u001b[0m     \u001b[1;32melse\u001b[0m\u001b[1;33m:\u001b[0m\u001b[1;33m\u001b[0m\u001b[1;33m\u001b[0m\u001b[0m\n\u001b[1;32m--> 146\u001b[1;33m         \u001b[1;32mreturn\u001b[0m \u001b[0m_array\u001b[0m\u001b[1;33m(\u001b[0m\u001b[0msource_array\u001b[0m\u001b[1;33m,\u001b[0m \u001b[0mctx\u001b[0m\u001b[1;33m=\u001b[0m\u001b[0mctx\u001b[0m\u001b[1;33m,\u001b[0m \u001b[0mdtype\u001b[0m\u001b[1;33m=\u001b[0m\u001b[0mdtype\u001b[0m\u001b[1;33m)\u001b[0m\u001b[1;33m\u001b[0m\u001b[1;33m\u001b[0m\u001b[0m\n\u001b[0m\u001b[0;32m    147\u001b[0m \u001b[1;33m\u001b[0m\u001b[0m\n\u001b[0;32m    148\u001b[0m \u001b[1;33m\u001b[0m\u001b[0m\n",
      "\u001b[1;32m~\\Anaconda3\\lib\\site-packages\\mxnet\\ndarray\\ndarray.py\u001b[0m in \u001b[0;36marray\u001b[1;34m(source_array, ctx, dtype)\u001b[0m\n\u001b[0;32m   2502\u001b[0m             \u001b[1;32mexcept\u001b[0m\u001b[1;33m:\u001b[0m\u001b[1;33m\u001b[0m\u001b[1;33m\u001b[0m\u001b[0m\n\u001b[0;32m   2503\u001b[0m                 \u001b[1;32mraise\u001b[0m \u001b[0mTypeError\u001b[0m\u001b[1;33m(\u001b[0m\u001b[1;34m'source_array must be array like object'\u001b[0m\u001b[1;33m)\u001b[0m\u001b[1;33m\u001b[0m\u001b[1;33m\u001b[0m\u001b[0m\n\u001b[1;32m-> 2504\u001b[1;33m     \u001b[0marr\u001b[0m \u001b[1;33m=\u001b[0m \u001b[0mempty\u001b[0m\u001b[1;33m(\u001b[0m\u001b[0msource_array\u001b[0m\u001b[1;33m.\u001b[0m\u001b[0mshape\u001b[0m\u001b[1;33m,\u001b[0m \u001b[0mctx\u001b[0m\u001b[1;33m,\u001b[0m \u001b[0mdtype\u001b[0m\u001b[1;33m)\u001b[0m\u001b[1;33m\u001b[0m\u001b[1;33m\u001b[0m\u001b[0m\n\u001b[0m\u001b[0;32m   2505\u001b[0m     \u001b[0marr\u001b[0m\u001b[1;33m[\u001b[0m\u001b[1;33m:\u001b[0m\u001b[1;33m]\u001b[0m \u001b[1;33m=\u001b[0m \u001b[0msource_array\u001b[0m\u001b[1;33m\u001b[0m\u001b[1;33m\u001b[0m\u001b[0m\n\u001b[0;32m   2506\u001b[0m     \u001b[1;32mreturn\u001b[0m \u001b[0marr\u001b[0m\u001b[1;33m\u001b[0m\u001b[1;33m\u001b[0m\u001b[0m\n",
      "\u001b[1;32m~\\Anaconda3\\lib\\site-packages\\mxnet\\ndarray\\ndarray.py\u001b[0m in \u001b[0;36mempty\u001b[1;34m(shape, ctx, dtype)\u001b[0m\n\u001b[0;32m   3953\u001b[0m     \u001b[1;32mif\u001b[0m \u001b[0mdtype\u001b[0m \u001b[1;32mis\u001b[0m \u001b[1;32mNone\u001b[0m\u001b[1;33m:\u001b[0m\u001b[1;33m\u001b[0m\u001b[1;33m\u001b[0m\u001b[0m\n\u001b[0;32m   3954\u001b[0m         \u001b[0mdtype\u001b[0m \u001b[1;33m=\u001b[0m \u001b[0mmx_real_t\u001b[0m\u001b[1;33m\u001b[0m\u001b[1;33m\u001b[0m\u001b[0m\n\u001b[1;32m-> 3955\u001b[1;33m     \u001b[1;32mreturn\u001b[0m \u001b[0mNDArray\u001b[0m\u001b[1;33m(\u001b[0m\u001b[0mhandle\u001b[0m\u001b[1;33m=\u001b[0m\u001b[0m_new_alloc_handle\u001b[0m\u001b[1;33m(\u001b[0m\u001b[0mshape\u001b[0m\u001b[1;33m,\u001b[0m \u001b[0mctx\u001b[0m\u001b[1;33m,\u001b[0m \u001b[1;32mFalse\u001b[0m\u001b[1;33m,\u001b[0m \u001b[0mdtype\u001b[0m\u001b[1;33m)\u001b[0m\u001b[1;33m)\u001b[0m\u001b[1;33m\u001b[0m\u001b[1;33m\u001b[0m\u001b[0m\n\u001b[0m\u001b[0;32m   3956\u001b[0m \u001b[1;33m\u001b[0m\u001b[0m\n\u001b[0;32m   3957\u001b[0m \u001b[1;33m\u001b[0m\u001b[0m\n",
      "\u001b[1;32m~\\Anaconda3\\lib\\site-packages\\mxnet\\ndarray\\ndarray.py\u001b[0m in \u001b[0;36m_new_alloc_handle\u001b[1;34m(shape, ctx, delay_alloc, dtype)\u001b[0m\n\u001b[0;32m    139\u001b[0m         \u001b[0mctypes\u001b[0m\u001b[1;33m.\u001b[0m\u001b[0mc_int\u001b[0m\u001b[1;33m(\u001b[0m\u001b[0mint\u001b[0m\u001b[1;33m(\u001b[0m\u001b[0mdelay_alloc\u001b[0m\u001b[1;33m)\u001b[0m\u001b[1;33m)\u001b[0m\u001b[1;33m,\u001b[0m\u001b[1;33m\u001b[0m\u001b[1;33m\u001b[0m\u001b[0m\n\u001b[0;32m    140\u001b[0m         \u001b[0mctypes\u001b[0m\u001b[1;33m.\u001b[0m\u001b[0mc_int\u001b[0m\u001b[1;33m(\u001b[0m\u001b[0mint\u001b[0m\u001b[1;33m(\u001b[0m\u001b[0m_DTYPE_NP_TO_MX\u001b[0m\u001b[1;33m[\u001b[0m\u001b[0mnp\u001b[0m\u001b[1;33m.\u001b[0m\u001b[0mdtype\u001b[0m\u001b[1;33m(\u001b[0m\u001b[0mdtype\u001b[0m\u001b[1;33m)\u001b[0m\u001b[1;33m.\u001b[0m\u001b[0mtype\u001b[0m\u001b[1;33m]\u001b[0m\u001b[1;33m)\u001b[0m\u001b[1;33m)\u001b[0m\u001b[1;33m,\u001b[0m\u001b[1;33m\u001b[0m\u001b[1;33m\u001b[0m\u001b[0m\n\u001b[1;32m--> 141\u001b[1;33m         ctypes.byref(hdl)))\n\u001b[0m\u001b[0;32m    142\u001b[0m     \u001b[1;32mreturn\u001b[0m \u001b[0mhdl\u001b[0m\u001b[1;33m\u001b[0m\u001b[1;33m\u001b[0m\u001b[0m\n\u001b[0;32m    143\u001b[0m \u001b[1;33m\u001b[0m\u001b[0m\n",
      "\u001b[1;32m~\\Anaconda3\\lib\\site-packages\\mxnet\\base.py\u001b[0m in \u001b[0;36mcheck_call\u001b[1;34m(ret)\u001b[0m\n\u001b[0;32m    251\u001b[0m     \"\"\"\n\u001b[0;32m    252\u001b[0m     \u001b[1;32mif\u001b[0m \u001b[0mret\u001b[0m \u001b[1;33m!=\u001b[0m \u001b[1;36m0\u001b[0m\u001b[1;33m:\u001b[0m\u001b[1;33m\u001b[0m\u001b[1;33m\u001b[0m\u001b[0m\n\u001b[1;32m--> 253\u001b[1;33m         \u001b[1;32mraise\u001b[0m \u001b[0mMXNetError\u001b[0m\u001b[1;33m(\u001b[0m\u001b[0mpy_str\u001b[0m\u001b[1;33m(\u001b[0m\u001b[0m_LIB\u001b[0m\u001b[1;33m.\u001b[0m\u001b[0mMXGetLastError\u001b[0m\u001b[1;33m(\u001b[0m\u001b[1;33m)\u001b[0m\u001b[1;33m)\u001b[0m\u001b[1;33m)\u001b[0m\u001b[1;33m\u001b[0m\u001b[1;33m\u001b[0m\u001b[0m\n\u001b[0m\u001b[0;32m    254\u001b[0m \u001b[1;33m\u001b[0m\u001b[0m\n\u001b[0;32m    255\u001b[0m \u001b[1;33m\u001b[0m\u001b[0m\n",
      "\u001b[1;31mMXNetError\u001b[0m: [01:47:39] C:\\Jenkins\\workspace\\mxnet-tag\\mxnet\\src\\storage\\storage.cc:119: Compile with USE_CUDA=1 to enable GPU usage"
     ]
    }
   ],
   "source": [
    "from mxnet import nd\n",
    "finalDataset = nd.array(finalDataset, ctx=ctx).reshape(-1, hrs, 13)\n",
    "trainDataX = nd.array(trainDataX, ctx=ctx).reshape(-1, hrs, 13)\n",
    "testDataX = nd.array(testDataX, ctx=ctx).reshape(-1, hrs, 13)"
   ]
  },
  {
   "cell_type": "code",
   "execution_count": null,
   "metadata": {
    "colab": {},
    "colab_type": "code",
    "id": "ERZOdSKV1b-E"
   },
   "outputs": [],
   "source": [
    "trainDataY = nd.array(trainDataY, ctx=ctx)\n",
    "testDataY = nd.array(testDataY, ctx=ctx)"
   ]
  },
  {
   "cell_type": "code",
   "execution_count": null,
   "metadata": {
    "colab": {},
    "colab_type": "code",
    "id": "0FYCjWDd1b-F"
   },
   "outputs": [],
   "source": [
    "model = mxnet.gluon.nn.Sequential()\n",
    "model.add(mxnet.gluon.rnn.LSTM(24, 1))\n",
    "#model.add(mxnet.gluon.rnn.LSTM(30, 1, dropout = 0.2))\n",
    "#model.add(mxnet.gluon.rnn.LSTM(10, 1, dropout = 0.2))\n",
    "model.add(mxnet.gluon.nn.Dense(1, activation='tanh'))\n",
    "\n",
    "model.initialize(mxnet.init.Xavier(), ctx=ctx)\n",
    "\n",
    "trainer = mxnet.gluon.Trainer(\n",
    "    params=model.collect_params(),\n",
    "    optimizer='adam',\n",
    "    optimizer_params={'learning_rate': 0.005}\n",
    ")"
   ]
  },
  {
   "cell_type": "code",
   "execution_count": null,
   "metadata": {
    "colab": {},
    "colab_type": "code",
    "id": "VxTsnv0k1b-I"
   },
   "outputs": [],
   "source": [
    "loss = mxnet.gluon.loss.L2Loss()\n",
    "error = mxnet.metric.MSE()"
   ]
  },
  {
   "cell_type": "code",
   "execution_count": null,
   "metadata": {
    "colab": {
     "base_uri": "https://localhost:8080/",
     "height": 204
    },
    "colab_type": "code",
    "id": "_WA6Rizg1b-L",
    "outputId": "5b400ec7-22b3-49ed-b626-94bd27567454"
   },
   "outputs": [],
   "source": [
    "print(ctx)\n",
    "batch_size = 4\n",
    "epochs = 10\n",
    "trainingLoss = []\n",
    "train_iter = mxnet.io.NDArrayIter(trainDataX, trainDataY, batch_size, shuffle=True)\n",
    "for epoch in range(epochs):\n",
    "    for trn_batch in train_iter:\n",
    "        x = trn_batch.data[0]\n",
    "        y = trn_batch.label[0]\n",
    "        x, y = x.as_in_context(ctx), y.as_in_context(ctx)\n",
    "        with mxnet.autograd.record():\n",
    "            y_pred = model(x)\n",
    "            im_loss = loss(y_pred, y)\n",
    "        \n",
    "        #backprop\n",
    "        im_loss.backward()\n",
    "        \n",
    "        #Optimize!\n",
    "        trainer.step(batch_size=batch_size)\n",
    "        \n",
    "    train_iter.reset()\n",
    "    \n",
    "    # Calculate train metrics\n",
    "    \n",
    "    predictions = model(trainDataX)\n",
    "    error.update(trainDataY, predictions)\n",
    "    trainingLoss.append(error.get()[1])\n",
    "    error.reset()\n",
    "    \n",
    "    train_iter.reset()\n",
    "    \n",
    "    print(\"epoch: {} | trn_loss: {:.8f}\".format(epoch+1,\n",
    "                                                trainingLoss[-1]))\n"
   ]
  },
  {
   "cell_type": "code",
   "execution_count": null,
   "metadata": {
    "colab": {
     "base_uri": "https://localhost:8080/",
     "height": 119
    },
    "colab_type": "code",
    "id": "qklpm8ov1b-N",
    "outputId": "e7c0879f-6ac5-4228-f119-1cffac8ebf75"
   },
   "outputs": [],
   "source": [
    "print(y_pred)"
   ]
  },
  {
   "cell_type": "code",
   "execution_count": null,
   "metadata": {
    "colab": {
     "base_uri": "https://localhost:8080/",
     "height": 282
    },
    "colab_type": "code",
    "id": "bIK-x4xS1b-P",
    "outputId": "27753404-ac5c-4620-b254-d798fcf36d8a"
   },
   "outputs": [],
   "source": [
    "predictions = model(testDataX)\n",
    "plt.plot(testDataY[24:48].asnumpy(), label = 'actual')\n",
    "plt.plot(predictions[24:48].asnumpy())\n",
    "plt.legend()\n"
   ]
  },
  {
   "cell_type": "code",
   "execution_count": null,
   "metadata": {
    "colab": {},
    "colab_type": "code",
    "id": "Unab2jD61b-R"
   },
   "outputs": [],
   "source": [
    "testDataX2 = testDataX.copy()\n",
    "y_pred2 = []\n",
    "\n",
    "for i in range(len(testDataX2)):\n",
    "  data = testDataX2[i]\n",
    "  shape = data.shape\n",
    "  shape = (1, ) + shape\n",
    "  y = model(data.reshape(*shape))\n",
    "  y_pred2.append(y.reshape(1).asscalar())\n",
    "  for j in range(1, np.min([hrs, len(testDataX2) - i - 1]) + 1):\n",
    "    testDataX2[i + j][-j][0] = y.reshape(1)\n",
    "\n",
    "y_pred2 = np.array(y_pred2)"
   ]
  },
  {
   "cell_type": "code",
   "execution_count": null,
   "metadata": {
    "colab": {
     "base_uri": "https://localhost:8080/",
     "height": 282
    },
    "colab_type": "code",
    "id": "bfBpx8o31b-T",
    "outputId": "d9a269e2-9f94-4024-eb93-95505e8fbba7"
   },
   "outputs": [],
   "source": [
    "plt.plot(testDataY[24:48].asnumpy(), label = 'actual')\n",
    "plt.plot(y_pred2[24:48])\n",
    "plt.legend()"
   ]
  },
  {
   "cell_type": "code",
   "execution_count": null,
   "metadata": {
    "colab": {},
    "colab_type": "code",
    "id": "_h5EZJiDG1Av"
   },
   "outputs": [],
   "source": []
  }
 ],
 "metadata": {
  "accelerator": "GPU",
  "colab": {
   "name": "lstm_4_24hr_0.005lr.ipynb",
   "provenance": []
  },
  "kernelspec": {
   "display_name": "Python 3",
   "language": "python",
   "name": "python3"
  },
  "language_info": {
   "codemirror_mode": {
    "name": "ipython",
    "version": 3
   },
   "file_extension": ".py",
   "mimetype": "text/x-python",
   "name": "python",
   "nbconvert_exporter": "python",
   "pygments_lexer": "ipython3",
   "version": "3.7.4"
  }
 },
 "nbformat": 4,
 "nbformat_minor": 1
}
