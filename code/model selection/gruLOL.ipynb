{
 "cells": [
  {
   "cell_type": "code",
   "execution_count": 34,
   "metadata": {
    "colab": {},
    "colab_type": "code",
    "id": "TjGq2GPZY5w_"
   },
   "outputs": [],
   "source": [
    "#!pip install mxnet\n",
    "\n",
    "import pandas as pd\n",
    "import numpy as np\n",
    "import matplotlib.pyplot as plt\n",
    "import mxnet \n",
    "from mxnet.gluon import *\n"
   ]
  },
  {
   "cell_type": "code",
   "execution_count": 35,
   "metadata": {
    "colab": {},
    "colab_type": "code",
    "id": "IrUIoOeVY5xY"
   },
   "outputs": [],
   "source": [
    "finalData = pd.read_csv('../../data/ReadyData.csv')\n"
   ]
  },
  {
   "cell_type": "code",
   "execution_count": 36,
   "metadata": {
    "colab": {
     "base_uri": "https://localhost:8080/",
     "height": 340
    },
    "colab_type": "code",
    "id": "fvrcplbMY5xl",
    "outputId": "f18aec27-d20e-48df-c6ce-28bcdaacc647"
   },
   "outputs": [
    {
     "name": "stdout",
     "output_type": "stream",
     "text": [
      "<class 'pandas.core.frame.DataFrame'>\n",
      "RangeIndex: 14592 entries, 0 to 14591\n",
      "Data columns (total 14 columns):\n",
      "Unnamed: 0          14592 non-null object\n",
      "PM2.5               14592 non-null float64\n",
      "USAQI               14592 non-null float64\n",
      "CO2                 14592 non-null float64\n",
      "Temperature         14592 non-null float64\n",
      "RelativeHumidity    14592 non-null float64\n",
      "weekday             14592 non-null float64\n",
      "hour                14592 non-null float64\n",
      "month               14592 non-null float64\n",
      "year                14592 non-null float64\n",
      "dayofmonth          14592 non-null float64\n",
      "drct                14592 non-null float64\n",
      "sped                14592 non-null float64\n",
      "vsby                14592 non-null float64\n",
      "dtypes: float64(13), object(1)\n",
      "memory usage: 1.6+ MB\n"
     ]
    }
   ],
   "source": [
    "finalData.info()"
   ]
  },
  {
   "cell_type": "code",
   "execution_count": 37,
   "metadata": {
    "colab": {
     "base_uri": "https://localhost:8080/",
     "height": 411
    },
    "colab_type": "code",
    "id": "lvy1hYssY5x4",
    "outputId": "32307a4c-5c5f-41d9-f8f6-cf4f31947362"
   },
   "outputs": [
    {
     "data": {
      "text/html": [
       "<div>\n",
       "<style scoped>\n",
       "    .dataframe tbody tr th:only-of-type {\n",
       "        vertical-align: middle;\n",
       "    }\n",
       "\n",
       "    .dataframe tbody tr th {\n",
       "        vertical-align: top;\n",
       "    }\n",
       "\n",
       "    .dataframe thead th {\n",
       "        text-align: right;\n",
       "    }\n",
       "</style>\n",
       "<table border=\"1\" class=\"dataframe\">\n",
       "  <thead>\n",
       "    <tr style=\"text-align: right;\">\n",
       "      <th></th>\n",
       "      <th>Unnamed: 0</th>\n",
       "      <th>PM2.5</th>\n",
       "      <th>USAQI</th>\n",
       "      <th>CO2</th>\n",
       "      <th>Temperature</th>\n",
       "      <th>RelativeHumidity</th>\n",
       "      <th>weekday</th>\n",
       "      <th>hour</th>\n",
       "      <th>month</th>\n",
       "      <th>year</th>\n",
       "      <th>dayofmonth</th>\n",
       "      <th>drct</th>\n",
       "      <th>sped</th>\n",
       "      <th>vsby</th>\n",
       "    </tr>\n",
       "  </thead>\n",
       "  <tbody>\n",
       "    <tr>\n",
       "      <td>0</td>\n",
       "      <td>2017-01-01 00:00:00</td>\n",
       "      <td>210.500000</td>\n",
       "      <td>260.500000</td>\n",
       "      <td>438.000000</td>\n",
       "      <td>24.500000</td>\n",
       "      <td>62.500000</td>\n",
       "      <td>6.0</td>\n",
       "      <td>0.0</td>\n",
       "      <td>1.0</td>\n",
       "      <td>2017.0</td>\n",
       "      <td>1.0</td>\n",
       "      <td>10.0</td>\n",
       "      <td>4.6000</td>\n",
       "      <td>1.3950</td>\n",
       "    </tr>\n",
       "    <tr>\n",
       "      <td>1</td>\n",
       "      <td>2017-01-01 01:00:00</td>\n",
       "      <td>198.000000</td>\n",
       "      <td>248.000000</td>\n",
       "      <td>442.000000</td>\n",
       "      <td>24.000000</td>\n",
       "      <td>58.000000</td>\n",
       "      <td>6.0</td>\n",
       "      <td>1.0</td>\n",
       "      <td>1.0</td>\n",
       "      <td>2017.0</td>\n",
       "      <td>1.0</td>\n",
       "      <td>10.0</td>\n",
       "      <td>5.1750</td>\n",
       "      <td>1.3950</td>\n",
       "    </tr>\n",
       "    <tr>\n",
       "      <td>2</td>\n",
       "      <td>2017-01-01 02:00:00</td>\n",
       "      <td>195.500000</td>\n",
       "      <td>245.500000</td>\n",
       "      <td>436.500000</td>\n",
       "      <td>24.000000</td>\n",
       "      <td>54.000000</td>\n",
       "      <td>6.0</td>\n",
       "      <td>2.0</td>\n",
       "      <td>1.0</td>\n",
       "      <td>2017.0</td>\n",
       "      <td>1.0</td>\n",
       "      <td>5.0</td>\n",
       "      <td>2.5875</td>\n",
       "      <td>1.0075</td>\n",
       "    </tr>\n",
       "    <tr>\n",
       "      <td>3</td>\n",
       "      <td>2017-01-01 03:00:00</td>\n",
       "      <td>144.666667</td>\n",
       "      <td>209.666667</td>\n",
       "      <td>425.666667</td>\n",
       "      <td>22.333333</td>\n",
       "      <td>56.000000</td>\n",
       "      <td>6.0</td>\n",
       "      <td>3.0</td>\n",
       "      <td>1.0</td>\n",
       "      <td>2017.0</td>\n",
       "      <td>1.0</td>\n",
       "      <td>0.0</td>\n",
       "      <td>0.0000</td>\n",
       "      <td>1.1200</td>\n",
       "    </tr>\n",
       "    <tr>\n",
       "      <td>4</td>\n",
       "      <td>2017-01-01 04:00:00</td>\n",
       "      <td>133.666667</td>\n",
       "      <td>196.000000</td>\n",
       "      <td>416.000000</td>\n",
       "      <td>22.333333</td>\n",
       "      <td>53.666667</td>\n",
       "      <td>6.0</td>\n",
       "      <td>4.0</td>\n",
       "      <td>1.0</td>\n",
       "      <td>2017.0</td>\n",
       "      <td>1.0</td>\n",
       "      <td>5.0</td>\n",
       "      <td>2.3000</td>\n",
       "      <td>1.1775</td>\n",
       "    </tr>\n",
       "  </tbody>\n",
       "</table>\n",
       "</div>"
      ],
      "text/plain": [
       "            Unnamed: 0       PM2.5       USAQI         CO2  Temperature  \\\n",
       "0  2017-01-01 00:00:00  210.500000  260.500000  438.000000    24.500000   \n",
       "1  2017-01-01 01:00:00  198.000000  248.000000  442.000000    24.000000   \n",
       "2  2017-01-01 02:00:00  195.500000  245.500000  436.500000    24.000000   \n",
       "3  2017-01-01 03:00:00  144.666667  209.666667  425.666667    22.333333   \n",
       "4  2017-01-01 04:00:00  133.666667  196.000000  416.000000    22.333333   \n",
       "\n",
       "   RelativeHumidity  weekday  hour  month    year  dayofmonth  drct    sped  \\\n",
       "0         62.500000      6.0   0.0    1.0  2017.0         1.0  10.0  4.6000   \n",
       "1         58.000000      6.0   1.0    1.0  2017.0         1.0  10.0  5.1750   \n",
       "2         54.000000      6.0   2.0    1.0  2017.0         1.0   5.0  2.5875   \n",
       "3         56.000000      6.0   3.0    1.0  2017.0         1.0   0.0  0.0000   \n",
       "4         53.666667      6.0   4.0    1.0  2017.0         1.0   5.0  2.3000   \n",
       "\n",
       "     vsby  \n",
       "0  1.3950  \n",
       "1  1.3950  \n",
       "2  1.0075  \n",
       "3  1.1200  \n",
       "4  1.1775  "
      ]
     },
     "execution_count": 37,
     "metadata": {},
     "output_type": "execute_result"
    }
   ],
   "source": [
    "finalData.head()"
   ]
  },
  {
   "cell_type": "code",
   "execution_count": 38,
   "metadata": {
    "colab": {
     "base_uri": "https://localhost:8080/",
     "height": 255
    },
    "colab_type": "code",
    "id": "Xmr7qWv9Y5yN",
    "outputId": "b069b01a-70a2-4133-d437-8f01cb520fd1"
   },
   "outputs": [
    {
     "data": {
      "text/plain": [
       "['datetime',\n",
       " 'PM2.5',\n",
       " 'USAQI',\n",
       " 'CO2',\n",
       " 'Temperature',\n",
       " 'RelativeHumidity',\n",
       " 'weekday',\n",
       " 'hour',\n",
       " 'month',\n",
       " 'year',\n",
       " 'dayofmonth',\n",
       " 'drct',\n",
       " 'sped',\n",
       " 'vsby']"
      ]
     },
     "execution_count": 38,
     "metadata": {},
     "output_type": "execute_result"
    }
   ],
   "source": [
    "lst = [\"datetime\"] + list(finalData.columns)[1:]\n",
    "lst"
   ]
  },
  {
   "cell_type": "code",
   "execution_count": 39,
   "metadata": {
    "colab": {},
    "colab_type": "code",
    "id": "1r1pAufdY5yj"
   },
   "outputs": [],
   "source": [
    "finalData.columns = lst"
   ]
  },
  {
   "cell_type": "code",
   "execution_count": 40,
   "metadata": {
    "colab": {
     "base_uri": "https://localhost:8080/",
     "height": 394
    },
    "colab_type": "code",
    "id": "tU4ppnL_Y5yu",
    "outputId": "7749a2be-bd12-4028-f21a-02f0c84842e1"
   },
   "outputs": [
    {
     "data": {
      "text/html": [
       "<div>\n",
       "<style scoped>\n",
       "    .dataframe tbody tr th:only-of-type {\n",
       "        vertical-align: middle;\n",
       "    }\n",
       "\n",
       "    .dataframe tbody tr th {\n",
       "        vertical-align: top;\n",
       "    }\n",
       "\n",
       "    .dataframe thead th {\n",
       "        text-align: right;\n",
       "    }\n",
       "</style>\n",
       "<table border=\"1\" class=\"dataframe\">\n",
       "  <thead>\n",
       "    <tr style=\"text-align: right;\">\n",
       "      <th></th>\n",
       "      <th>datetime</th>\n",
       "      <th>PM2.5</th>\n",
       "      <th>USAQI</th>\n",
       "      <th>CO2</th>\n",
       "      <th>Temperature</th>\n",
       "      <th>RelativeHumidity</th>\n",
       "      <th>weekday</th>\n",
       "      <th>hour</th>\n",
       "      <th>month</th>\n",
       "      <th>year</th>\n",
       "      <th>dayofmonth</th>\n",
       "      <th>drct</th>\n",
       "      <th>sped</th>\n",
       "      <th>vsby</th>\n",
       "    </tr>\n",
       "  </thead>\n",
       "  <tbody>\n",
       "    <tr>\n",
       "      <td>0</td>\n",
       "      <td>2017-01-01 00:00:00</td>\n",
       "      <td>210.500000</td>\n",
       "      <td>260.500000</td>\n",
       "      <td>438.000000</td>\n",
       "      <td>24.500000</td>\n",
       "      <td>62.500000</td>\n",
       "      <td>6.0</td>\n",
       "      <td>0.0</td>\n",
       "      <td>1.0</td>\n",
       "      <td>2017.0</td>\n",
       "      <td>1.0</td>\n",
       "      <td>10.0</td>\n",
       "      <td>4.6000</td>\n",
       "      <td>1.3950</td>\n",
       "    </tr>\n",
       "    <tr>\n",
       "      <td>1</td>\n",
       "      <td>2017-01-01 01:00:00</td>\n",
       "      <td>198.000000</td>\n",
       "      <td>248.000000</td>\n",
       "      <td>442.000000</td>\n",
       "      <td>24.000000</td>\n",
       "      <td>58.000000</td>\n",
       "      <td>6.0</td>\n",
       "      <td>1.0</td>\n",
       "      <td>1.0</td>\n",
       "      <td>2017.0</td>\n",
       "      <td>1.0</td>\n",
       "      <td>10.0</td>\n",
       "      <td>5.1750</td>\n",
       "      <td>1.3950</td>\n",
       "    </tr>\n",
       "    <tr>\n",
       "      <td>2</td>\n",
       "      <td>2017-01-01 02:00:00</td>\n",
       "      <td>195.500000</td>\n",
       "      <td>245.500000</td>\n",
       "      <td>436.500000</td>\n",
       "      <td>24.000000</td>\n",
       "      <td>54.000000</td>\n",
       "      <td>6.0</td>\n",
       "      <td>2.0</td>\n",
       "      <td>1.0</td>\n",
       "      <td>2017.0</td>\n",
       "      <td>1.0</td>\n",
       "      <td>5.0</td>\n",
       "      <td>2.5875</td>\n",
       "      <td>1.0075</td>\n",
       "    </tr>\n",
       "    <tr>\n",
       "      <td>3</td>\n",
       "      <td>2017-01-01 03:00:00</td>\n",
       "      <td>144.666667</td>\n",
       "      <td>209.666667</td>\n",
       "      <td>425.666667</td>\n",
       "      <td>22.333333</td>\n",
       "      <td>56.000000</td>\n",
       "      <td>6.0</td>\n",
       "      <td>3.0</td>\n",
       "      <td>1.0</td>\n",
       "      <td>2017.0</td>\n",
       "      <td>1.0</td>\n",
       "      <td>0.0</td>\n",
       "      <td>0.0000</td>\n",
       "      <td>1.1200</td>\n",
       "    </tr>\n",
       "    <tr>\n",
       "      <td>4</td>\n",
       "      <td>2017-01-01 04:00:00</td>\n",
       "      <td>133.666667</td>\n",
       "      <td>196.000000</td>\n",
       "      <td>416.000000</td>\n",
       "      <td>22.333333</td>\n",
       "      <td>53.666667</td>\n",
       "      <td>6.0</td>\n",
       "      <td>4.0</td>\n",
       "      <td>1.0</td>\n",
       "      <td>2017.0</td>\n",
       "      <td>1.0</td>\n",
       "      <td>5.0</td>\n",
       "      <td>2.3000</td>\n",
       "      <td>1.1775</td>\n",
       "    </tr>\n",
       "  </tbody>\n",
       "</table>\n",
       "</div>"
      ],
      "text/plain": [
       "              datetime       PM2.5       USAQI         CO2  Temperature  \\\n",
       "0  2017-01-01 00:00:00  210.500000  260.500000  438.000000    24.500000   \n",
       "1  2017-01-01 01:00:00  198.000000  248.000000  442.000000    24.000000   \n",
       "2  2017-01-01 02:00:00  195.500000  245.500000  436.500000    24.000000   \n",
       "3  2017-01-01 03:00:00  144.666667  209.666667  425.666667    22.333333   \n",
       "4  2017-01-01 04:00:00  133.666667  196.000000  416.000000    22.333333   \n",
       "\n",
       "   RelativeHumidity  weekday  hour  month    year  dayofmonth  drct    sped  \\\n",
       "0         62.500000      6.0   0.0    1.0  2017.0         1.0  10.0  4.6000   \n",
       "1         58.000000      6.0   1.0    1.0  2017.0         1.0  10.0  5.1750   \n",
       "2         54.000000      6.0   2.0    1.0  2017.0         1.0   5.0  2.5875   \n",
       "3         56.000000      6.0   3.0    1.0  2017.0         1.0   0.0  0.0000   \n",
       "4         53.666667      6.0   4.0    1.0  2017.0         1.0   5.0  2.3000   \n",
       "\n",
       "     vsby  \n",
       "0  1.3950  \n",
       "1  1.3950  \n",
       "2  1.0075  \n",
       "3  1.1200  \n",
       "4  1.1775  "
      ]
     },
     "execution_count": 40,
     "metadata": {},
     "output_type": "execute_result"
    }
   ],
   "source": [
    "finalData.head()"
   ]
  },
  {
   "cell_type": "code",
   "execution_count": 41,
   "metadata": {
    "colab": {
     "base_uri": "https://localhost:8080/",
     "height": 34
    },
    "colab_type": "code",
    "id": "TfSr58TbY5y9",
    "outputId": "67338b29-0abe-4ccd-a1eb-0b7dcd85b9d3"
   },
   "outputs": [
    {
     "data": {
      "text/plain": [
       "8"
      ]
     },
     "execution_count": 41,
     "metadata": {},
     "output_type": "execute_result"
    }
   ],
   "source": [
    "len(finalData[finalData.year == 2017].month.unique()) #no of months in 2017\n",
    "len(finalData[finalData.year == 2018].month.unique()) #no of months in 2018"
   ]
  },
  {
   "cell_type": "code",
   "execution_count": 42,
   "metadata": {
    "colab": {
     "base_uri": "https://localhost:8080/",
     "height": 663
    },
    "colab_type": "code",
    "id": "Pcy-9P4XY5zM",
    "outputId": "f88c6e35-b5f9-4b0e-b526-3fdc9daad5a7"
   },
   "outputs": [
    {
     "name": "stdout",
     "output_type": "stream",
     "text": [
      "<class 'pandas.core.frame.DataFrame'>\n",
      "Int64Index: 8760 entries, 0 to 8759\n",
      "Data columns (total 14 columns):\n",
      "datetime            8760 non-null object\n",
      "PM2.5               8760 non-null float64\n",
      "USAQI               8760 non-null float64\n",
      "CO2                 8760 non-null float64\n",
      "Temperature         8760 non-null float64\n",
      "RelativeHumidity    8760 non-null float64\n",
      "weekday             8760 non-null float64\n",
      "hour                8760 non-null float64\n",
      "month               8760 non-null float64\n",
      "year                8760 non-null float64\n",
      "dayofmonth          8760 non-null float64\n",
      "drct                8760 non-null float64\n",
      "sped                8760 non-null float64\n",
      "vsby                8760 non-null float64\n",
      "dtypes: float64(13), object(1)\n",
      "memory usage: 1.0+ MB\n",
      "<class 'pandas.core.frame.DataFrame'>\n",
      "Int64Index: 5832 entries, 8760 to 14591\n",
      "Data columns (total 14 columns):\n",
      "datetime            5832 non-null object\n",
      "PM2.5               5832 non-null float64\n",
      "USAQI               5832 non-null float64\n",
      "CO2                 5832 non-null float64\n",
      "Temperature         5832 non-null float64\n",
      "RelativeHumidity    5832 non-null float64\n",
      "weekday             5832 non-null float64\n",
      "hour                5832 non-null float64\n",
      "month               5832 non-null float64\n",
      "year                5832 non-null float64\n",
      "dayofmonth          5832 non-null float64\n",
      "drct                5832 non-null float64\n",
      "sped                5832 non-null float64\n",
      "vsby                5832 non-null float64\n",
      "dtypes: float64(13), object(1)\n",
      "memory usage: 683.4+ KB\n"
     ]
    }
   ],
   "source": [
    "finalData[finalData.year == 2017].info() #no of values in 2017\n",
    "finalData[finalData.year == 2018].info() #no of values in 2018"
   ]
  },
  {
   "cell_type": "code",
   "execution_count": 43,
   "metadata": {
    "colab": {
     "base_uri": "https://localhost:8080/",
     "height": 1000
    },
    "colab_type": "code",
    "id": "iI_rk5-vY5zX",
    "outputId": "4873a02a-6cb9-4201-ba7e-aa9a462ef1a7"
   },
   "outputs": [
    {
     "name": "stdout",
     "output_type": "stream",
     "text": [
      "<class 'pandas.core.frame.DataFrame'>\n",
      "RangeIndex: 11520 entries, 0 to 11519\n",
      "Data columns (total 14 columns):\n",
      "datetime            11520 non-null object\n",
      "PM2.5               11520 non-null float64\n",
      "USAQI               11520 non-null float64\n",
      "CO2                 11520 non-null float64\n",
      "Temperature         11520 non-null float64\n",
      "RelativeHumidity    11520 non-null float64\n",
      "weekday             11520 non-null float64\n",
      "hour                11520 non-null float64\n",
      "month               11520 non-null float64\n",
      "year                11520 non-null float64\n",
      "dayofmonth          11520 non-null float64\n",
      "drct                11520 non-null float64\n",
      "sped                11520 non-null float64\n",
      "vsby                11520 non-null float64\n",
      "dtypes: float64(13), object(1)\n",
      "memory usage: 1.2+ MB\n",
      "<class 'pandas.core.frame.DataFrame'>\n",
      "RangeIndex: 3072 entries, 11520 to 14591\n",
      "Data columns (total 14 columns):\n",
      "datetime            3072 non-null object\n",
      "PM2.5               3072 non-null float64\n",
      "USAQI               3072 non-null float64\n",
      "CO2                 3072 non-null float64\n",
      "Temperature         3072 non-null float64\n",
      "RelativeHumidity    3072 non-null float64\n",
      "weekday             3072 non-null float64\n",
      "hour                3072 non-null float64\n",
      "month               3072 non-null float64\n",
      "year                3072 non-null float64\n",
      "dayofmonth          3072 non-null float64\n",
      "drct                3072 non-null float64\n",
      "sped                3072 non-null float64\n",
      "vsby                3072 non-null float64\n",
      "dtypes: float64(13), object(1)\n",
      "memory usage: 336.1+ KB\n"
     ]
    },
    {
     "data": {
      "text/html": [
       "<div>\n",
       "<style scoped>\n",
       "    .dataframe tbody tr th:only-of-type {\n",
       "        vertical-align: middle;\n",
       "    }\n",
       "\n",
       "    .dataframe tbody tr th {\n",
       "        vertical-align: top;\n",
       "    }\n",
       "\n",
       "    .dataframe thead th {\n",
       "        text-align: right;\n",
       "    }\n",
       "</style>\n",
       "<table border=\"1\" class=\"dataframe\">\n",
       "  <thead>\n",
       "    <tr style=\"text-align: right;\">\n",
       "      <th></th>\n",
       "      <th>datetime</th>\n",
       "      <th>PM2.5</th>\n",
       "      <th>USAQI</th>\n",
       "      <th>CO2</th>\n",
       "      <th>Temperature</th>\n",
       "      <th>RelativeHumidity</th>\n",
       "      <th>weekday</th>\n",
       "      <th>hour</th>\n",
       "      <th>month</th>\n",
       "      <th>year</th>\n",
       "      <th>dayofmonth</th>\n",
       "      <th>drct</th>\n",
       "      <th>sped</th>\n",
       "      <th>vsby</th>\n",
       "    </tr>\n",
       "  </thead>\n",
       "  <tbody>\n",
       "    <tr>\n",
       "      <td>14587</td>\n",
       "      <td>2018-08-31 19:00:00</td>\n",
       "      <td>26.571429</td>\n",
       "      <td>79.142857</td>\n",
       "      <td>506.000000</td>\n",
       "      <td>26.857143</td>\n",
       "      <td>80.571429</td>\n",
       "      <td>4.0</td>\n",
       "      <td>19.0</td>\n",
       "      <td>8.0</td>\n",
       "      <td>2018.0</td>\n",
       "      <td>31.0</td>\n",
       "      <td>150.000000</td>\n",
       "      <td>7.762500</td>\n",
       "      <td>2.800000</td>\n",
       "    </tr>\n",
       "    <tr>\n",
       "      <td>14588</td>\n",
       "      <td>2018-08-31 20:00:00</td>\n",
       "      <td>26.571429</td>\n",
       "      <td>78.571429</td>\n",
       "      <td>475.428571</td>\n",
       "      <td>26.857143</td>\n",
       "      <td>82.000000</td>\n",
       "      <td>4.0</td>\n",
       "      <td>20.0</td>\n",
       "      <td>8.0</td>\n",
       "      <td>2018.0</td>\n",
       "      <td>31.0</td>\n",
       "      <td>201.250000</td>\n",
       "      <td>8.768750</td>\n",
       "      <td>2.955000</td>\n",
       "    </tr>\n",
       "    <tr>\n",
       "      <td>14589</td>\n",
       "      <td>2018-08-31 21:00:00</td>\n",
       "      <td>26.000000</td>\n",
       "      <td>76.857143</td>\n",
       "      <td>457.714286</td>\n",
       "      <td>26.857143</td>\n",
       "      <td>82.142857</td>\n",
       "      <td>4.0</td>\n",
       "      <td>21.0</td>\n",
       "      <td>8.0</td>\n",
       "      <td>2018.0</td>\n",
       "      <td>31.0</td>\n",
       "      <td>196.666667</td>\n",
       "      <td>7.283333</td>\n",
       "      <td>3.006667</td>\n",
       "    </tr>\n",
       "    <tr>\n",
       "      <td>14590</td>\n",
       "      <td>2018-08-31 22:00:00</td>\n",
       "      <td>25.714286</td>\n",
       "      <td>75.857143</td>\n",
       "      <td>447.000000</td>\n",
       "      <td>26.857143</td>\n",
       "      <td>83.285714</td>\n",
       "      <td>4.0</td>\n",
       "      <td>22.0</td>\n",
       "      <td>8.0</td>\n",
       "      <td>2018.0</td>\n",
       "      <td>31.0</td>\n",
       "      <td>174.285714</td>\n",
       "      <td>7.064286</td>\n",
       "      <td>3.021429</td>\n",
       "    </tr>\n",
       "    <tr>\n",
       "      <td>14591</td>\n",
       "      <td>2018-08-31 23:00:00</td>\n",
       "      <td>24.142857</td>\n",
       "      <td>72.571429</td>\n",
       "      <td>440.285714</td>\n",
       "      <td>26.857143</td>\n",
       "      <td>83.285714</td>\n",
       "      <td>4.0</td>\n",
       "      <td>23.0</td>\n",
       "      <td>8.0</td>\n",
       "      <td>2018.0</td>\n",
       "      <td>31.0</td>\n",
       "      <td>174.000000</td>\n",
       "      <td>8.280000</td>\n",
       "      <td>2.986000</td>\n",
       "    </tr>\n",
       "  </tbody>\n",
       "</table>\n",
       "</div>"
      ],
      "text/plain": [
       "                  datetime      PM2.5      USAQI         CO2  Temperature  \\\n",
       "14587  2018-08-31 19:00:00  26.571429  79.142857  506.000000    26.857143   \n",
       "14588  2018-08-31 20:00:00  26.571429  78.571429  475.428571    26.857143   \n",
       "14589  2018-08-31 21:00:00  26.000000  76.857143  457.714286    26.857143   \n",
       "14590  2018-08-31 22:00:00  25.714286  75.857143  447.000000    26.857143   \n",
       "14591  2018-08-31 23:00:00  24.142857  72.571429  440.285714    26.857143   \n",
       "\n",
       "       RelativeHumidity  weekday  hour  month    year  dayofmonth        drct  \\\n",
       "14587         80.571429      4.0  19.0    8.0  2018.0        31.0  150.000000   \n",
       "14588         82.000000      4.0  20.0    8.0  2018.0        31.0  201.250000   \n",
       "14589         82.142857      4.0  21.0    8.0  2018.0        31.0  196.666667   \n",
       "14590         83.285714      4.0  22.0    8.0  2018.0        31.0  174.285714   \n",
       "14591         83.285714      4.0  23.0    8.0  2018.0        31.0  174.000000   \n",
       "\n",
       "           sped      vsby  \n",
       "14587  7.762500  2.800000  \n",
       "14588  8.768750  2.955000  \n",
       "14589  7.283333  3.006667  \n",
       "14590  7.064286  3.021429  \n",
       "14591  8.280000  2.986000  "
      ]
     },
     "execution_count": 43,
     "metadata": {},
     "output_type": "execute_result"
    }
   ],
   "source": [
    "#we have data for a total of 20 months, let's train (roughly) for 16 months, and test for the remaining 4.\n",
    "\n",
    "trainData = finalData[:30*16*24]\n",
    "testData = finalData[30*16*24:]\n",
    "trainData.info()\n",
    "testData.info()\n",
    "finalData.tail()"
   ]
  },
  {
   "cell_type": "code",
   "execution_count": 44,
   "metadata": {
    "colab": {
     "base_uri": "https://localhost:8080/",
     "height": 54
    },
    "colab_type": "code",
    "id": "5SqkIJ7tY5ze",
    "outputId": "d4627a7e-dcf6-4a10-aa96-4ed6025ccfd2"
   },
   "outputs": [
    {
     "data": {
      "text/plain": [
       "'\\nTrain = trainData.shape\\ntau = 5\\nfeatures = np.zeros((Train[0]-tau, tau*Train[1]-1))\\nfeatures = pd.DataFrame(features)\\nprint(features.shape)\\nfor i in range(tau):\\n    features[:, i*Train[1]:(i+1)*Train[1]] = trainData[i:Train[0]-tau]\\nprint(features)\\n'"
      ]
     },
     "execution_count": 44,
     "metadata": {},
     "output_type": "execute_result"
    }
   ],
   "source": [
    "\"\"\"\n",
    "Train = trainData.shape\n",
    "tau = 5\n",
    "features = np.zeros((Train[0]-tau, tau*Train[1]-1))\n",
    "features = pd.DataFrame(features)\n",
    "print(features.shape)\n",
    "for i in range(tau):\n",
    "    features[:, i*Train[1]:(i+1)*Train[1]] = trainData[i:Train[0]-tau]\n",
    "print(features)\n",
    "\"\"\""
   ]
  },
  {
   "cell_type": "code",
   "execution_count": 45,
   "metadata": {
    "colab": {},
    "colab_type": "code",
    "id": "Ehq2HzrJY5zp"
   },
   "outputs": [],
   "source": [
    "finalData.drop(\"datetime\", axis = 1, inplace = True)"
   ]
  },
  {
   "cell_type": "code",
   "execution_count": 46,
   "metadata": {
    "colab": {},
    "colab_type": "code",
    "id": "BjRqbAgKY5zy"
   },
   "outputs": [],
   "source": [
    "\n",
    "\n",
    "#finalData.drop(\"PM2.5\", axis = 1, inplace = True)"
   ]
  },
  {
   "cell_type": "code",
   "execution_count": 47,
   "metadata": {
    "colab": {},
    "colab_type": "code",
    "id": "qLfcyx-EY5z9"
   },
   "outputs": [],
   "source": [
    "mean = finalData.mean()\n",
    "min = finalData.min()\n",
    "max = finalData.max()\n",
    "finalData = finalData.apply(lambda x: (x - np.mean(x)) / (np.std(x)))"
   ]
  },
  {
   "cell_type": "code",
   "execution_count": 48,
   "metadata": {
    "colab": {
     "base_uri": "https://localhost:8080/",
     "height": 270
    },
    "colab_type": "code",
    "id": "TQpNZkIYY50O",
    "outputId": "6476f828-54da-41de-dc2b-b88e72d39191"
   },
   "outputs": [
    {
     "data": {
      "text/html": [
       "<div>\n",
       "<style scoped>\n",
       "    .dataframe tbody tr th:only-of-type {\n",
       "        vertical-align: middle;\n",
       "    }\n",
       "\n",
       "    .dataframe tbody tr th {\n",
       "        vertical-align: top;\n",
       "    }\n",
       "\n",
       "    .dataframe thead th {\n",
       "        text-align: right;\n",
       "    }\n",
       "</style>\n",
       "<table border=\"1\" class=\"dataframe\">\n",
       "  <thead>\n",
       "    <tr style=\"text-align: right;\">\n",
       "      <th></th>\n",
       "      <th>PM2.5(t-24)</th>\n",
       "      <th>USAQI(t-24)</th>\n",
       "      <th>CO2(t-24)</th>\n",
       "      <th>Temperature(t-24)</th>\n",
       "      <th>RelativeHumidity(t-24)</th>\n",
       "      <th>weekday(t-24)</th>\n",
       "      <th>hour(t-24)</th>\n",
       "      <th>month(t-24)</th>\n",
       "      <th>year(t-24)</th>\n",
       "      <th>dayofmonth(t-24)</th>\n",
       "      <th>...</th>\n",
       "      <th>Temperature(t-1)</th>\n",
       "      <th>RelativeHumidity(t-1)</th>\n",
       "      <th>weekday(t-1)</th>\n",
       "      <th>hour(t-1)</th>\n",
       "      <th>month(t-1)</th>\n",
       "      <th>year(t-1)</th>\n",
       "      <th>dayofmonth(t-1)</th>\n",
       "      <th>drct(t-1)</th>\n",
       "      <th>sped(t-1)</th>\n",
       "      <th>vsby(t-1)</th>\n",
       "    </tr>\n",
       "  </thead>\n",
       "  <tbody>\n",
       "    <tr>\n",
       "      <td>24</td>\n",
       "      <td>5.171740</td>\n",
       "      <td>3.738979</td>\n",
       "      <td>0.260616</td>\n",
       "      <td>-0.922449</td>\n",
       "      <td>-0.208203</td>\n",
       "      <td>1.498255</td>\n",
       "      <td>-1.661325</td>\n",
       "      <td>-1.479853</td>\n",
       "      <td>-0.815937</td>\n",
       "      <td>-1.672732</td>\n",
       "      <td>...</td>\n",
       "      <td>-1.487704</td>\n",
       "      <td>-0.915926</td>\n",
       "      <td>1.498255</td>\n",
       "      <td>1.661325</td>\n",
       "      <td>-1.479853</td>\n",
       "      <td>-0.815937</td>\n",
       "      <td>-1.672732</td>\n",
       "      <td>-2.357726</td>\n",
       "      <td>-1.802014</td>\n",
       "      <td>-3.152057</td>\n",
       "    </tr>\n",
       "    <tr>\n",
       "      <td>25</td>\n",
       "      <td>4.783023</td>\n",
       "      <td>3.436119</td>\n",
       "      <td>0.371624</td>\n",
       "      <td>-1.076610</td>\n",
       "      <td>-0.433009</td>\n",
       "      <td>1.498255</td>\n",
       "      <td>-1.516862</td>\n",
       "      <td>-1.479853</td>\n",
       "      <td>-0.815937</td>\n",
       "      <td>-1.672732</td>\n",
       "      <td>...</td>\n",
       "      <td>-1.693251</td>\n",
       "      <td>-0.915926</td>\n",
       "      <td>-1.501544</td>\n",
       "      <td>-1.661325</td>\n",
       "      <td>-1.479853</td>\n",
       "      <td>-0.815937</td>\n",
       "      <td>-1.559020</td>\n",
       "      <td>2.837529</td>\n",
       "      <td>-0.137187</td>\n",
       "      <td>-0.058608</td>\n",
       "    </tr>\n",
       "    <tr>\n",
       "      <td>26</td>\n",
       "      <td>4.705280</td>\n",
       "      <td>3.375547</td>\n",
       "      <td>0.218988</td>\n",
       "      <td>-1.076610</td>\n",
       "      <td>-0.632837</td>\n",
       "      <td>1.498255</td>\n",
       "      <td>-1.372399</td>\n",
       "      <td>-1.479853</td>\n",
       "      <td>-0.815937</td>\n",
       "      <td>-1.672732</td>\n",
       "      <td>...</td>\n",
       "      <td>-1.693251</td>\n",
       "      <td>-0.949230</td>\n",
       "      <td>-1.501544</td>\n",
       "      <td>-1.516862</td>\n",
       "      <td>-1.479853</td>\n",
       "      <td>-0.815937</td>\n",
       "      <td>-1.559020</td>\n",
       "      <td>0.239902</td>\n",
       "      <td>-0.414658</td>\n",
       "      <td>-1.210695</td>\n",
       "    </tr>\n",
       "    <tr>\n",
       "      <td>27</td>\n",
       "      <td>3.124499</td>\n",
       "      <td>2.507350</td>\n",
       "      <td>-0.081657</td>\n",
       "      <td>-1.590477</td>\n",
       "      <td>-0.532923</td>\n",
       "      <td>1.498255</td>\n",
       "      <td>-1.227936</td>\n",
       "      <td>-1.479853</td>\n",
       "      <td>-0.815937</td>\n",
       "      <td>-1.672732</td>\n",
       "      <td>...</td>\n",
       "      <td>-1.076610</td>\n",
       "      <td>-0.632837</td>\n",
       "      <td>1.498255</td>\n",
       "      <td>-1.372399</td>\n",
       "      <td>-1.479853</td>\n",
       "      <td>-0.815937</td>\n",
       "      <td>-1.672732</td>\n",
       "      <td>-2.285570</td>\n",
       "      <td>-1.177704</td>\n",
       "      <td>-2.735142</td>\n",
       "    </tr>\n",
       "    <tr>\n",
       "      <td>28</td>\n",
       "      <td>2.782428</td>\n",
       "      <td>2.176223</td>\n",
       "      <td>-0.349926</td>\n",
       "      <td>-1.590477</td>\n",
       "      <td>-0.649489</td>\n",
       "      <td>1.498255</td>\n",
       "      <td>-1.083473</td>\n",
       "      <td>-1.479853</td>\n",
       "      <td>-0.815937</td>\n",
       "      <td>-1.672732</td>\n",
       "      <td>...</td>\n",
       "      <td>-1.590477</td>\n",
       "      <td>-0.532923</td>\n",
       "      <td>1.498255</td>\n",
       "      <td>-1.227936</td>\n",
       "      <td>-1.479853</td>\n",
       "      <td>-0.815937</td>\n",
       "      <td>-1.672732</td>\n",
       "      <td>-2.357726</td>\n",
       "      <td>-1.802014</td>\n",
       "      <td>-2.591926</td>\n",
       "    </tr>\n",
       "  </tbody>\n",
       "</table>\n",
       "<p>5 rows × 312 columns</p>\n",
       "</div>"
      ],
      "text/plain": [
       "    PM2.5(t-24)  USAQI(t-24)  CO2(t-24)  Temperature(t-24)  \\\n",
       "24     5.171740     3.738979   0.260616          -0.922449   \n",
       "25     4.783023     3.436119   0.371624          -1.076610   \n",
       "26     4.705280     3.375547   0.218988          -1.076610   \n",
       "27     3.124499     2.507350  -0.081657          -1.590477   \n",
       "28     2.782428     2.176223  -0.349926          -1.590477   \n",
       "\n",
       "    RelativeHumidity(t-24)  weekday(t-24)  hour(t-24)  month(t-24)  \\\n",
       "24               -0.208203       1.498255   -1.661325    -1.479853   \n",
       "25               -0.433009       1.498255   -1.516862    -1.479853   \n",
       "26               -0.632837       1.498255   -1.372399    -1.479853   \n",
       "27               -0.532923       1.498255   -1.227936    -1.479853   \n",
       "28               -0.649489       1.498255   -1.083473    -1.479853   \n",
       "\n",
       "    year(t-24)  dayofmonth(t-24)  ...  Temperature(t-1)  \\\n",
       "24   -0.815937         -1.672732  ...         -1.487704   \n",
       "25   -0.815937         -1.672732  ...         -1.693251   \n",
       "26   -0.815937         -1.672732  ...         -1.693251   \n",
       "27   -0.815937         -1.672732  ...         -1.076610   \n",
       "28   -0.815937         -1.672732  ...         -1.590477   \n",
       "\n",
       "    RelativeHumidity(t-1)  weekday(t-1)  hour(t-1)  month(t-1)  year(t-1)  \\\n",
       "24              -0.915926      1.498255   1.661325   -1.479853  -0.815937   \n",
       "25              -0.915926     -1.501544  -1.661325   -1.479853  -0.815937   \n",
       "26              -0.949230     -1.501544  -1.516862   -1.479853  -0.815937   \n",
       "27              -0.632837      1.498255  -1.372399   -1.479853  -0.815937   \n",
       "28              -0.532923      1.498255  -1.227936   -1.479853  -0.815937   \n",
       "\n",
       "    dayofmonth(t-1)  drct(t-1)  sped(t-1)  vsby(t-1)  \n",
       "24        -1.672732  -2.357726  -1.802014  -3.152057  \n",
       "25        -1.559020   2.837529  -0.137187  -0.058608  \n",
       "26        -1.559020   0.239902  -0.414658  -1.210695  \n",
       "27        -1.672732  -2.285570  -1.177704  -2.735142  \n",
       "28        -1.672732  -2.357726  -1.802014  -2.591926  \n",
       "\n",
       "[5 rows x 312 columns]"
      ]
     },
     "metadata": {},
     "output_type": "display_data"
    }
   ],
   "source": [
    "hrs = 24\n",
    "\n",
    "name = list(finalData.columns)\n",
    "cols, names = list(), list()\n",
    "for i in range(hrs, 0, -1): #24 times steps\n",
    "    cols.append(finalData.shift(i))\n",
    "    names += [('%s(t-%d)' % (name[j], i)) for j in range(finalData.shape[1])]\n",
    "#cols.append(finalData.shift(-i))\n",
    "#names += [('%s(t)' % (name[j])) for j in range(finalData.shape[1])]\n",
    "finalDataset = pd.concat(cols, axis=1)\n",
    "finalDataset.columns = names\n",
    "finalDataset = finalDataset[hrs:]\n",
    "labels = finalData[\"PM2.5\"]\n",
    "display(finalDataset.head())\n",
    "#labels = finalDataset[\"PM2.5(t)\"]\n",
    "#finalDataset.drop(\"PM2.5(t)\", axis = 1, inplace = True)\n",
    "#display(finalDataset)"
   ]
  },
  {
   "cell_type": "code",
   "execution_count": 49,
   "metadata": {
    "colab": {},
    "colab_type": "code",
    "id": "sjBOU1lsY50Z"
   },
   "outputs": [],
   "source": [
    "#finalDataset = finalDataset[:8000]\n",
    "finalDataset.reset_index(drop = True)\n",
    "finalDataset = finalDataset[:-1]\n",
    "labels = labels[hrs:-1]\n",
    "#we have data for a total of 20 months, let's train (roughly) for 16 months, and test for the remaining 4.\n",
    "trainDataX = finalDataset[:30*16*24]\n",
    "testDataX = finalDataset[30*16*24:]\n",
    "trainDataY = labels[:30*16*24]\n",
    "testDataY = labels[30*16*24:]\n",
    "\n",
    "#trainData.info()\n",
    "#testData.info()\n"
   ]
  },
  {
   "cell_type": "code",
   "execution_count": 50,
   "metadata": {
    "colab": {
     "base_uri": "https://localhost:8080/",
     "height": 102
    },
    "colab_type": "code",
    "id": "ywpeiQ-9Y50h",
    "outputId": "5f701569-8ea8-43c0-d77b-637befcd887f"
   },
   "outputs": [
    {
     "name": "stdout",
     "output_type": "stream",
     "text": [
      "<class 'pandas.core.frame.DataFrame'>\n",
      "RangeIndex: 14567 entries, 24 to 14590\n",
      "Columns: 312 entries, PM2.5(t-24) to vsby(t-1)\n",
      "dtypes: float64(312)\n",
      "memory usage: 34.7 MB\n"
     ]
    }
   ],
   "source": [
    "finalDataset.info()"
   ]
  },
  {
   "cell_type": "code",
   "execution_count": 51,
   "metadata": {
    "colab": {},
    "colab_type": "code",
    "id": "jHeDf7qqY50t"
   },
   "outputs": [],
   "source": [
    "from mxnet import nd\n",
    "finalDataset = nd.array(finalDataset).reshape(-1, hrs, 13)\n",
    "trainDataX = nd.array(trainDataX).reshape(-1, hrs, 13)\n",
    "testDataX = nd.array(testDataX).reshape(-1, hrs, 13)"
   ]
  },
  {
   "cell_type": "code",
   "execution_count": 52,
   "metadata": {
    "colab": {},
    "colab_type": "code",
    "id": "Z9hr7zlJY501"
   },
   "outputs": [],
   "source": [
    "trainDataY = nd.array(trainDataY)\n",
    "testDataY = nd.array(testDataY)"
   ]
  },
  {
   "cell_type": "code",
   "execution_count": 79,
   "metadata": {
    "colab": {},
    "colab_type": "code",
    "id": "vxaa0k0hY51F"
   },
   "outputs": [],
   "source": [
    "model = mxnet.gluon.nn.Sequential()\n",
    "model.add(mxnet.gluon.rnn.GRU(51, 1))\n",
    "#model.add(mxnet.gluon.rnn.GRU(50, 1))\n",
    "#model.add(mxnet.gluon.rnn.GRU(48, 1))\n",
    "model.add(mxnet.gluon.nn.Dense(1, activation='tanh'))\n",
    "\n",
    "model.initialize(mxnet.init.Xavier())\n",
    "\n",
    "trainer = mxnet.gluon.Trainer(\n",
    "    params=model.collect_params(),\n",
    "    optimizer='adam',\n",
    "    optimizer_params={'learning_rate': 0.0005}\n",
    ")"
   ]
  },
  {
   "cell_type": "code",
   "execution_count": 80,
   "metadata": {
    "colab": {},
    "colab_type": "code",
    "id": "ZdiBgD9pY51b"
   },
   "outputs": [],
   "source": [
    "loss = mxnet.gluon.loss.L2Loss()\n",
    "error = mxnet.metric.MSE()"
   ]
  },
  {
   "cell_type": "code",
   "execution_count": 81,
   "metadata": {
    "colab": {
     "base_uri": "https://localhost:8080/",
     "height": 187
    },
    "colab_type": "code",
    "id": "2noDKSHjY51w",
    "outputId": "37ecac2c-34e0-4f55-ec38-25a780fd938b"
   },
   "outputs": [
    {
     "name": "stdout",
     "output_type": "stream",
     "text": [
      "epoch: 1 | trn_loss: 0.46189108\n",
      "epoch: 2 | trn_loss: 0.43657336\n",
      "epoch: 3 | trn_loss: 0.42979002\n",
      "epoch: 4 | trn_loss: 0.42694262\n",
      "epoch: 5 | trn_loss: 0.42526534\n",
      "epoch: 6 | trn_loss: 0.42413381\n",
      "epoch: 7 | trn_loss: 0.42359501\n",
      "epoch: 8 | trn_loss: 0.42299584\n",
      "epoch: 9 | trn_loss: 0.42247358\n",
      "epoch: 10 | trn_loss: 0.42229193\n"
     ]
    }
   ],
   "source": [
    "epochs = 10\n",
    "trainingLoss = []\n",
    "batch_size = 4\n",
    "train_iter = mxnet.io.NDArrayIter(trainDataX, trainDataY, batch_size, shuffle=False)\n",
    "for epoch in range(epochs):\n",
    "    for trn_batch in train_iter:\n",
    "        x = trn_batch.data[0]\n",
    "        y = trn_batch.label[0]\n",
    "        \n",
    "        with mxnet.autograd.record():\n",
    "            y_pred = model(x)\n",
    "            im_loss = loss(y_pred, y)\n",
    "        \n",
    "        #backprop\n",
    "        im_loss.backward()\n",
    "        \n",
    "        #Optimize!\n",
    "        trainer.step(batch_size=batch_size)\n",
    "        \n",
    "    train_iter.reset()\n",
    "    \n",
    "    # Calculate train metrics\n",
    "    \n",
    "    predictions = model(trainDataX)\n",
    "    error.update(trainDataY, predictions)\n",
    "    trainingLoss.append(error.get()[1])\n",
    "    error.reset()\n",
    "    \n",
    "    train_iter.reset()\n",
    "    \n",
    "    print(\"epoch: {} | trn_loss: {:.8f}\".format(epoch+1,\n",
    "                                                trainingLoss[-1]))\n"
   ]
  },
  {
   "cell_type": "code",
   "execution_count": 82,
   "metadata": {
    "colab": {
     "base_uri": "https://localhost:8080/",
     "height": 119
    },
    "colab_type": "code",
    "id": "zmMZHjfxY52S",
    "outputId": "bf14a20d-5f17-4879-be07-4d138727dead"
   },
   "outputs": [
    {
     "name": "stdout",
     "output_type": "stream",
     "text": [
      "\n",
      "[[-0.3866511 ]\n",
      " [-0.40280646]\n",
      " [-0.32704785]\n",
      " [-0.21005605]]\n",
      "<NDArray 4x1 @cpu(0)>\n"
     ]
    }
   ],
   "source": [
    "print(y_pred)"
   ]
  },
  {
   "cell_type": "code",
   "execution_count": 92,
   "metadata": {
    "colab": {
     "base_uri": "https://localhost:8080/",
     "height": 282
    },
    "colab_type": "code",
    "id": "zDy0tH_KY52b",
    "outputId": "31c5a71d-473d-4aad-e0a3-21be93106a62"
   },
   "outputs": [
    {
     "data": {
      "text/plain": [
       "<matplotlib.legend.Legend at 0x14d10a81e48>"
      ]
     },
     "execution_count": 92,
     "metadata": {},
     "output_type": "execute_result"
    },
    {
     "data": {
      "image/png": "[encoded data removed]",
      "text/plain": [
       "<Figure size 432x288 with 1 Axes>"
      ]
     },
     "metadata": {
      "needs_background": "light"
     },
     "output_type": "display_data"
    }
   ],
   "source": [
    "predictions = model(testDataX)\n",
    "plt.plot(testDataY[:100].asnumpy(), label = 'actual')\n",
    "plt.plot(predictions[:100].asnumpy())\n",
    "plt.legend()\n"
   ]
  },
  {
   "cell_type": "code",
   "execution_count": 93,
   "metadata": {
    "colab": {},
    "colab_type": "code",
    "id": "PI5ZlT6SY52j"
   },
   "outputs": [],
   "source": [
    "testDataX2 = testDataX.copy()\n",
    "y_pred2 = []\n",
    "\n",
    "for i in range(len(testDataX2)):\n",
    "    data = testDataX2[i]\n",
    "    shape = data.shape\n",
    "    shape = (1, ) + shape\n",
    "    y = model(data.reshape(*shape))\n",
    "    y_pred2.append(y.reshape(1).asscalar())\n",
    "    for j in range(1, np.min([hrs, len(testDataX2) - i - 1]) + 1):\n",
    "        testDataX2[i + j][-j][0] = y.reshape(1)\n",
    "\n",
    "y_pred2 = np.array(y_pred2)"
   ]
  },
  {
   "cell_type": "code",
   "execution_count": 95,
   "metadata": {
    "colab": {
     "base_uri": "https://localhost:8080/",
     "height": 282
    },
    "colab_type": "code",
    "id": "vrXmoZSmZzEk",
    "outputId": "14224d6a-a83c-44c3-c0ff-f84534210f39"
   },
   "outputs": [
    {
     "data": {
      "image/png": "[encoded data removed]",
      "text/plain": [
       "<Figure size 432x288 with 1 Axes>"
      ]
     },
     "metadata": {
      "needs_background": "light"
     },
     "output_type": "display_data"
    }
   ],
   "source": [
    "plt.plot(testDataY[0:100].asnumpy(), label = 'actual')\n",
    "plt.plot(y_pred2[0:100])\n",
    "plt.legend()\n",
    "plt.savefig('gru_prediction_100.png')"
   ]
  },
  {
   "cell_type": "code",
   "execution_count": null,
   "metadata": {
    "colab": {},
    "colab_type": "code",
    "id": "8Dqksyy6bXhq"
   },
   "outputs": [],
   "source": []
  },
  {
   "cell_type": "code",
   "execution_count": null,
   "metadata": {},
   "outputs": [],
   "source": []
  }
 ],
 "metadata": {
  "colab": {
   "name": "gruLOL.ipynb",
   "provenance": []
  },
  "kernelspec": {
   "display_name": "Python 3",
   "language": "python",
   "name": "python3"
  },
  "language_info": {
   "codemirror_mode": {
    "name": "ipython",
    "version": 3
   },
   "file_extension": ".py",
   "mimetype": "text/x-python",
   "name": "python",
   "nbconvert_exporter": "python",
   "pygments_lexer": "ipython3",
   "version": "3.7.4"
  }
 },
 "nbformat": 4,
 "nbformat_minor": 1
}
